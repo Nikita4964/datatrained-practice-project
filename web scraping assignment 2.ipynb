{
 "cells": [
  {
   "cell_type": "markdown",
   "id": "3f1d2f0b",
   "metadata": {},
   "source": [
    "# que 1 Write a python program to scrape data for “Data Analyst” Job position in“Bangalore” location. You have to scrape the job-title, job-location, company_name,experience_required. You have to scrape first 10 jobs data"
   ]
  },
  {
   "cell_type": "code",
   "execution_count": 1,
   "id": "e1b91bf3",
   "metadata": {},
   "outputs": [
    {
     "name": "stdout",
     "output_type": "stream",
     "text": [
      "Collecting selenium\n",
      "  Downloading selenium-3.141.0-py2.py3-none-any.whl (904 kB)\n",
      "Requirement already satisfied: urllib3 in c:\\users\\admin\\anaconda3\\lib\\site-packages (from selenium) (1.26.4)\n",
      "Installing collected packages: selenium\n",
      "Successfully installed selenium-3.141.0\n"
     ]
    }
   ],
   "source": [
    "!pip install selenium"
   ]
  },
  {
   "cell_type": "code",
   "execution_count": 2,
   "id": "dee65c77",
   "metadata": {},
   "outputs": [
    {
     "name": "stdout",
     "output_type": "stream",
     "text": [
      "Requirement already satisfied: pandas in c:\\users\\admin\\anaconda3\\lib\\site-packages (1.2.4)\n",
      "Requirement already satisfied: pytz>=2017.3 in c:\\users\\admin\\anaconda3\\lib\\site-packages (from pandas) (2021.1)\n",
      "Requirement already satisfied: numpy>=1.16.5 in c:\\users\\admin\\anaconda3\\lib\\site-packages (from pandas) (1.20.1)\n",
      "Requirement already satisfied: python-dateutil>=2.7.3 in c:\\users\\admin\\anaconda3\\lib\\site-packages (from pandas) (2.8.1)\n",
      "Requirement already satisfied: six>=1.5 in c:\\users\\admin\\anaconda3\\lib\\site-packages (from python-dateutil>=2.7.3->pandas) (1.15.0)\n"
     ]
    }
   ],
   "source": [
    "!pip install pandas"
   ]
  },
  {
   "cell_type": "code",
   "execution_count": 98,
   "id": "2d733406",
   "metadata": {},
   "outputs": [],
   "source": [
    "import pandas as pd\n",
    "import selenium\n",
    "from selenium import webdriver"
   ]
  },
  {
   "cell_type": "code",
   "execution_count": 99,
   "id": "f12747d0",
   "metadata": {},
   "outputs": [],
   "source": [
    "driver=webdriver.Chrome('chromedriver.exe')"
   ]
  },
  {
   "cell_type": "code",
   "execution_count": 100,
   "id": "13079f29",
   "metadata": {},
   "outputs": [],
   "source": [
    "url=\"https://www.naukri.com/\""
   ]
  },
  {
   "cell_type": "code",
   "execution_count": 101,
   "id": "b523fa5d",
   "metadata": {},
   "outputs": [],
   "source": [
    "driver.get(url)"
   ]
  },
  {
   "cell_type": "code",
   "execution_count": 102,
   "id": "64fa65eb",
   "metadata": {},
   "outputs": [
    {
     "data": {
      "text/plain": [
       "<selenium.webdriver.remote.webelement.WebElement (session=\"3142fc76d49c8b0dac7f74f924e024a0\", element=\"b41b244d-e49e-4ca2-b7bc-49494c358067\")>"
      ]
     },
     "execution_count": 102,
     "metadata": {},
     "output_type": "execute_result"
    }
   ],
   "source": [
    "search_job=driver.find_element_by_id(\"qsb-keyword-sugg\")\n",
    "search_job"
   ]
  },
  {
   "cell_type": "code",
   "execution_count": 103,
   "id": "3f62098c",
   "metadata": {},
   "outputs": [],
   "source": [
    "search_job.send_keys(\"Data Analyst\")"
   ]
  },
  {
   "cell_type": "code",
   "execution_count": 104,
   "id": "66a2dc29",
   "metadata": {},
   "outputs": [
    {
     "data": {
      "text/plain": [
       "<selenium.webdriver.remote.webelement.WebElement (session=\"3142fc76d49c8b0dac7f74f924e024a0\", element=\"b33392c8-7d9f-46de-9dc5-223036c311c8\")>"
      ]
     },
     "execution_count": 104,
     "metadata": {},
     "output_type": "execute_result"
    }
   ],
   "source": [
    "search_loc=driver.find_element_by_id(\"qsb-location-sugg\")\n",
    "search_loc"
   ]
  },
  {
   "cell_type": "code",
   "execution_count": 105,
   "id": "7e79cf96",
   "metadata": {},
   "outputs": [],
   "source": [
    "search_loc.send_keys(\"Bangalore\")"
   ]
  },
  {
   "cell_type": "code",
   "execution_count": 106,
   "id": "4fdf7008",
   "metadata": {},
   "outputs": [],
   "source": [
    "search_btn=driver.find_element_by_xpath(\"//button[@class='btn']\")\n",
    "search_btn.click()"
   ]
  },
  {
   "cell_type": "code",
   "execution_count": 107,
   "id": "2157f928",
   "metadata": {},
   "outputs": [],
   "source": [
    "# job title\n",
    "title_tags=driver.find_elements_by_xpath(\"//a[@class='title fw500 ellipsis']\")\n",
    "job_title= [] #empty list\n",
    "for i in title_tags:\n",
    "    job_title.append(i.text)"
   ]
  },
  {
   "cell_type": "code",
   "execution_count": 108,
   "id": "c5d4b5a3",
   "metadata": {},
   "outputs": [
    {
     "data": {
      "text/plain": [
       "['Data Scientist / Data Analyst -Business Analyst',\n",
       " 'Data Analyst - Informatica MDM',\n",
       " 'Assistant Vice President - MIS & Reporting ( Business Data Analyst)',\n",
       " 'Data Analyst',\n",
       " 'Data Analyst',\n",
       " 'Data Analyst',\n",
       " 'Data Analyst',\n",
       " 'Data Analyst',\n",
       " 'Data analyst - Google Analytics',\n",
       " 'Senior/Regular Business Analyst / Data Analyst',\n",
       " 'Data Analyst',\n",
       " 'Hiring For Data Analyst @ Flipkart on Contract',\n",
       " 'Senior Data Analyst',\n",
       " 'Data Analyst',\n",
       " 'Cybersecurity Data Analyst',\n",
       " 'Business Data Analyst - MIS & Reporting',\n",
       " 'Data Analyst / Business Analyst -',\n",
       " 'Business Data Analyst',\n",
       " 'Data Analyst',\n",
       " 'Data Analyst']"
      ]
     },
     "execution_count": 108,
     "metadata": {},
     "output_type": "execute_result"
    }
   ],
   "source": [
    "job_title"
   ]
  },
  {
   "cell_type": "code",
   "execution_count": 113,
   "id": "bde2860b",
   "metadata": {},
   "outputs": [
    {
     "data": {
      "text/plain": [
       "20"
      ]
     },
     "execution_count": 113,
     "metadata": {},
     "output_type": "execute_result"
    }
   ],
   "source": [
    "len(job_title)"
   ]
  },
  {
   "cell_type": "code",
   "execution_count": 110,
   "id": "bc351239",
   "metadata": {},
   "outputs": [],
   "source": [
    "# job location\n",
    "\n",
    "location_tags=driver.find_elements_by_xpath(\"//li[@class='fleft grey-text br2 placeHolderLi location']\")\n",
    "job_location= [] #empty list\n",
    "for i in location_tags:\n",
    "    job_location.append(i.text)"
   ]
  },
  {
   "cell_type": "code",
   "execution_count": 111,
   "id": "8245d349",
   "metadata": {},
   "outputs": [
    {
     "data": {
      "text/plain": [
       "['Mumbai, Hyderabad/Secunderabad, Pune, Gurgaon/Gurugram, Chennai, Bangalore/Bengaluru',\n",
       " 'Bangalore/Bengaluru',\n",
       " 'Mumbai, Bangalore/Bengaluru',\n",
       " 'Bangalore/Bengaluru',\n",
       " 'Bangalore/Bengaluru',\n",
       " 'Bangalore/Bengaluru',\n",
       " 'Bangalore/Bengaluru',\n",
       " 'Kolkata, Pune, Chennai, Bangalore/Bengaluru, Delhi / NCR, Mumbai (All Areas)',\n",
       " 'Bangalore/Bengaluru',\n",
       " 'Bangalore/Bengaluru',\n",
       " 'Bangalore/Bengaluru',\n",
       " 'Bangalore/Bengaluru',\n",
       " 'Bangalore/Bengaluru',\n",
       " 'Bangalore/Bengaluru',\n",
       " 'Bangalore/Bengaluru',\n",
       " 'Mumbai, Bangalore/Bengaluru',\n",
       " 'Chennai, Bangalore/Bengaluru',\n",
       " 'Bangalore/Bengaluru',\n",
       " 'Bangalore/Bengaluru',\n",
       " 'Bangalore/Bengaluru']"
      ]
     },
     "execution_count": 111,
     "metadata": {},
     "output_type": "execute_result"
    }
   ],
   "source": [
    "job_location"
   ]
  },
  {
   "cell_type": "code",
   "execution_count": 114,
   "id": "8182c178",
   "metadata": {},
   "outputs": [
    {
     "data": {
      "text/plain": [
       "20"
      ]
     },
     "execution_count": 114,
     "metadata": {},
     "output_type": "execute_result"
    }
   ],
   "source": [
    "len(job_location)"
   ]
  },
  {
   "cell_type": "code",
   "execution_count": 115,
   "id": "8a6afede",
   "metadata": {},
   "outputs": [],
   "source": [
    "company_tags=driver.find_elements_by_xpath(\"//a[@class='subTitle ellipsis fleft']\")\n",
    "company_name= [] #empty list\n",
    "for i in company_tags:\n",
    "    company_name.append(i.text)"
   ]
  },
  {
   "cell_type": "code",
   "execution_count": 116,
   "id": "b2c46a4d",
   "metadata": {},
   "outputs": [
    {
     "data": {
      "text/plain": [
       "['Inflexion Analytix Private Limited',\n",
       " 'Shell India Markets Private Limited',\n",
       " 'INTERTRUSTVITEOS CORPORATE AND FUND SERVICES PVT. LTD.',\n",
       " 'Myntra Designs Pvt. Ltd.',\n",
       " 'Myntra Designs Pvt. Ltd.',\n",
       " 'Myntra Designs Pvt. Ltd.',\n",
       " 'Myntra Designs Pvt. Ltd.',\n",
       " 'SA Tech Software (I) Pvt. Ltd.',\n",
       " 'H and M Hennes and Mauritz (P) Ltd.',\n",
       " 'Luxoft',\n",
       " 'Flipkart Internet Private Limited',\n",
       " 'Flipkart Internet Private Limited',\n",
       " 'Flipkart Internet Private Limited',\n",
       " 'IBM India Pvt. Limited',\n",
       " 'Huawei Technologies India Pvt Ltd',\n",
       " 'INTERTRUST GROUP',\n",
       " 'LatentView Analytics Private Limited',\n",
       " 'ALSTOM India Limited',\n",
       " 'Udaan',\n",
       " 'Luxoft']"
      ]
     },
     "execution_count": 116,
     "metadata": {},
     "output_type": "execute_result"
    }
   ],
   "source": [
    "company_name"
   ]
  },
  {
   "cell_type": "code",
   "execution_count": 117,
   "id": "188f68eb",
   "metadata": {},
   "outputs": [
    {
     "data": {
      "text/plain": [
       "20"
      ]
     },
     "execution_count": 117,
     "metadata": {},
     "output_type": "execute_result"
    }
   ],
   "source": [
    "len(company_name)"
   ]
  },
  {
   "cell_type": "code",
   "execution_count": 118,
   "id": "b7178a0a",
   "metadata": {},
   "outputs": [],
   "source": [
    "# experience reqquired\n",
    "\n",
    "experience_tags=driver.find_elements_by_xpath(\"//li[@class='fleft grey-text br2 placeHolderLi experience']\")\n",
    "experience_required= [] #empty list\n",
    "for i in experience_tags:\n",
    "    experience_required.append(i.text)"
   ]
  },
  {
   "cell_type": "code",
   "execution_count": 119,
   "id": "18606f22",
   "metadata": {},
   "outputs": [
    {
     "data": {
      "text/plain": [
       "['0-3 Yrs',\n",
       " '6-9 Yrs',\n",
       " '12-18 Yrs',\n",
       " '3-6 Yrs',\n",
       " '3-6 Yrs',\n",
       " '4-9 Yrs',\n",
       " '4-8 Yrs',\n",
       " '1-3 Yrs',\n",
       " '4-7 Yrs',\n",
       " '3-6 Yrs',\n",
       " '1-3 Yrs',\n",
       " '2-6 Yrs',\n",
       " '2-5 Yrs',\n",
       " '5-10 Yrs',\n",
       " '5-8 Yrs',\n",
       " '3-8 Yrs',\n",
       " '1-5 Yrs',\n",
       " '5-10 Yrs',\n",
       " '1-6 Yrs',\n",
       " '2-6 Yrs']"
      ]
     },
     "execution_count": 119,
     "metadata": {},
     "output_type": "execute_result"
    }
   ],
   "source": [
    "experience_required"
   ]
  },
  {
   "cell_type": "code",
   "execution_count": 120,
   "id": "256f21fa",
   "metadata": {},
   "outputs": [
    {
     "data": {
      "text/plain": [
       "20"
      ]
     },
     "execution_count": 120,
     "metadata": {},
     "output_type": "execute_result"
    }
   ],
   "source": [
    "len(experience_required)"
   ]
  },
  {
   "cell_type": "code",
   "execution_count": 122,
   "id": "2756e26b",
   "metadata": {},
   "outputs": [
    {
     "data": {
      "text/html": [
       "<div>\n",
       "<style scoped>\n",
       "    .dataframe tbody tr th:only-of-type {\n",
       "        vertical-align: middle;\n",
       "    }\n",
       "\n",
       "    .dataframe tbody tr th {\n",
       "        vertical-align: top;\n",
       "    }\n",
       "\n",
       "    .dataframe thead th {\n",
       "        text-align: right;\n",
       "    }\n",
       "</style>\n",
       "<table border=\"1\" class=\"dataframe\">\n",
       "  <thead>\n",
       "    <tr style=\"text-align: right;\">\n",
       "      <th></th>\n",
       "      <th>job title</th>\n",
       "      <th>job location</th>\n",
       "      <th>company name</th>\n",
       "      <th>experience required</th>\n",
       "    </tr>\n",
       "  </thead>\n",
       "  <tbody>\n",
       "    <tr>\n",
       "      <th>0</th>\n",
       "      <td>Data Scientist / Data Analyst -Business Analyst</td>\n",
       "      <td>Mumbai, Hyderabad/Secunderabad, Pune, Gurgaon/...</td>\n",
       "      <td>Inflexion Analytix Private Limited</td>\n",
       "      <td>0-3 Yrs</td>\n",
       "    </tr>\n",
       "    <tr>\n",
       "      <th>1</th>\n",
       "      <td>Data Analyst - Informatica MDM</td>\n",
       "      <td>Bangalore/Bengaluru</td>\n",
       "      <td>Shell India Markets Private Limited</td>\n",
       "      <td>6-9 Yrs</td>\n",
       "    </tr>\n",
       "    <tr>\n",
       "      <th>2</th>\n",
       "      <td>Assistant Vice President - MIS &amp; Reporting ( B...</td>\n",
       "      <td>Mumbai, Bangalore/Bengaluru</td>\n",
       "      <td>INTERTRUSTVITEOS CORPORATE AND FUND SERVICES P...</td>\n",
       "      <td>12-18 Yrs</td>\n",
       "    </tr>\n",
       "    <tr>\n",
       "      <th>3</th>\n",
       "      <td>Data Analyst</td>\n",
       "      <td>Bangalore/Bengaluru</td>\n",
       "      <td>Myntra Designs Pvt. Ltd.</td>\n",
       "      <td>3-6 Yrs</td>\n",
       "    </tr>\n",
       "    <tr>\n",
       "      <th>4</th>\n",
       "      <td>Data Analyst</td>\n",
       "      <td>Bangalore/Bengaluru</td>\n",
       "      <td>Myntra Designs Pvt. Ltd.</td>\n",
       "      <td>3-6 Yrs</td>\n",
       "    </tr>\n",
       "    <tr>\n",
       "      <th>5</th>\n",
       "      <td>Data Analyst</td>\n",
       "      <td>Bangalore/Bengaluru</td>\n",
       "      <td>Myntra Designs Pvt. Ltd.</td>\n",
       "      <td>4-9 Yrs</td>\n",
       "    </tr>\n",
       "    <tr>\n",
       "      <th>6</th>\n",
       "      <td>Data Analyst</td>\n",
       "      <td>Bangalore/Bengaluru</td>\n",
       "      <td>Myntra Designs Pvt. Ltd.</td>\n",
       "      <td>4-8 Yrs</td>\n",
       "    </tr>\n",
       "    <tr>\n",
       "      <th>7</th>\n",
       "      <td>Data Analyst</td>\n",
       "      <td>Kolkata, Pune, Chennai, Bangalore/Bengaluru, D...</td>\n",
       "      <td>SA Tech Software (I) Pvt. Ltd.</td>\n",
       "      <td>1-3 Yrs</td>\n",
       "    </tr>\n",
       "    <tr>\n",
       "      <th>8</th>\n",
       "      <td>Data analyst - Google Analytics</td>\n",
       "      <td>Bangalore/Bengaluru</td>\n",
       "      <td>H and M Hennes and Mauritz (P) Ltd.</td>\n",
       "      <td>4-7 Yrs</td>\n",
       "    </tr>\n",
       "    <tr>\n",
       "      <th>9</th>\n",
       "      <td>Senior/Regular Business Analyst / Data Analyst</td>\n",
       "      <td>Bangalore/Bengaluru</td>\n",
       "      <td>Luxoft</td>\n",
       "      <td>3-6 Yrs</td>\n",
       "    </tr>\n",
       "  </tbody>\n",
       "</table>\n",
       "</div>"
      ],
      "text/plain": [
       "                                           job title  \\\n",
       "0    Data Scientist / Data Analyst -Business Analyst   \n",
       "1                     Data Analyst - Informatica MDM   \n",
       "2  Assistant Vice President - MIS & Reporting ( B...   \n",
       "3                                       Data Analyst   \n",
       "4                                       Data Analyst   \n",
       "5                                       Data Analyst   \n",
       "6                                       Data Analyst   \n",
       "7                                       Data Analyst   \n",
       "8                    Data analyst - Google Analytics   \n",
       "9     Senior/Regular Business Analyst / Data Analyst   \n",
       "\n",
       "                                        job location  \\\n",
       "0  Mumbai, Hyderabad/Secunderabad, Pune, Gurgaon/...   \n",
       "1                                Bangalore/Bengaluru   \n",
       "2                        Mumbai, Bangalore/Bengaluru   \n",
       "3                                Bangalore/Bengaluru   \n",
       "4                                Bangalore/Bengaluru   \n",
       "5                                Bangalore/Bengaluru   \n",
       "6                                Bangalore/Bengaluru   \n",
       "7  Kolkata, Pune, Chennai, Bangalore/Bengaluru, D...   \n",
       "8                                Bangalore/Bengaluru   \n",
       "9                                Bangalore/Bengaluru   \n",
       "\n",
       "                                        company name experience required  \n",
       "0                 Inflexion Analytix Private Limited             0-3 Yrs  \n",
       "1                Shell India Markets Private Limited             6-9 Yrs  \n",
       "2  INTERTRUSTVITEOS CORPORATE AND FUND SERVICES P...           12-18 Yrs  \n",
       "3                           Myntra Designs Pvt. Ltd.             3-6 Yrs  \n",
       "4                           Myntra Designs Pvt. Ltd.             3-6 Yrs  \n",
       "5                           Myntra Designs Pvt. Ltd.             4-9 Yrs  \n",
       "6                           Myntra Designs Pvt. Ltd.             4-8 Yrs  \n",
       "7                     SA Tech Software (I) Pvt. Ltd.             1-3 Yrs  \n",
       "8                H and M Hennes and Mauritz (P) Ltd.             4-7 Yrs  \n",
       "9                                             Luxoft             3-6 Yrs  "
      ]
     },
     "execution_count": 122,
     "metadata": {},
     "output_type": "execute_result"
    }
   ],
   "source": [
    "jobs=pd.DataFrame({})\n",
    "jobs['job title']=job_title\n",
    "jobs['job location']=job_location\n",
    "jobs['company name']=company_name\n",
    "jobs['experience required']=experience_required\n",
    "jobs[0:10]"
   ]
  },
  {
   "cell_type": "markdown",
   "id": "dc0a7e8d",
   "metadata": {},
   "source": [
    "# que. 2 Write a python program to scrape data for “Data Scientist” Job position in“Bangalore” location. You have to scrape the job-title, job-location,company_name, full job-description. You have to scrape first 10 jobs data."
   ]
  },
  {
   "cell_type": "code",
   "execution_count": 1,
   "id": "4ef9f4f9",
   "metadata": {},
   "outputs": [],
   "source": [
    "import pandas as pd\n",
    "import selenium\n",
    "from selenium import webdriver"
   ]
  },
  {
   "cell_type": "code",
   "execution_count": 2,
   "id": "75d02abf",
   "metadata": {},
   "outputs": [],
   "source": [
    "driver=webdriver.Chrome('chromedriver.exe')"
   ]
  },
  {
   "cell_type": "code",
   "execution_count": 3,
   "id": "4b1b4b28",
   "metadata": {},
   "outputs": [],
   "source": [
    "url=\"https://www.naukri.com/\""
   ]
  },
  {
   "cell_type": "code",
   "execution_count": 4,
   "id": "19065e5c",
   "metadata": {},
   "outputs": [],
   "source": [
    "driver.get(url)"
   ]
  },
  {
   "cell_type": "code",
   "execution_count": 5,
   "id": "77df4b30",
   "metadata": {},
   "outputs": [
    {
     "data": {
      "text/plain": [
       "<selenium.webdriver.remote.webelement.WebElement (session=\"7720b5f9d11988a60e32897e08d0de6c\", element=\"08f40697-1b73-4be7-96a1-915a2495925f\")>"
      ]
     },
     "execution_count": 5,
     "metadata": {},
     "output_type": "execute_result"
    }
   ],
   "source": [
    "search_job=driver.find_element_by_id(\"qsb-keyword-sugg\")\n",
    "search_job"
   ]
  },
  {
   "cell_type": "code",
   "execution_count": 6,
   "id": "95214df0",
   "metadata": {},
   "outputs": [],
   "source": [
    "search_job.send_keys(\"Data Scientist\")"
   ]
  },
  {
   "cell_type": "code",
   "execution_count": 7,
   "id": "07e40d64",
   "metadata": {},
   "outputs": [
    {
     "data": {
      "text/plain": [
       "<selenium.webdriver.remote.webelement.WebElement (session=\"7720b5f9d11988a60e32897e08d0de6c\", element=\"937b317d-2316-496a-b6aa-4a8ffeb89e05\")>"
      ]
     },
     "execution_count": 7,
     "metadata": {},
     "output_type": "execute_result"
    }
   ],
   "source": [
    "search_loc=driver.find_element_by_id(\"qsb-location-sugg\")\n",
    "search_loc"
   ]
  },
  {
   "cell_type": "code",
   "execution_count": 8,
   "id": "621950fd",
   "metadata": {},
   "outputs": [],
   "source": [
    "search_loc.send_keys(\"Bangalore\")"
   ]
  },
  {
   "cell_type": "code",
   "execution_count": 9,
   "id": "47b9a0c1",
   "metadata": {},
   "outputs": [],
   "source": [
    "search_btn=driver.find_element_by_xpath(\"//button[@class='btn']\")\n",
    "search_btn.click()"
   ]
  },
  {
   "cell_type": "code",
   "execution_count": 10,
   "id": "2c9a792b",
   "metadata": {},
   "outputs": [],
   "source": [
    "# job title\n",
    "title_tags=driver.find_elements_by_xpath(\"//a[@class='title fw500 ellipsis']\")\n",
    "job_title= [] #empty list\n",
    "for i in title_tags:\n",
    "    job_title.append(i.text)"
   ]
  },
  {
   "cell_type": "code",
   "execution_count": 11,
   "id": "f93e375a",
   "metadata": {},
   "outputs": [
    {
     "data": {
      "text/plain": [
       "['Data Scientist / Data Analyst -Business Analyst',\n",
       " 'Senior Data Scientist, Modeling',\n",
       " 'Big Data - Data Scientist',\n",
       " 'Specialist I - Data Scientist',\n",
       " 'Data Scientist',\n",
       " 'Lead Data Scientist',\n",
       " 'Data Scientist',\n",
       " 'SDE Lead Data Scientist-L3',\n",
       " 'Computational Design Lead Data Scientist-L3',\n",
       " 'Hiring For DATA Scientist - ON Contract Basis (3-6 Months)',\n",
       " 'Senior Data Scientist',\n",
       " 'Senior Data Scientist - Chatbot & NLP',\n",
       " 'Senior Data Scientist',\n",
       " 'Sr. Data Scientist',\n",
       " 'Senior Data Scientist',\n",
       " 'Senior Associate/Team Lead - Data Scientist Consulting',\n",
       " 'Senior Data Scientist',\n",
       " 'Data Scientist',\n",
       " 'Sr Data Scientist, Payments',\n",
       " 'Hiring For Lead data Scientist For Bangalore location']"
      ]
     },
     "execution_count": 11,
     "metadata": {},
     "output_type": "execute_result"
    }
   ],
   "source": [
    "job_title"
   ]
  },
  {
   "cell_type": "code",
   "execution_count": 12,
   "id": "8c9cd074",
   "metadata": {},
   "outputs": [
    {
     "data": {
      "text/plain": [
       "20"
      ]
     },
     "execution_count": 12,
     "metadata": {},
     "output_type": "execute_result"
    }
   ],
   "source": [
    "len(job_title)"
   ]
  },
  {
   "cell_type": "code",
   "execution_count": 13,
   "id": "f1386c10",
   "metadata": {},
   "outputs": [],
   "source": [
    "# job location\n",
    "\n",
    "location_tags=driver.find_elements_by_xpath(\"//li[@class='fleft grey-text br2 placeHolderLi location']\")\n",
    "job_location= [] #empty list\n",
    "for i in location_tags:\n",
    "    job_location.append(i.text)"
   ]
  },
  {
   "cell_type": "code",
   "execution_count": 14,
   "id": "99ef468c",
   "metadata": {},
   "outputs": [
    {
     "data": {
      "text/plain": [
       "['Mumbai, Hyderabad/Secunderabad, Pune, Gurgaon/Gurugram, Chennai, Bangalore/Bengaluru',\n",
       " 'Kolkata, Gurgaon/Gurugram, Bangalore/Bengaluru, Vadodara, Mumbai (All Areas)',\n",
       " 'Kochi/Cochin, Indore, Hyderabad/Secunderabad, Pune, Ahmedabad, Bangalore/Bengaluru, Mumbai (All Areas)',\n",
       " 'Bangalore/Bengaluru',\n",
       " 'Bangalore/Bengaluru',\n",
       " 'Bangalore/Bengaluru',\n",
       " 'Bangalore/Bengaluru',\n",
       " 'Bangalore/Bengaluru',\n",
       " 'Bangalore/Bengaluru',\n",
       " 'Hyderabad/Secunderabad, Bangalore/Bengaluru, Mumbai (All Areas)',\n",
       " 'Bangalore/Bengaluru',\n",
       " 'Bangalore/Bengaluru',\n",
       " 'Bangalore/Bengaluru',\n",
       " 'Bangalore/Bengaluru, Delhi / NCR',\n",
       " 'Bangalore/Bengaluru',\n",
       " 'Bangalore/Bengaluru',\n",
       " 'Bangalore/Bengaluru',\n",
       " 'Bangalore/Bengaluru',\n",
       " 'Bangalore/Bengaluru',\n",
       " 'Bangalore/Bengaluru']"
      ]
     },
     "execution_count": 14,
     "metadata": {},
     "output_type": "execute_result"
    }
   ],
   "source": [
    "job_location"
   ]
  },
  {
   "cell_type": "code",
   "execution_count": 15,
   "id": "0835685d",
   "metadata": {},
   "outputs": [
    {
     "data": {
      "text/plain": [
       "20"
      ]
     },
     "execution_count": 15,
     "metadata": {},
     "output_type": "execute_result"
    }
   ],
   "source": [
    "len(job_location)"
   ]
  },
  {
   "cell_type": "code",
   "execution_count": 16,
   "id": "924b99ea",
   "metadata": {},
   "outputs": [],
   "source": [
    "company_tags=driver.find_elements_by_xpath(\"//a[@class='subTitle ellipsis fleft']\")\n",
    "company_name= [] #empty list\n",
    "for i in company_tags:\n",
    "    company_name.append(i.text)"
   ]
  },
  {
   "cell_type": "code",
   "execution_count": 17,
   "id": "e3a91d27",
   "metadata": {},
   "outputs": [
    {
     "data": {
      "text/plain": [
       "['Inflexion Analytix Private Limited',\n",
       " 'Nielsen',\n",
       " 'Xoriant Solutions Pvt Ltd',\n",
       " 'Philips India Limited',\n",
       " 'IBM India Pvt. Limited',\n",
       " 'Intel Technology India Pvt Ltd',\n",
       " 'Oracle India Pvt. Ltd.',\n",
       " 'Huawei Technologies India Pvt Ltd',\n",
       " 'Huawei Technologies India Pvt Ltd',\n",
       " 'GlobalEdx Learning and Technology Solution Pvt Ltd',\n",
       " 'GO-JEK India',\n",
       " 'Gojek Tech',\n",
       " 'nanobi data and analytics private limited',\n",
       " 'VALIANCE ANALYTICS PRIVATE LIMITED',\n",
       " 'BankBazaar.com (A&A DUKAAN FINANCIAL SERVICES PVT. LTD)',\n",
       " 'Analytics India Magazine',\n",
       " 'Gojek Tech',\n",
       " 'Applied Materials',\n",
       " 'AIRBNB GLOBAL CAPABILITY CENTER PRIVATE LIMITED',\n",
       " 'Societe Generale']"
      ]
     },
     "execution_count": 17,
     "metadata": {},
     "output_type": "execute_result"
    }
   ],
   "source": [
    "company_name"
   ]
  },
  {
   "cell_type": "code",
   "execution_count": 18,
   "id": "b91c99af",
   "metadata": {},
   "outputs": [
    {
     "data": {
      "text/plain": [
       "20"
      ]
     },
     "execution_count": 18,
     "metadata": {},
     "output_type": "execute_result"
    }
   ],
   "source": [
    "len(company_name)"
   ]
  },
  {
   "cell_type": "code",
   "execution_count": 19,
   "id": "d76bd383",
   "metadata": {},
   "outputs": [],
   "source": [
    "# experience reqquired\n",
    "\n",
    "description_tags=driver.find_elements_by_xpath(\"//div[@class='job-description fs12 grey-text']\")\n",
    "job_description= [] #empty list\n",
    "for i in description_tags:\n",
    "    job_description.append(i.text)"
   ]
  },
  {
   "cell_type": "code",
   "execution_count": 22,
   "id": "713833c6",
   "metadata": {},
   "outputs": [
    {
     "data": {
      "text/plain": [
       "['Applications invited from all Freshers and experienced candidates (0-3 yrs) aspiring to...',\n",
       " 'Masters degree in Economics, Mathematics, Statistics, Engineering 5 years of relevant e...',\n",
       " 'High motivation, good work ethic and maturityMinimum 1-3 yrs of proven project experien...',\n",
       " 'Responsibilities and Key Result Areas Design and develop project prototypes and solutio...',\n",
       " 'modeling and business system design with experience in relational SQL and NoSQL databas...',\n",
       " 'Experience in using data analysis techniques and ML methods like classification, regres...',\n",
       " 'Roles and Responsibilities Looking for 6+ yrs of experience in data science, predictive...',\n",
       " 'Strong hands-on experience in implementing and validating big data algorithms and model...',\n",
       " 'Business & Team overview:Founded in 1987, Huawei is a leading global provider of ICT (i...',\n",
       " 'Experience : 3+ Years',\n",
       " 'About the Role Fasten your helmet and climb on board if youre ready to be our Senior Da...',\n",
       " 'Solid knowledge of Data Science and Machine Learning fundamentals, with proven experien...',\n",
       " 'These will be across industries and functions and must be designed generically to handl...',\n",
       " 'Programming Language: Python / SQL (Must)',\n",
       " 'Preferable to have Masters in a numerate subject such as Mathematics, Operational Resea...',\n",
       " 'We should also let you know we put a premium on a few personality traits: - You are a p...',\n",
       " 'What You Will Do Build machine learning models that generate or foster answers to some ...',\n",
       " 'Education: Bachelors Degree analyzes possible solutions using technical experience and ...',\n",
       " '4+ years industry experience in a quantitative analysis roleExperience in Payments a st...',\n",
       " 'We are hiring for Lead data Scientist for Bangalore location Skills and QualificationsB...']"
      ]
     },
     "execution_count": 22,
     "metadata": {},
     "output_type": "execute_result"
    }
   ],
   "source": [
    "job_description"
   ]
  },
  {
   "cell_type": "code",
   "execution_count": 23,
   "id": "153e5051",
   "metadata": {},
   "outputs": [
    {
     "data": {
      "text/plain": [
       "15"
      ]
     },
     "execution_count": 23,
     "metadata": {},
     "output_type": "execute_result"
    }
   ],
   "source": [
    "len('job_description')"
   ]
  },
  {
   "cell_type": "code",
   "execution_count": 32,
   "id": "65bb2ee5",
   "metadata": {},
   "outputs": [
    {
     "data": {
      "text/html": [
       "<div>\n",
       "<style scoped>\n",
       "    .dataframe tbody tr th:only-of-type {\n",
       "        vertical-align: middle;\n",
       "    }\n",
       "\n",
       "    .dataframe tbody tr th {\n",
       "        vertical-align: top;\n",
       "    }\n",
       "\n",
       "    .dataframe thead th {\n",
       "        text-align: right;\n",
       "    }\n",
       "</style>\n",
       "<table border=\"1\" class=\"dataframe\">\n",
       "  <thead>\n",
       "    <tr style=\"text-align: right;\">\n",
       "      <th></th>\n",
       "      <th>job title</th>\n",
       "      <th>job location</th>\n",
       "      <th>company name</th>\n",
       "      <th>job description</th>\n",
       "    </tr>\n",
       "  </thead>\n",
       "  <tbody>\n",
       "    <tr>\n",
       "      <th>0</th>\n",
       "      <td>Data Scientist / Data Analyst -Business Analyst</td>\n",
       "      <td>Mumbai, Hyderabad/Secunderabad, Pune, Gurgaon/...</td>\n",
       "      <td>Inflexion Analytix Private Limited</td>\n",
       "      <td>Applications invited from all Freshers and exp...</td>\n",
       "    </tr>\n",
       "    <tr>\n",
       "      <th>1</th>\n",
       "      <td>Senior Data Scientist, Modeling</td>\n",
       "      <td>Kolkata, Gurgaon/Gurugram, Bangalore/Bengaluru...</td>\n",
       "      <td>Nielsen</td>\n",
       "      <td>Masters degree in Economics, Mathematics, Stat...</td>\n",
       "    </tr>\n",
       "    <tr>\n",
       "      <th>2</th>\n",
       "      <td>Big Data - Data Scientist</td>\n",
       "      <td>Kochi/Cochin, Indore, Hyderabad/Secunderabad, ...</td>\n",
       "      <td>Xoriant Solutions Pvt Ltd</td>\n",
       "      <td>High motivation, good work ethic and maturityM...</td>\n",
       "    </tr>\n",
       "    <tr>\n",
       "      <th>3</th>\n",
       "      <td>Specialist I - Data Scientist</td>\n",
       "      <td>Bangalore/Bengaluru</td>\n",
       "      <td>Philips India Limited</td>\n",
       "      <td>Responsibilities and Key Result Areas Design a...</td>\n",
       "    </tr>\n",
       "    <tr>\n",
       "      <th>4</th>\n",
       "      <td>Data Scientist</td>\n",
       "      <td>Bangalore/Bengaluru</td>\n",
       "      <td>IBM India Pvt. Limited</td>\n",
       "      <td>modeling and business system design with exper...</td>\n",
       "    </tr>\n",
       "    <tr>\n",
       "      <th>5</th>\n",
       "      <td>Lead Data Scientist</td>\n",
       "      <td>Bangalore/Bengaluru</td>\n",
       "      <td>Intel Technology India Pvt Ltd</td>\n",
       "      <td>Experience in using data analysis techniques a...</td>\n",
       "    </tr>\n",
       "    <tr>\n",
       "      <th>6</th>\n",
       "      <td>Data Scientist</td>\n",
       "      <td>Bangalore/Bengaluru</td>\n",
       "      <td>Oracle India Pvt. Ltd.</td>\n",
       "      <td>Roles and Responsibilities Looking for 6+ yrs ...</td>\n",
       "    </tr>\n",
       "    <tr>\n",
       "      <th>7</th>\n",
       "      <td>SDE Lead Data Scientist-L3</td>\n",
       "      <td>Bangalore/Bengaluru</td>\n",
       "      <td>Huawei Technologies India Pvt Ltd</td>\n",
       "      <td>Strong hands-on experience in implementing and...</td>\n",
       "    </tr>\n",
       "    <tr>\n",
       "      <th>8</th>\n",
       "      <td>Computational Design Lead Data Scientist-L3</td>\n",
       "      <td>Bangalore/Bengaluru</td>\n",
       "      <td>Huawei Technologies India Pvt Ltd</td>\n",
       "      <td>Business &amp; Team overview:Founded in 1987, Huaw...</td>\n",
       "    </tr>\n",
       "    <tr>\n",
       "      <th>9</th>\n",
       "      <td>Hiring For DATA Scientist - ON Contract Basis ...</td>\n",
       "      <td>Hyderabad/Secunderabad, Bangalore/Bengaluru, M...</td>\n",
       "      <td>GlobalEdx Learning and Technology Solution Pvt...</td>\n",
       "      <td>Experience : 3+ Years</td>\n",
       "    </tr>\n",
       "  </tbody>\n",
       "</table>\n",
       "</div>"
      ],
      "text/plain": [
       "                                           job title  \\\n",
       "0    Data Scientist / Data Analyst -Business Analyst   \n",
       "1                    Senior Data Scientist, Modeling   \n",
       "2                          Big Data - Data Scientist   \n",
       "3                      Specialist I - Data Scientist   \n",
       "4                                     Data Scientist   \n",
       "5                                Lead Data Scientist   \n",
       "6                                     Data Scientist   \n",
       "7                         SDE Lead Data Scientist-L3   \n",
       "8        Computational Design Lead Data Scientist-L3   \n",
       "9  Hiring For DATA Scientist - ON Contract Basis ...   \n",
       "\n",
       "                                        job location  \\\n",
       "0  Mumbai, Hyderabad/Secunderabad, Pune, Gurgaon/...   \n",
       "1  Kolkata, Gurgaon/Gurugram, Bangalore/Bengaluru...   \n",
       "2  Kochi/Cochin, Indore, Hyderabad/Secunderabad, ...   \n",
       "3                                Bangalore/Bengaluru   \n",
       "4                                Bangalore/Bengaluru   \n",
       "5                                Bangalore/Bengaluru   \n",
       "6                                Bangalore/Bengaluru   \n",
       "7                                Bangalore/Bengaluru   \n",
       "8                                Bangalore/Bengaluru   \n",
       "9  Hyderabad/Secunderabad, Bangalore/Bengaluru, M...   \n",
       "\n",
       "                                        company name  \\\n",
       "0                 Inflexion Analytix Private Limited   \n",
       "1                                            Nielsen   \n",
       "2                          Xoriant Solutions Pvt Ltd   \n",
       "3                              Philips India Limited   \n",
       "4                             IBM India Pvt. Limited   \n",
       "5                     Intel Technology India Pvt Ltd   \n",
       "6                             Oracle India Pvt. Ltd.   \n",
       "7                  Huawei Technologies India Pvt Ltd   \n",
       "8                  Huawei Technologies India Pvt Ltd   \n",
       "9  GlobalEdx Learning and Technology Solution Pvt...   \n",
       "\n",
       "                                     job description  \n",
       "0  Applications invited from all Freshers and exp...  \n",
       "1  Masters degree in Economics, Mathematics, Stat...  \n",
       "2  High motivation, good work ethic and maturityM...  \n",
       "3  Responsibilities and Key Result Areas Design a...  \n",
       "4  modeling and business system design with exper...  \n",
       "5  Experience in using data analysis techniques a...  \n",
       "6  Roles and Responsibilities Looking for 6+ yrs ...  \n",
       "7  Strong hands-on experience in implementing and...  \n",
       "8  Business & Team overview:Founded in 1987, Huaw...  \n",
       "9                              Experience : 3+ Years  "
      ]
     },
     "execution_count": 32,
     "metadata": {},
     "output_type": "execute_result"
    }
   ],
   "source": [
    "jobs=pd.DataFrame({})\n",
    "jobs['job title']=job_title\n",
    "jobs['job location']=job_location\n",
    "jobs['company name']=company_name\n",
    "jobs['job description']=job_description\n",
    "jobs[0:10]"
   ]
  },
  {
   "cell_type": "markdown",
   "id": "99cba40f",
   "metadata": {},
   "source": [
    "# question 3 In this question you have to scrape data using the filters available on the webpage as shown below:"
   ]
  },
  {
   "cell_type": "code",
   "execution_count": 57,
   "id": "48d21c61",
   "metadata": {},
   "outputs": [],
   "source": [
    "import pandas as pd\n",
    "import selenium\n",
    "from selenium import webdriver"
   ]
  },
  {
   "cell_type": "code",
   "execution_count": 58,
   "id": "b907959c",
   "metadata": {},
   "outputs": [],
   "source": [
    "driver=webdriver.Chrome('chromedriver.exe')"
   ]
  },
  {
   "cell_type": "code",
   "execution_count": 59,
   "id": "a0f3e273",
   "metadata": {},
   "outputs": [],
   "source": [
    "url=\"https://www.naukri.com/\""
   ]
  },
  {
   "cell_type": "code",
   "execution_count": 60,
   "id": "3ea21bd1",
   "metadata": {},
   "outputs": [],
   "source": [
    "driver.get(url)"
   ]
  },
  {
   "cell_type": "code",
   "execution_count": 61,
   "id": "a2cf649a",
   "metadata": {},
   "outputs": [
    {
     "data": {
      "text/plain": [
       "<selenium.webdriver.remote.webelement.WebElement (session=\"f7fa97f488164abb9f3b6fdff6c927a6\", element=\"2be5ee87-fb86-480c-8881-9c8e094a9350\")>"
      ]
     },
     "execution_count": 61,
     "metadata": {},
     "output_type": "execute_result"
    }
   ],
   "source": [
    "search_job=driver.find_element_by_id(\"qsb-keyword-sugg\")\n",
    "search_job"
   ]
  },
  {
   "cell_type": "code",
   "execution_count": 62,
   "id": "0f0fb185",
   "metadata": {},
   "outputs": [],
   "source": [
    "search_job.send_keys(\"data scientist\")"
   ]
  },
  {
   "cell_type": "code",
   "execution_count": 63,
   "id": "a21658fc",
   "metadata": {},
   "outputs": [],
   "source": [
    "search_btn=driver.find_element_by_xpath(\"//button[@class='btn']\")\n",
    "search_btn.click()"
   ]
  },
  {
   "cell_type": "code",
   "execution_count": 68,
   "id": "ebc06c75",
   "metadata": {},
   "outputs": [],
   "source": [
    "for i in driver.find_elements_by_xpath(\"//i[@class='fleft naukicon naukicon-checkbox']\"):\n",
    "\n",
    "    if i.text==\"Bangalore/Bengaluru(5362)\":\n",
    "\n",
    "        i.click()"
   ]
  },
  {
   "cell_type": "code",
   "execution_count": 69,
   "id": "79143a98",
   "metadata": {},
   "outputs": [],
   "source": [
    "for i in driver.find_elements_by_xpath(\"//i[@class='fleft naukicon naukicon-checkbox']\"):\n",
    "\n",
    "    if i.text==\"3-6 Lakhs(1506)\":\n",
    "\n",
    "        i.click()"
   ]
  },
  {
   "cell_type": "code",
   "execution_count": 70,
   "id": "31b05b47",
   "metadata": {},
   "outputs": [],
   "source": [
    "# job title\n",
    "title_tags=driver.find_elements_by_xpath(\"//a[@class='title fw500 ellipsis']\")\n",
    "job_title= [] #empty list\n",
    "for i in title_tags:\n",
    "    job_title.append(i.text)"
   ]
  },
  {
   "cell_type": "code",
   "execution_count": 71,
   "id": "05d0d6ef",
   "metadata": {},
   "outputs": [
    {
     "data": {
      "text/plain": [
       "['Data Scientist / Data Analyst -Business Analyst',\n",
       " 'Big Data - Data Scientist',\n",
       " 'Data Scientist - High growth VC backed Influencer Marketplace',\n",
       " 'Data Scientist',\n",
       " 'we are hiring For the role of data engineer\\\\data scientist',\n",
       " 'Sr Data Scientist, Payments',\n",
       " 'Data Scientist',\n",
       " 'Data Scientist',\n",
       " 'Data Scientist',\n",
       " 'Immunology and Immunotoxicology Data Scientist (Early Development)',\n",
       " 'Data Scientist',\n",
       " 'Data Scientist',\n",
       " 'Data Scientist',\n",
       " 'Data Scientist',\n",
       " 'Data Scientist',\n",
       " 'Data Scientist',\n",
       " 'Analyst Data Scientist',\n",
       " 'Senior Data Scientist',\n",
       " 'Digital Enterprise Architect (Data Scientist)',\n",
       " 'Data Scientist']"
      ]
     },
     "execution_count": 71,
     "metadata": {},
     "output_type": "execute_result"
    }
   ],
   "source": [
    "job_title"
   ]
  },
  {
   "cell_type": "code",
   "execution_count": 72,
   "id": "d1df0543",
   "metadata": {},
   "outputs": [
    {
     "data": {
      "text/plain": [
       "20"
      ]
     },
     "execution_count": 72,
     "metadata": {},
     "output_type": "execute_result"
    }
   ],
   "source": [
    "len(job_title)"
   ]
  },
  {
   "cell_type": "code",
   "execution_count": 73,
   "id": "746c917d",
   "metadata": {},
   "outputs": [],
   "source": [
    "# job location\n",
    "\n",
    "location_tags=driver.find_elements_by_xpath(\"//li[@class='fleft grey-text br2 placeHolderLi location']\")\n",
    "job_location= [] #empty list\n",
    "for i in location_tags:\n",
    "    job_location.append(i.text)"
   ]
  },
  {
   "cell_type": "code",
   "execution_count": 74,
   "id": "d748713c",
   "metadata": {},
   "outputs": [
    {
     "data": {
      "text/plain": [
       "['Mumbai, Hyderabad/Secunderabad, Pune, Gurgaon/Gurugram, Chennai, Bangalore/Bengaluru',\n",
       " 'Kochi/Cochin, Indore, Hyderabad/Secunderabad, Pune, Ahmedabad, Bangalore/Bengaluru, Mumbai (All Areas)',\n",
       " 'Bangalore/Bengaluru, Delhi / NCR, Mumbai (All Areas)',\n",
       " 'Bangalore/Bengaluru',\n",
       " 'Bangalore/Bengaluru',\n",
       " 'Bangalore/Bengaluru',\n",
       " 'Kolkata, Hyderabad/Secunderabad, Chennai, Bangalore/Bengaluru',\n",
       " 'Bangalore/Bengaluru',\n",
       " 'Coimbatore, Bangalore/Bengaluru',\n",
       " 'Bangalore/Bengaluru',\n",
       " 'Bangalore/Bengaluru',\n",
       " 'Chennai, Bangalore/Bengaluru',\n",
       " 'Bangalore/Bengaluru',\n",
       " 'Bangalore/Bengaluru',\n",
       " 'Bangalore/Bengaluru',\n",
       " 'Noida, Hyderabad/Secunderabad, Bangalore/Bengaluru',\n",
       " 'Mumbai, Hyderabad/Secunderabad, Pune, Chennai, Bangalore/Bengaluru',\n",
       " 'Pune, Chennai, Bangalore/Bengaluru',\n",
       " 'Bangalore/Bengaluru',\n",
       " 'Bangalore/Bengaluru']"
      ]
     },
     "execution_count": 74,
     "metadata": {},
     "output_type": "execute_result"
    }
   ],
   "source": [
    "job_location"
   ]
  },
  {
   "cell_type": "code",
   "execution_count": 75,
   "id": "1de63b29",
   "metadata": {},
   "outputs": [
    {
     "data": {
      "text/plain": [
       "20"
      ]
     },
     "execution_count": 75,
     "metadata": {},
     "output_type": "execute_result"
    }
   ],
   "source": [
    "len(job_location)"
   ]
  },
  {
   "cell_type": "code",
   "execution_count": 76,
   "id": "11bcb16e",
   "metadata": {},
   "outputs": [],
   "source": [
    "company_tags=driver.find_elements_by_xpath(\"//a[@class='subTitle ellipsis fleft']\")\n",
    "company_name= [] #empty list\n",
    "for i in company_tags:\n",
    "    company_name.append(i.text)"
   ]
  },
  {
   "cell_type": "code",
   "execution_count": 77,
   "id": "a82ed663",
   "metadata": {},
   "outputs": [
    {
     "data": {
      "text/plain": [
       "['Inflexion Analytix Private Limited',\n",
       " 'Xoriant Solutions Pvt Ltd',\n",
       " 'Ravgins International Pvt. Ltd.',\n",
       " 'Applied Materials',\n",
       " 'COLLABERA',\n",
       " 'AIRBNB GLOBAL CAPABILITY CENTER PRIVATE LIMITED',\n",
       " 'Wipro Limited',\n",
       " 'Glance IT Solution',\n",
       " 'Zinnov Management Consulting Private Limited',\n",
       " 'Covance India Pharmaceutical services pvt ltd.',\n",
       " 'Kwalee India Pvt Ltd.',\n",
       " 'Dun & Bradstreet Technologies & Data Services Pvt Ltd.',\n",
       " 'Talent Zone Consultant',\n",
       " 'BRIDGEi2i Analytics Solutions Private Limited',\n",
       " 'Orcapod Consulting Services Private Limited',\n",
       " 'IBM India Pvt. Limited',\n",
       " 'CAMSDATA TECHNOLOGIES INDIA PVT LTD',\n",
       " 'Vijaya Management Services',\n",
       " 'Mphasis Limited',\n",
       " 'Philips India Limited']"
      ]
     },
     "execution_count": 77,
     "metadata": {},
     "output_type": "execute_result"
    }
   ],
   "source": [
    "company_name"
   ]
  },
  {
   "cell_type": "code",
   "execution_count": 78,
   "id": "f1d5b244",
   "metadata": {},
   "outputs": [
    {
     "data": {
      "text/plain": [
       "20"
      ]
     },
     "execution_count": 78,
     "metadata": {},
     "output_type": "execute_result"
    }
   ],
   "source": [
    "len(company_name)"
   ]
  },
  {
   "cell_type": "code",
   "execution_count": 88,
   "id": "81654399",
   "metadata": {},
   "outputs": [],
   "source": [
    "# experience reqquired\n",
    "\n",
    "experience_tags=driver.find_elements_by_xpath(\"//li[@class='fleft grey-text br2 placeHolderLi experience']\")\n",
    "experience_required= [] #empty list\n",
    "for i in experience_tags:\n",
    "    experience_required.append(i.text)"
   ]
  },
  {
   "cell_type": "code",
   "execution_count": 89,
   "id": "4a4bfa59",
   "metadata": {},
   "outputs": [
    {
     "data": {
      "text/plain": [
       "['0-3 Yrs',\n",
       " '1-3 Yrs',\n",
       " '3-5 Yrs',\n",
       " '2-4 Yrs',\n",
       " '5-8 Yrs',\n",
       " '4-9 Yrs',\n",
       " '4-9 Yrs',\n",
       " '3-6 Yrs',\n",
       " '2-7 Yrs',\n",
       " '5-7 Yrs',\n",
       " '2-7 Yrs',\n",
       " '1-5 Yrs',\n",
       " '1-7 Yrs',\n",
       " '2-6 Yrs',\n",
       " '8-13 Yrs',\n",
       " '4-9 Yrs',\n",
       " '3-8 Yrs',\n",
       " '5-10 Yrs',\n",
       " '3-8 Yrs',\n",
       " '3-8 Yrs']"
      ]
     },
     "execution_count": 89,
     "metadata": {},
     "output_type": "execute_result"
    }
   ],
   "source": [
    "experience_required"
   ]
  },
  {
   "cell_type": "code",
   "execution_count": 91,
   "id": "42ddecb4",
   "metadata": {},
   "outputs": [
    {
     "data": {
      "text/plain": [
       "19"
      ]
     },
     "execution_count": 91,
     "metadata": {},
     "output_type": "execute_result"
    }
   ],
   "source": [
    "len('experience_required')"
   ]
  },
  {
   "cell_type": "code",
   "execution_count": 93,
   "id": "d130de19",
   "metadata": {},
   "outputs": [
    {
     "data": {
      "text/html": [
       "<div>\n",
       "<style scoped>\n",
       "    .dataframe tbody tr th:only-of-type {\n",
       "        vertical-align: middle;\n",
       "    }\n",
       "\n",
       "    .dataframe tbody tr th {\n",
       "        vertical-align: top;\n",
       "    }\n",
       "\n",
       "    .dataframe thead th {\n",
       "        text-align: right;\n",
       "    }\n",
       "</style>\n",
       "<table border=\"1\" class=\"dataframe\">\n",
       "  <thead>\n",
       "    <tr style=\"text-align: right;\">\n",
       "      <th></th>\n",
       "      <th>job title</th>\n",
       "      <th>job location</th>\n",
       "      <th>company name</th>\n",
       "      <th>job description</th>\n",
       "    </tr>\n",
       "  </thead>\n",
       "  <tbody>\n",
       "    <tr>\n",
       "      <th>0</th>\n",
       "      <td>Data Scientist / Data Analyst -Business Analyst</td>\n",
       "      <td>Mumbai, Hyderabad/Secunderabad, Pune, Gurgaon/...</td>\n",
       "      <td>Inflexion Analytix Private Limited</td>\n",
       "      <td>Applications invited from all Freshers and exp...</td>\n",
       "    </tr>\n",
       "    <tr>\n",
       "      <th>1</th>\n",
       "      <td>Big Data - Data Scientist</td>\n",
       "      <td>Kochi/Cochin, Indore, Hyderabad/Secunderabad, ...</td>\n",
       "      <td>Xoriant Solutions Pvt Ltd</td>\n",
       "      <td>High motivation, good work ethic and maturityM...</td>\n",
       "    </tr>\n",
       "    <tr>\n",
       "      <th>2</th>\n",
       "      <td>Data Scientist - High growth VC backed Influen...</td>\n",
       "      <td>Bangalore/Bengaluru, Delhi / NCR, Mumbai (All ...</td>\n",
       "      <td>Ravgins International Pvt. Ltd.</td>\n",
       "      <td>Roles and Responsibilities Work closely with y...</td>\n",
       "    </tr>\n",
       "    <tr>\n",
       "      <th>3</th>\n",
       "      <td>Data Scientist</td>\n",
       "      <td>Bangalore/Bengaluru</td>\n",
       "      <td>Applied Materials</td>\n",
       "      <td>Education: Bachelors Degree analyzes possible ...</td>\n",
       "    </tr>\n",
       "    <tr>\n",
       "      <th>4</th>\n",
       "      <td>we are hiring For the role of data engineer\\da...</td>\n",
       "      <td>Bangalore/Bengaluru</td>\n",
       "      <td>COLLABERA</td>\n",
       "      <td>Languages: Python is required, other languages...</td>\n",
       "    </tr>\n",
       "    <tr>\n",
       "      <th>5</th>\n",
       "      <td>Sr Data Scientist, Payments</td>\n",
       "      <td>Bangalore/Bengaluru</td>\n",
       "      <td>AIRBNB GLOBAL CAPABILITY CENTER PRIVATE LIMITED</td>\n",
       "      <td>4+ years industry experience in a quantitative...</td>\n",
       "    </tr>\n",
       "    <tr>\n",
       "      <th>6</th>\n",
       "      <td>Data Scientist</td>\n",
       "      <td>Kolkata, Hyderabad/Secunderabad, Chennai, Bang...</td>\n",
       "      <td>Wipro Limited</td>\n",
       "      <td>Good statistical analysis skills for data pre-...</td>\n",
       "    </tr>\n",
       "    <tr>\n",
       "      <th>7</th>\n",
       "      <td>Data Scientist</td>\n",
       "      <td>Bangalore/Bengaluru</td>\n",
       "      <td>Glance IT Solution</td>\n",
       "      <td>Glance is looking for a Data Scientist who wil...</td>\n",
       "    </tr>\n",
       "    <tr>\n",
       "      <th>8</th>\n",
       "      <td>Data Scientist</td>\n",
       "      <td>Coimbatore, Bangalore/Bengaluru</td>\n",
       "      <td>Zinnov Management Consulting Private Limited</td>\n",
       "      <td>Bachelors degree in Statistics, Economics, Ana...</td>\n",
       "    </tr>\n",
       "    <tr>\n",
       "      <th>9</th>\n",
       "      <td>Immunology and Immunotoxicology Data Scientist...</td>\n",
       "      <td>Bangalore/Bengaluru</td>\n",
       "      <td>Covance India Pharmaceutical services pvt ltd.</td>\n",
       "      <td>At least 3 years industry experience in one or...</td>\n",
       "    </tr>\n",
       "  </tbody>\n",
       "</table>\n",
       "</div>"
      ],
      "text/plain": [
       "                                           job title  \\\n",
       "0    Data Scientist / Data Analyst -Business Analyst   \n",
       "1                          Big Data - Data Scientist   \n",
       "2  Data Scientist - High growth VC backed Influen...   \n",
       "3                                     Data Scientist   \n",
       "4  we are hiring For the role of data engineer\\da...   \n",
       "5                        Sr Data Scientist, Payments   \n",
       "6                                     Data Scientist   \n",
       "7                                     Data Scientist   \n",
       "8                                     Data Scientist   \n",
       "9  Immunology and Immunotoxicology Data Scientist...   \n",
       "\n",
       "                                        job location  \\\n",
       "0  Mumbai, Hyderabad/Secunderabad, Pune, Gurgaon/...   \n",
       "1  Kochi/Cochin, Indore, Hyderabad/Secunderabad, ...   \n",
       "2  Bangalore/Bengaluru, Delhi / NCR, Mumbai (All ...   \n",
       "3                                Bangalore/Bengaluru   \n",
       "4                                Bangalore/Bengaluru   \n",
       "5                                Bangalore/Bengaluru   \n",
       "6  Kolkata, Hyderabad/Secunderabad, Chennai, Bang...   \n",
       "7                                Bangalore/Bengaluru   \n",
       "8                    Coimbatore, Bangalore/Bengaluru   \n",
       "9                                Bangalore/Bengaluru   \n",
       "\n",
       "                                      company name  \\\n",
       "0               Inflexion Analytix Private Limited   \n",
       "1                        Xoriant Solutions Pvt Ltd   \n",
       "2                  Ravgins International Pvt. Ltd.   \n",
       "3                                Applied Materials   \n",
       "4                                        COLLABERA   \n",
       "5  AIRBNB GLOBAL CAPABILITY CENTER PRIVATE LIMITED   \n",
       "6                                    Wipro Limited   \n",
       "7                               Glance IT Solution   \n",
       "8     Zinnov Management Consulting Private Limited   \n",
       "9   Covance India Pharmaceutical services pvt ltd.   \n",
       "\n",
       "                                     job description  \n",
       "0  Applications invited from all Freshers and exp...  \n",
       "1  High motivation, good work ethic and maturityM...  \n",
       "2  Roles and Responsibilities Work closely with y...  \n",
       "3  Education: Bachelors Degree analyzes possible ...  \n",
       "4  Languages: Python is required, other languages...  \n",
       "5  4+ years industry experience in a quantitative...  \n",
       "6  Good statistical analysis skills for data pre-...  \n",
       "7  Glance is looking for a Data Scientist who wil...  \n",
       "8  Bachelors degree in Statistics, Economics, Ana...  \n",
       "9  At least 3 years industry experience in one or...  "
      ]
     },
     "execution_count": 93,
     "metadata": {},
     "output_type": "execute_result"
    }
   ],
   "source": [
    "jobs=pd.DataFrame({})\n",
    "jobs['job title']=job_title\n",
    "jobs['job location']=job_location\n",
    "jobs['company name']=company_name\n",
    "jobs['job description']=job_description\n",
    "jobs[0:10]"
   ]
  },
  {
   "cell_type": "markdown",
   "id": "c5961a82",
   "metadata": {},
   "source": [
    "# Q4: Write a python program to scrape data for first 10 job results for Data scientist Designation in Noida location. You have to scrape company_name, No. of days ago when job was posted, Rating of the company."
   ]
  },
  {
   "cell_type": "code",
   "execution_count": 94,
   "id": "7f1a2989",
   "metadata": {},
   "outputs": [],
   "source": [
    "import pandas as pd\n",
    "import selenium\n",
    "from selenium import webdriver"
   ]
  },
  {
   "cell_type": "code",
   "execution_count": 95,
   "id": "0cbfdbf3",
   "metadata": {},
   "outputs": [],
   "source": [
    "driver=webdriver.Chrome('chromedriver.exe')"
   ]
  },
  {
   "cell_type": "code",
   "execution_count": 96,
   "id": "7880502e",
   "metadata": {},
   "outputs": [],
   "source": [
    "url=\"https://www.glassdoor.co.in/index.htm\""
   ]
  },
  {
   "cell_type": "code",
   "execution_count": 97,
   "id": "ef357352",
   "metadata": {},
   "outputs": [],
   "source": [
    "driver.get(url)"
   ]
  },
  {
   "cell_type": "code",
   "execution_count": 98,
   "id": "5f9fc5a5",
   "metadata": {},
   "outputs": [
    {
     "data": {
      "text/plain": [
       "<selenium.webdriver.remote.webelement.WebElement (session=\"466fa84abefa945e30c976fc903603fb\", element=\"0051baff-1345-4e08-9091-47d8e6b5e703\")>"
      ]
     },
     "execution_count": 98,
     "metadata": {},
     "output_type": "execute_result"
    }
   ],
   "source": [
    "search_job=driver.find_element_by_xpath(\"//input[@class='css-1etjok6']\")\n",
    "search_job"
   ]
  },
  {
   "cell_type": "code",
   "execution_count": 99,
   "id": "2d91aee0",
   "metadata": {},
   "outputs": [],
   "source": [
    "search_job.send_keys(\"data scientist\")"
   ]
  },
  {
   "cell_type": "code",
   "execution_count": 100,
   "id": "5d4df87b",
   "metadata": {},
   "outputs": [
    {
     "data": {
      "text/plain": [
       "<selenium.webdriver.remote.webelement.WebElement (session=\"466fa84abefa945e30c976fc903603fb\", element=\"26eda110-5a18-49a8-ab80-1596b42398a0\")>"
      ]
     },
     "execution_count": 100,
     "metadata": {},
     "output_type": "execute_result"
    }
   ],
   "source": [
    "search_loc=driver.find_element_by_id(\"scLocation\")\n",
    "search_loc"
   ]
  },
  {
   "cell_type": "code",
   "execution_count": 101,
   "id": "6f1931b8",
   "metadata": {},
   "outputs": [],
   "source": [
    "search_loc.send_keys(\"noida\")"
   ]
  },
  {
   "cell_type": "code",
   "execution_count": 102,
   "id": "a0450f25",
   "metadata": {},
   "outputs": [],
   "source": [
    "company_tags=driver.find_elements_by_xpath(\"//a[@class=' css-l2wjgv e1n63ojh0 jobLink']\")\n",
    "company_name= [] #empty list\n",
    "for i in company_tags:\n",
    "    company_name.append(i.text)"
   ]
  },
  {
   "cell_type": "code",
   "execution_count": 103,
   "id": "90bf173f",
   "metadata": {},
   "outputs": [
    {
     "data": {
      "text/plain": [
       "['Apsidata Solutions',\n",
       " 'Adobe',\n",
       " 'Ericsson',\n",
       " 'Biz2Credit Inc',\n",
       " 'Techlive',\n",
       " '',\n",
       " 'dunnhumby',\n",
       " 'CRMNEXT',\n",
       " 'Khan Academy',\n",
       " 'Adobe',\n",
       " 'WishFin',\n",
       " 'HDFC Bank',\n",
       " 'Data Trained Education',\n",
       " 'CRMNEXT',\n",
       " 'VN SoftSol',\n",
       " 'SearchUrCollege',\n",
       " 'Data Trained Education',\n",
       " 'xtLytics',\n",
       " 'MasterCard',\n",
       " 'Jubna',\n",
       " 'Lantern Digital Services',\n",
       " 'Genpact',\n",
       " 'American Express',\n",
       " 'Priority Vendor',\n",
       " 'Dürr Somac GmbH',\n",
       " 'Nitesh Kumar',\n",
       " 'Innovacer',\n",
       " 'Emerging India Group',\n",
       " 'Dürr IT Services India',\n",
       " 'UnitedHealth Group']"
      ]
     },
     "execution_count": 103,
     "metadata": {},
     "output_type": "execute_result"
    }
   ],
   "source": [
    "company_name"
   ]
  },
  {
   "cell_type": "code",
   "execution_count": 104,
   "id": "23900411",
   "metadata": {},
   "outputs": [
    {
     "data": {
      "text/plain": [
       "30"
      ]
     },
     "execution_count": 104,
     "metadata": {},
     "output_type": "execute_result"
    }
   ],
   "source": [
    "len(company_name)"
   ]
  },
  {
   "cell_type": "code",
   "execution_count": 115,
   "id": "7a7aef66",
   "metadata": {},
   "outputs": [
    {
     "name": "stdout",
     "output_type": "stream",
     "text": [
      "4.3\n",
      "4.4\n",
      "4.1\n",
      "3.8\n",
      "5.0\n",
      "4.1\n",
      "3.6\n",
      "4.0\n",
      "4.4\n",
      "3.8\n",
      "3.6\n",
      "3.6\n",
      "3.0\n",
      "4.3\n",
      "3.6\n",
      "3.8\n",
      "4.2\n",
      "3.7\n",
      "3.8\n",
      "3.6\n",
      "1.9\n",
      "4.0\n",
      "3.6\n"
     ]
    }
   ],
   "source": [
    "rating_tags=driver.find_elements_by_xpath(\"//span[@class='css-19pjha7 e1cjmv6j1']\")\n",
    "job_rating= [] #empty list\n",
    "for i in rating_tags:\n",
    "    if i.text==None:\n",
    "         print(none)\n",
    "    else:\n",
    "         print(i.text)\n",
    "    job_rating.append(i.text)\n"
   ]
  },
  {
   "cell_type": "code",
   "execution_count": 116,
   "id": "ffdb5758",
   "metadata": {},
   "outputs": [
    {
     "data": {
      "text/plain": [
       "23"
      ]
     },
     "execution_count": 116,
     "metadata": {},
     "output_type": "execute_result"
    }
   ],
   "source": [
    "len(job_rating)"
   ]
  },
  {
   "cell_type": "code",
   "execution_count": 111,
   "id": "3d577ddc",
   "metadata": {},
   "outputs": [],
   "source": [
    "days_tags=driver.find_elements_by_xpath(\"//div[@class='d-flex align-items-end pl-std css-mi55ob']\")\n",
    "posting_days= [] #empty list\n",
    "for i in days_tags:\n",
    "    posting_days.append(i.text)"
   ]
  },
  {
   "cell_type": "code",
   "execution_count": 112,
   "id": "f96a3502",
   "metadata": {},
   "outputs": [
    {
     "data": {
      "text/plain": [
       "['6d',\n",
       " '24h',\n",
       " '1d',\n",
       " '30d+',\n",
       " '30d+',\n",
       " '3d',\n",
       " '24h',\n",
       " '14d',\n",
       " '24h',\n",
       " '26d',\n",
       " '30d+',\n",
       " '30d+',\n",
       " '25d',\n",
       " '14d',\n",
       " '30d+',\n",
       " '30d+',\n",
       " '3d',\n",
       " '30d+',\n",
       " '23d',\n",
       " '30d+',\n",
       " '30d+',\n",
       " '24h',\n",
       " '2d',\n",
       " '30d+',\n",
       " '30d+',\n",
       " '11d',\n",
       " '30d+',\n",
       " '13d',\n",
       " '30d+',\n",
       " '24h']"
      ]
     },
     "execution_count": 112,
     "metadata": {},
     "output_type": "execute_result"
    }
   ],
   "source": [
    "posting_days"
   ]
  },
  {
   "cell_type": "code",
   "execution_count": 113,
   "id": "3ccd4c1e",
   "metadata": {},
   "outputs": [
    {
     "data": {
      "text/plain": [
       "30"
      ]
     },
     "execution_count": 113,
     "metadata": {},
     "output_type": "execute_result"
    }
   ],
   "source": [
    "len(posting_days)"
   ]
  },
  {
   "cell_type": "markdown",
   "id": "79570010",
   "metadata": {},
   "source": [
    "Q5: Write a python program to scrape the salary data for Data Scientist designation in Noida location."
   ]
  },
  {
   "cell_type": "code",
   "execution_count": 49,
   "id": "6946e208",
   "metadata": {},
   "outputs": [],
   "source": [
    "import pandas as pd\n",
    "import selenium\n",
    "from selenium import webdriver"
   ]
  },
  {
   "cell_type": "code",
   "execution_count": 50,
   "id": "7ba746b2",
   "metadata": {},
   "outputs": [],
   "source": [
    "driver=webdriver.Chrome('chromedriver.exe')"
   ]
  },
  {
   "cell_type": "code",
   "execution_count": 51,
   "id": "f843389f",
   "metadata": {},
   "outputs": [],
   "source": [
    "url=\"https://www.glassdoor.co.in/Salaries/index.htm\""
   ]
  },
  {
   "cell_type": "code",
   "execution_count": 52,
   "id": "867f8900",
   "metadata": {},
   "outputs": [],
   "source": [
    "driver.get(url)"
   ]
  },
  {
   "cell_type": "code",
   "execution_count": 53,
   "id": "047fe8b2",
   "metadata": {},
   "outputs": [
    {
     "data": {
      "text/plain": [
       "<selenium.webdriver.remote.webelement.WebElement (session=\"c8fbd2b2bcdff8c0c55320a8fb84dd4f\", element=\"e9c5c00e-964d-43f4-8113-9a786e6362f9\")>"
      ]
     },
     "execution_count": 53,
     "metadata": {},
     "output_type": "execute_result"
    }
   ],
   "source": [
    "search_job=driver.find_element_by_id(\"KeywordSearch\")\n",
    "search_job"
   ]
  },
  {
   "cell_type": "code",
   "execution_count": 54,
   "id": "3890fe81",
   "metadata": {},
   "outputs": [],
   "source": [
    "search_job.send_keys(\"data sceintist\")"
   ]
  },
  {
   "cell_type": "code",
   "execution_count": 55,
   "id": "336f3abf",
   "metadata": {},
   "outputs": [
    {
     "data": {
      "text/plain": [
       "<selenium.webdriver.remote.webelement.WebElement (session=\"c8fbd2b2bcdff8c0c55320a8fb84dd4f\", element=\"ba20bc7e-2126-460b-bd54-b9e32013a294\")>"
      ]
     },
     "execution_count": 55,
     "metadata": {},
     "output_type": "execute_result"
    }
   ],
   "source": [
    "search_loc=driver.find_element_by_id(\"LocationSearch\")\n",
    "search_loc"
   ]
  },
  {
   "cell_type": "code",
   "execution_count": 56,
   "id": "1f88a213",
   "metadata": {},
   "outputs": [],
   "source": [
    "search_job.send_keys(\"noida\")"
   ]
  },
  {
   "cell_type": "code",
   "execution_count": 36,
   "id": "b44537f5",
   "metadata": {},
   "outputs": [],
   "source": [
    "search_btn=driver.find_element_by_xpath(\"//button[@class='gd-btn-mkt']\")\n",
    "search_btn.click()"
   ]
  },
  {
   "cell_type": "markdown",
   "id": "b02720f9",
   "metadata": {},
   "source": [
    "Q6 : Scrape data of first 100 sunglasses listings on flipkart.com. You have to scrape four attributes:"
   ]
  },
  {
   "cell_type": "code",
   "execution_count": 113,
   "id": "d89afa72",
   "metadata": {},
   "outputs": [],
   "source": [
    "import pandas as pd\n",
    "import selenium\n",
    "from selenium import webdriver"
   ]
  },
  {
   "cell_type": "code",
   "execution_count": 114,
   "id": "397fc35d",
   "metadata": {},
   "outputs": [],
   "source": [
    "driver=webdriver.Chrome('chromedriver.exe')"
   ]
  },
  {
   "cell_type": "code",
   "execution_count": 115,
   "id": "4d057c8f",
   "metadata": {},
   "outputs": [],
   "source": [
    "url=\"https://www.flipkart.com/\""
   ]
  },
  {
   "cell_type": "code",
   "execution_count": 116,
   "id": "216df5b0",
   "metadata": {},
   "outputs": [],
   "source": [
    "driver.get(url)"
   ]
  },
  {
   "cell_type": "code",
   "execution_count": 117,
   "id": "dc58d74e",
   "metadata": {},
   "outputs": [
    {
     "data": {
      "text/plain": [
       "<selenium.webdriver.remote.webelement.WebElement (session=\"afea4ad89ab320a7a161d1e2a782891d\", element=\"d6f97e95-80c2-4f97-b97f-bd138b7f368f\")>"
      ]
     },
     "execution_count": 117,
     "metadata": {},
     "output_type": "execute_result"
    }
   ],
   "source": [
    "search_product=driver.find_element_by_name(\"q\")\n",
    "search_product"
   ]
  },
  {
   "cell_type": "code",
   "execution_count": 118,
   "id": "10610941",
   "metadata": {},
   "outputs": [],
   "source": [
    "search_product.send_keys(\"sunglasses\")"
   ]
  },
  {
   "cell_type": "code",
   "execution_count": 68,
   "id": "0573db92",
   "metadata": {},
   "outputs": [],
   "source": [
    "search_btn=driver.find_element_by_xpath(\"//button[@class='L0Z3Pu']\")\n",
    "search_btn.click()"
   ]
  },
  {
   "cell_type": "code",
   "execution_count": 119,
   "id": "cd3c5bf9",
   "metadata": {},
   "outputs": [],
   "source": [
    "brand_tags=driver.find_elements_by_xpath(\"//div[@class='_2WkVRV']\")\n",
    "brand_name= [] #empty list\n",
    "for i in brand_tags:\n",
    "    brand_name.append(i.text)"
   ]
  },
  {
   "cell_type": "code",
   "execution_count": 120,
   "id": "46539c24",
   "metadata": {},
   "outputs": [
    {
     "data": {
      "text/plain": [
       "['Fastrack',\n",
       " 'ROZZETTA CRAFT',\n",
       " 'DEIXELS',\n",
       " 'HIPPON',\n",
       " 'PIRASO',\n",
       " 'NuVew',\n",
       " 'PHENOMENAL',\n",
       " 'Villain',\n",
       " 'Singco India',\n",
       " 'Silver Kartz',\n",
       " 'ROYAL SON',\n",
       " 'GANSTA',\n",
       " 'hipe',\n",
       " 'IRUS by IDEE',\n",
       " 'AISLIN',\n",
       " 'Flizz',\n",
       " 'Ray-Ban',\n",
       " 'elegante',\n",
       " 'IDEE',\n",
       " 'United Colors of Benetton.',\n",
       " 'Singco',\n",
       " 'Fravy',\n",
       " 'Badfella',\n",
       " 'Fastrack',\n",
       " 'ROZZETTA CRAFT',\n",
       " 'PIRASO',\n",
       " 'PHENOMENAL',\n",
       " 'Singco India',\n",
       " 'ROYAL SON',\n",
       " 'DEIXELS',\n",
       " 'GANSTA',\n",
       " 'hipe',\n",
       " 'AISLIN',\n",
       " 'NuVew',\n",
       " 'Silver Kartz',\n",
       " 'Ray-Ban',\n",
       " 'IRUS by IDEE',\n",
       " 'Fravy',\n",
       " 'Fastrack',\n",
       " 'ROZZETTA CRAFT']"
      ]
     },
     "execution_count": 120,
     "metadata": {},
     "output_type": "execute_result"
    }
   ],
   "source": [
    "brand_name"
   ]
  },
  {
   "cell_type": "code",
   "execution_count": 121,
   "id": "60bd1399",
   "metadata": {},
   "outputs": [
    {
     "data": {
      "text/plain": [
       "40"
      ]
     },
     "execution_count": 121,
     "metadata": {},
     "output_type": "execute_result"
    }
   ],
   "source": [
    "len(brand_name)"
   ]
  },
  {
   "cell_type": "code",
   "execution_count": 122,
   "id": "21d741ef",
   "metadata": {},
   "outputs": [],
   "source": [
    "description_tags=driver.find_elements_by_xpath(\"//a[@class='IRpwTa']\")\n",
    "product_description= [] #empty list\n",
    "for i in description_tags:\n",
    "    product_description.append(i.text)"
   ]
  },
  {
   "cell_type": "code",
   "execution_count": 123,
   "id": "d12fef74",
   "metadata": {},
   "outputs": [
    {
     "data": {
      "text/plain": [
       "['UV Protection Rectangular Sunglasses (Free Size)',\n",
       " 'UV Protection Retro Square Sunglasses (Free Size)',\n",
       " 'UV Protection Aviator, Wayfarer Sunglasses (Free Size)',\n",
       " 'UV Protection Wayfarer Sunglasses (55)',\n",
       " 'UV Protection Aviator Sunglasses (54)',\n",
       " 'UV Protection Aviator Sunglasses (58)',\n",
       " 'UV Protection Retro Square Sunglasses (Free Size)',\n",
       " 'Others Retro Square Sunglasses (Free Size)',\n",
       " 'UV Protection Aviator Sunglasses (Free Size)',\n",
       " 'UV Protection Oval Sunglasses (56)',\n",
       " 'UV Protection Wayfarer Sunglasses (55)',\n",
       " 'UV Protection Aviator Sunglasses (57)',\n",
       " 'Mirrored Wayfarer Sunglasses (55)',\n",
       " 'Gradient Rectangular Sunglasses (56)',\n",
       " 'UV Protection, Gradient Oval Sunglasses (58)',\n",
       " 'UV Protection Retro Square Sunglasses (Free Size)',\n",
       " 'Mirrored Aviator Sunglasses (63)',\n",
       " 'UV Protection Wrap-around Sunglasses (Free Size)',\n",
       " 'Gradient Aviator Sunglasses (58)',\n",
       " 'Gradient, UV Protection Aviator Sunglasses (57)',\n",
       " 'UV Protection, Others Aviator Sunglasses (32)',\n",
       " 'UV Protection Retro Square Sunglasses (Free Size)',\n",
       " 'Polarized, UV Protection Retro Square Sunglasses (53)',\n",
       " 'UV Protection Wayfarer Sunglasses (Free Size)',\n",
       " 'UV Protection, Gradient Rectangular Sunglasses (Free Si...',\n",
       " 'UV Protection Aviator Sunglasses (Free Size)',\n",
       " 'UV Protection, Mirrored Retro Square Sunglasses (53)',\n",
       " 'Mirrored, Riding Glasses, Others Sports Sunglasses (50)',\n",
       " 'Polarized, UV Protection Aviator Sunglasses (58)',\n",
       " 'UV Protection Round Sunglasses (Free Size)',\n",
       " 'UV Protection, Night Vision, Riding Glasses Aviator Sun...',\n",
       " 'UV Protection, Mirrored Round Sunglasses (Free Size)',\n",
       " 'UV Protection, Gradient Cat-eye Sunglasses (58)',\n",
       " 'UV Protection Aviator Sunglasses (57)',\n",
       " 'UV Protection Oval Sunglasses (56)',\n",
       " 'UV Protection Retro Square Sunglasses (55)',\n",
       " 'Gradient Rectangular Sunglasses (55)',\n",
       " 'UV Protection, Gradient, Night Vision Retro Square Sung...',\n",
       " 'UV Protection Wayfarer Sunglasses (Free Size)',\n",
       " 'UV Protection Retro Square Sunglasses (Free Size)']"
      ]
     },
     "execution_count": 123,
     "metadata": {},
     "output_type": "execute_result"
    }
   ],
   "source": [
    "product_description"
   ]
  },
  {
   "cell_type": "code",
   "execution_count": 124,
   "id": "3f917c78",
   "metadata": {},
   "outputs": [
    {
     "data": {
      "text/plain": [
       "40"
      ]
     },
     "execution_count": 124,
     "metadata": {},
     "output_type": "execute_result"
    }
   ],
   "source": [
    "len(product_description)"
   ]
  },
  {
   "cell_type": "code",
   "execution_count": 125,
   "id": "8d746964",
   "metadata": {},
   "outputs": [],
   "source": [
    "price_tags=driver.find_elements_by_xpath(\"//div[@class='_30jeq3']\")\n",
    "price= [] #empty list\n",
    "for i in price_tags:\n",
    "    price.append(i.text)"
   ]
  },
  {
   "cell_type": "code",
   "execution_count": 126,
   "id": "08987b28",
   "metadata": {},
   "outputs": [
    {
     "data": {
      "text/plain": [
       "['₹630',\n",
       " '₹499',\n",
       " '₹213',\n",
       " '₹251',\n",
       " '₹250',\n",
       " '₹215',\n",
       " '₹399',\n",
       " '₹599',\n",
       " '₹339',\n",
       " '₹284',\n",
       " '₹265',\n",
       " '₹281',\n",
       " '₹219',\n",
       " '₹542',\n",
       " '₹470',\n",
       " '₹399',\n",
       " '₹3,843',\n",
       " '₹499',\n",
       " '₹1,181',\n",
       " '₹1,599',\n",
       " '₹349',\n",
       " '₹289',\n",
       " '₹269',\n",
       " '₹733',\n",
       " '₹404',\n",
       " '₹349',\n",
       " '₹399',\n",
       " '₹249',\n",
       " '₹711',\n",
       " '₹209',\n",
       " '₹292',\n",
       " '₹219',\n",
       " '₹480',\n",
       " '₹195',\n",
       " '₹284',\n",
       " '₹3,843',\n",
       " '₹574',\n",
       " '₹329',\n",
       " '₹758',\n",
       " '₹499']"
      ]
     },
     "execution_count": 126,
     "metadata": {},
     "output_type": "execute_result"
    }
   ],
   "source": [
    "price"
   ]
  },
  {
   "cell_type": "code",
   "execution_count": 127,
   "id": "b73996b8",
   "metadata": {},
   "outputs": [
    {
     "data": {
      "text/plain": [
       "40"
      ]
     },
     "execution_count": 127,
     "metadata": {},
     "output_type": "execute_result"
    }
   ],
   "source": [
    "len(price)"
   ]
  },
  {
   "cell_type": "code",
   "execution_count": 128,
   "id": "2214eaf4",
   "metadata": {},
   "outputs": [],
   "source": [
    "discount_tags=driver.find_elements_by_xpath(\"//div[@class='_3Ay6Sb']\")\n",
    "discount= [] #empty list\n",
    "for i in discount_tags:\n",
    "    discount.append(i.text)"
   ]
  },
  {
   "cell_type": "code",
   "execution_count": 129,
   "id": "b9b2b603",
   "metadata": {},
   "outputs": [
    {
     "data": {
      "text/plain": [
       "['21% off',\n",
       " '77% off',\n",
       " '82% off',\n",
       " '79% off',\n",
       " '84% off',\n",
       " '72% off',\n",
       " '80% off',\n",
       " '20% off',\n",
       " '71% off',\n",
       " '76% off',\n",
       " '79% off',\n",
       " '85% off',\n",
       " '78% off',\n",
       " '52% off',\n",
       " '69% off',\n",
       " '81% off',\n",
       " '30% off',\n",
       " '66% off',\n",
       " '58% off',\n",
       " '61% off',\n",
       " '82% off',\n",
       " '80% off',\n",
       " '73% off',\n",
       " '18% off',\n",
       " '79% off',\n",
       " '78% off',\n",
       " '80% off',\n",
       " '83% off',\n",
       " '64% off',\n",
       " '73% off',\n",
       " '85% off',\n",
       " '86% off',\n",
       " '68% off',\n",
       " '75% off',\n",
       " '76% off',\n",
       " '30% off',\n",
       " '42% off',\n",
       " '83% off',\n",
       " '15% off',\n",
       " '77% off']"
      ]
     },
     "execution_count": 129,
     "metadata": {},
     "output_type": "execute_result"
    }
   ],
   "source": [
    "discount"
   ]
  },
  {
   "cell_type": "code",
   "execution_count": 130,
   "id": "b50192bf",
   "metadata": {},
   "outputs": [
    {
     "data": {
      "text/plain": [
       "40"
      ]
     },
     "execution_count": 130,
     "metadata": {},
     "output_type": "execute_result"
    }
   ],
   "source": [
    "len(discount)"
   ]
  },
  {
   "cell_type": "code",
   "execution_count": 131,
   "id": "2fad4a59",
   "metadata": {},
   "outputs": [
    {
     "data": {
      "text/html": [
       "<div>\n",
       "<style scoped>\n",
       "    .dataframe tbody tr th:only-of-type {\n",
       "        vertical-align: middle;\n",
       "    }\n",
       "\n",
       "    .dataframe tbody tr th {\n",
       "        vertical-align: top;\n",
       "    }\n",
       "\n",
       "    .dataframe thead th {\n",
       "        text-align: right;\n",
       "    }\n",
       "</style>\n",
       "<table border=\"1\" class=\"dataframe\">\n",
       "  <thead>\n",
       "    <tr style=\"text-align: right;\">\n",
       "      <th></th>\n",
       "      <th>brand</th>\n",
       "      <th>description</th>\n",
       "      <th>price</th>\n",
       "      <th>discount</th>\n",
       "    </tr>\n",
       "  </thead>\n",
       "  <tbody>\n",
       "    <tr>\n",
       "      <th>0</th>\n",
       "      <td>Fastrack</td>\n",
       "      <td>UV Protection Rectangular Sunglasses (Free Size)</td>\n",
       "      <td>₹630</td>\n",
       "      <td>21% off</td>\n",
       "    </tr>\n",
       "    <tr>\n",
       "      <th>1</th>\n",
       "      <td>ROZZETTA CRAFT</td>\n",
       "      <td>UV Protection Retro Square Sunglasses (Free Size)</td>\n",
       "      <td>₹499</td>\n",
       "      <td>77% off</td>\n",
       "    </tr>\n",
       "    <tr>\n",
       "      <th>2</th>\n",
       "      <td>DEIXELS</td>\n",
       "      <td>UV Protection Aviator, Wayfarer Sunglasses (Fr...</td>\n",
       "      <td>₹213</td>\n",
       "      <td>82% off</td>\n",
       "    </tr>\n",
       "    <tr>\n",
       "      <th>3</th>\n",
       "      <td>HIPPON</td>\n",
       "      <td>UV Protection Wayfarer Sunglasses (55)</td>\n",
       "      <td>₹251</td>\n",
       "      <td>79% off</td>\n",
       "    </tr>\n",
       "    <tr>\n",
       "      <th>4</th>\n",
       "      <td>PIRASO</td>\n",
       "      <td>UV Protection Aviator Sunglasses (54)</td>\n",
       "      <td>₹250</td>\n",
       "      <td>84% off</td>\n",
       "    </tr>\n",
       "    <tr>\n",
       "      <th>5</th>\n",
       "      <td>NuVew</td>\n",
       "      <td>UV Protection Aviator Sunglasses (58)</td>\n",
       "      <td>₹215</td>\n",
       "      <td>72% off</td>\n",
       "    </tr>\n",
       "    <tr>\n",
       "      <th>6</th>\n",
       "      <td>PHENOMENAL</td>\n",
       "      <td>UV Protection Retro Square Sunglasses (Free Size)</td>\n",
       "      <td>₹399</td>\n",
       "      <td>80% off</td>\n",
       "    </tr>\n",
       "    <tr>\n",
       "      <th>7</th>\n",
       "      <td>Villain</td>\n",
       "      <td>Others Retro Square Sunglasses (Free Size)</td>\n",
       "      <td>₹599</td>\n",
       "      <td>20% off</td>\n",
       "    </tr>\n",
       "    <tr>\n",
       "      <th>8</th>\n",
       "      <td>Singco India</td>\n",
       "      <td>UV Protection Aviator Sunglasses (Free Size)</td>\n",
       "      <td>₹339</td>\n",
       "      <td>71% off</td>\n",
       "    </tr>\n",
       "    <tr>\n",
       "      <th>9</th>\n",
       "      <td>Silver Kartz</td>\n",
       "      <td>UV Protection Oval Sunglasses (56)</td>\n",
       "      <td>₹284</td>\n",
       "      <td>76% off</td>\n",
       "    </tr>\n",
       "    <tr>\n",
       "      <th>10</th>\n",
       "      <td>ROYAL SON</td>\n",
       "      <td>UV Protection Wayfarer Sunglasses (55)</td>\n",
       "      <td>₹265</td>\n",
       "      <td>79% off</td>\n",
       "    </tr>\n",
       "    <tr>\n",
       "      <th>11</th>\n",
       "      <td>GANSTA</td>\n",
       "      <td>UV Protection Aviator Sunglasses (57)</td>\n",
       "      <td>₹281</td>\n",
       "      <td>85% off</td>\n",
       "    </tr>\n",
       "    <tr>\n",
       "      <th>12</th>\n",
       "      <td>hipe</td>\n",
       "      <td>Mirrored Wayfarer Sunglasses (55)</td>\n",
       "      <td>₹219</td>\n",
       "      <td>78% off</td>\n",
       "    </tr>\n",
       "    <tr>\n",
       "      <th>13</th>\n",
       "      <td>IRUS by IDEE</td>\n",
       "      <td>Gradient Rectangular Sunglasses (56)</td>\n",
       "      <td>₹542</td>\n",
       "      <td>52% off</td>\n",
       "    </tr>\n",
       "    <tr>\n",
       "      <th>14</th>\n",
       "      <td>AISLIN</td>\n",
       "      <td>UV Protection, Gradient Oval Sunglasses (58)</td>\n",
       "      <td>₹470</td>\n",
       "      <td>69% off</td>\n",
       "    </tr>\n",
       "    <tr>\n",
       "      <th>15</th>\n",
       "      <td>Flizz</td>\n",
       "      <td>UV Protection Retro Square Sunglasses (Free Size)</td>\n",
       "      <td>₹399</td>\n",
       "      <td>81% off</td>\n",
       "    </tr>\n",
       "    <tr>\n",
       "      <th>16</th>\n",
       "      <td>Ray-Ban</td>\n",
       "      <td>Mirrored Aviator Sunglasses (63)</td>\n",
       "      <td>₹3,843</td>\n",
       "      <td>30% off</td>\n",
       "    </tr>\n",
       "    <tr>\n",
       "      <th>17</th>\n",
       "      <td>elegante</td>\n",
       "      <td>UV Protection Wrap-around Sunglasses (Free Size)</td>\n",
       "      <td>₹499</td>\n",
       "      <td>66% off</td>\n",
       "    </tr>\n",
       "    <tr>\n",
       "      <th>18</th>\n",
       "      <td>IDEE</td>\n",
       "      <td>Gradient Aviator Sunglasses (58)</td>\n",
       "      <td>₹1,181</td>\n",
       "      <td>58% off</td>\n",
       "    </tr>\n",
       "    <tr>\n",
       "      <th>19</th>\n",
       "      <td>United Colors of Benetton.</td>\n",
       "      <td>Gradient, UV Protection Aviator Sunglasses (57)</td>\n",
       "      <td>₹1,599</td>\n",
       "      <td>61% off</td>\n",
       "    </tr>\n",
       "    <tr>\n",
       "      <th>20</th>\n",
       "      <td>Singco</td>\n",
       "      <td>UV Protection, Others Aviator Sunglasses (32)</td>\n",
       "      <td>₹349</td>\n",
       "      <td>82% off</td>\n",
       "    </tr>\n",
       "    <tr>\n",
       "      <th>21</th>\n",
       "      <td>Fravy</td>\n",
       "      <td>UV Protection Retro Square Sunglasses (Free Size)</td>\n",
       "      <td>₹289</td>\n",
       "      <td>80% off</td>\n",
       "    </tr>\n",
       "    <tr>\n",
       "      <th>22</th>\n",
       "      <td>Badfella</td>\n",
       "      <td>Polarized, UV Protection Retro Square Sunglass...</td>\n",
       "      <td>₹269</td>\n",
       "      <td>73% off</td>\n",
       "    </tr>\n",
       "    <tr>\n",
       "      <th>23</th>\n",
       "      <td>Fastrack</td>\n",
       "      <td>UV Protection Wayfarer Sunglasses (Free Size)</td>\n",
       "      <td>₹733</td>\n",
       "      <td>18% off</td>\n",
       "    </tr>\n",
       "    <tr>\n",
       "      <th>24</th>\n",
       "      <td>ROZZETTA CRAFT</td>\n",
       "      <td>UV Protection, Gradient Rectangular Sunglasses...</td>\n",
       "      <td>₹404</td>\n",
       "      <td>79% off</td>\n",
       "    </tr>\n",
       "    <tr>\n",
       "      <th>25</th>\n",
       "      <td>PIRASO</td>\n",
       "      <td>UV Protection Aviator Sunglasses (Free Size)</td>\n",
       "      <td>₹349</td>\n",
       "      <td>78% off</td>\n",
       "    </tr>\n",
       "    <tr>\n",
       "      <th>26</th>\n",
       "      <td>PHENOMENAL</td>\n",
       "      <td>UV Protection, Mirrored Retro Square Sunglasse...</td>\n",
       "      <td>₹399</td>\n",
       "      <td>80% off</td>\n",
       "    </tr>\n",
       "    <tr>\n",
       "      <th>27</th>\n",
       "      <td>Singco India</td>\n",
       "      <td>Mirrored, Riding Glasses, Others Sports Sungla...</td>\n",
       "      <td>₹249</td>\n",
       "      <td>83% off</td>\n",
       "    </tr>\n",
       "    <tr>\n",
       "      <th>28</th>\n",
       "      <td>ROYAL SON</td>\n",
       "      <td>Polarized, UV Protection Aviator Sunglasses (58)</td>\n",
       "      <td>₹711</td>\n",
       "      <td>64% off</td>\n",
       "    </tr>\n",
       "    <tr>\n",
       "      <th>29</th>\n",
       "      <td>DEIXELS</td>\n",
       "      <td>UV Protection Round Sunglasses (Free Size)</td>\n",
       "      <td>₹209</td>\n",
       "      <td>73% off</td>\n",
       "    </tr>\n",
       "    <tr>\n",
       "      <th>30</th>\n",
       "      <td>GANSTA</td>\n",
       "      <td>UV Protection, Night Vision, Riding Glasses Av...</td>\n",
       "      <td>₹292</td>\n",
       "      <td>85% off</td>\n",
       "    </tr>\n",
       "    <tr>\n",
       "      <th>31</th>\n",
       "      <td>hipe</td>\n",
       "      <td>UV Protection, Mirrored Round Sunglasses (Free...</td>\n",
       "      <td>₹219</td>\n",
       "      <td>86% off</td>\n",
       "    </tr>\n",
       "    <tr>\n",
       "      <th>32</th>\n",
       "      <td>AISLIN</td>\n",
       "      <td>UV Protection, Gradient Cat-eye Sunglasses (58)</td>\n",
       "      <td>₹480</td>\n",
       "      <td>68% off</td>\n",
       "    </tr>\n",
       "    <tr>\n",
       "      <th>33</th>\n",
       "      <td>NuVew</td>\n",
       "      <td>UV Protection Aviator Sunglasses (57)</td>\n",
       "      <td>₹195</td>\n",
       "      <td>75% off</td>\n",
       "    </tr>\n",
       "    <tr>\n",
       "      <th>34</th>\n",
       "      <td>Silver Kartz</td>\n",
       "      <td>UV Protection Oval Sunglasses (56)</td>\n",
       "      <td>₹284</td>\n",
       "      <td>76% off</td>\n",
       "    </tr>\n",
       "    <tr>\n",
       "      <th>35</th>\n",
       "      <td>Ray-Ban</td>\n",
       "      <td>UV Protection Retro Square Sunglasses (55)</td>\n",
       "      <td>₹3,843</td>\n",
       "      <td>30% off</td>\n",
       "    </tr>\n",
       "    <tr>\n",
       "      <th>36</th>\n",
       "      <td>IRUS by IDEE</td>\n",
       "      <td>Gradient Rectangular Sunglasses (55)</td>\n",
       "      <td>₹574</td>\n",
       "      <td>42% off</td>\n",
       "    </tr>\n",
       "    <tr>\n",
       "      <th>37</th>\n",
       "      <td>Fravy</td>\n",
       "      <td>UV Protection, Gradient, Night Vision Retro Sq...</td>\n",
       "      <td>₹329</td>\n",
       "      <td>83% off</td>\n",
       "    </tr>\n",
       "    <tr>\n",
       "      <th>38</th>\n",
       "      <td>Fastrack</td>\n",
       "      <td>UV Protection Wayfarer Sunglasses (Free Size)</td>\n",
       "      <td>₹758</td>\n",
       "      <td>15% off</td>\n",
       "    </tr>\n",
       "    <tr>\n",
       "      <th>39</th>\n",
       "      <td>ROZZETTA CRAFT</td>\n",
       "      <td>UV Protection Retro Square Sunglasses (Free Size)</td>\n",
       "      <td>₹499</td>\n",
       "      <td>77% off</td>\n",
       "    </tr>\n",
       "  </tbody>\n",
       "</table>\n",
       "</div>"
      ],
      "text/plain": [
       "                         brand  \\\n",
       "0                     Fastrack   \n",
       "1               ROZZETTA CRAFT   \n",
       "2                      DEIXELS   \n",
       "3                       HIPPON   \n",
       "4                       PIRASO   \n",
       "5                        NuVew   \n",
       "6                   PHENOMENAL   \n",
       "7                      Villain   \n",
       "8                 Singco India   \n",
       "9                 Silver Kartz   \n",
       "10                   ROYAL SON   \n",
       "11                      GANSTA   \n",
       "12                        hipe   \n",
       "13                IRUS by IDEE   \n",
       "14                      AISLIN   \n",
       "15                       Flizz   \n",
       "16                     Ray-Ban   \n",
       "17                    elegante   \n",
       "18                        IDEE   \n",
       "19  United Colors of Benetton.   \n",
       "20                      Singco   \n",
       "21                       Fravy   \n",
       "22                    Badfella   \n",
       "23                    Fastrack   \n",
       "24              ROZZETTA CRAFT   \n",
       "25                      PIRASO   \n",
       "26                  PHENOMENAL   \n",
       "27                Singco India   \n",
       "28                   ROYAL SON   \n",
       "29                     DEIXELS   \n",
       "30                      GANSTA   \n",
       "31                        hipe   \n",
       "32                      AISLIN   \n",
       "33                       NuVew   \n",
       "34                Silver Kartz   \n",
       "35                     Ray-Ban   \n",
       "36                IRUS by IDEE   \n",
       "37                       Fravy   \n",
       "38                    Fastrack   \n",
       "39              ROZZETTA CRAFT   \n",
       "\n",
       "                                          description   price discount  \n",
       "0    UV Protection Rectangular Sunglasses (Free Size)    ₹630  21% off  \n",
       "1   UV Protection Retro Square Sunglasses (Free Size)    ₹499  77% off  \n",
       "2   UV Protection Aviator, Wayfarer Sunglasses (Fr...    ₹213  82% off  \n",
       "3              UV Protection Wayfarer Sunglasses (55)    ₹251  79% off  \n",
       "4               UV Protection Aviator Sunglasses (54)    ₹250  84% off  \n",
       "5               UV Protection Aviator Sunglasses (58)    ₹215  72% off  \n",
       "6   UV Protection Retro Square Sunglasses (Free Size)    ₹399  80% off  \n",
       "7          Others Retro Square Sunglasses (Free Size)    ₹599  20% off  \n",
       "8        UV Protection Aviator Sunglasses (Free Size)    ₹339  71% off  \n",
       "9                  UV Protection Oval Sunglasses (56)    ₹284  76% off  \n",
       "10             UV Protection Wayfarer Sunglasses (55)    ₹265  79% off  \n",
       "11              UV Protection Aviator Sunglasses (57)    ₹281  85% off  \n",
       "12                  Mirrored Wayfarer Sunglasses (55)    ₹219  78% off  \n",
       "13               Gradient Rectangular Sunglasses (56)    ₹542  52% off  \n",
       "14       UV Protection, Gradient Oval Sunglasses (58)    ₹470  69% off  \n",
       "15  UV Protection Retro Square Sunglasses (Free Size)    ₹399  81% off  \n",
       "16                   Mirrored Aviator Sunglasses (63)  ₹3,843  30% off  \n",
       "17   UV Protection Wrap-around Sunglasses (Free Size)    ₹499  66% off  \n",
       "18                   Gradient Aviator Sunglasses (58)  ₹1,181  58% off  \n",
       "19    Gradient, UV Protection Aviator Sunglasses (57)  ₹1,599  61% off  \n",
       "20      UV Protection, Others Aviator Sunglasses (32)    ₹349  82% off  \n",
       "21  UV Protection Retro Square Sunglasses (Free Size)    ₹289  80% off  \n",
       "22  Polarized, UV Protection Retro Square Sunglass...    ₹269  73% off  \n",
       "23      UV Protection Wayfarer Sunglasses (Free Size)    ₹733  18% off  \n",
       "24  UV Protection, Gradient Rectangular Sunglasses...    ₹404  79% off  \n",
       "25       UV Protection Aviator Sunglasses (Free Size)    ₹349  78% off  \n",
       "26  UV Protection, Mirrored Retro Square Sunglasse...    ₹399  80% off  \n",
       "27  Mirrored, Riding Glasses, Others Sports Sungla...    ₹249  83% off  \n",
       "28   Polarized, UV Protection Aviator Sunglasses (58)    ₹711  64% off  \n",
       "29         UV Protection Round Sunglasses (Free Size)    ₹209  73% off  \n",
       "30  UV Protection, Night Vision, Riding Glasses Av...    ₹292  85% off  \n",
       "31  UV Protection, Mirrored Round Sunglasses (Free...    ₹219  86% off  \n",
       "32    UV Protection, Gradient Cat-eye Sunglasses (58)    ₹480  68% off  \n",
       "33              UV Protection Aviator Sunglasses (57)    ₹195  75% off  \n",
       "34                 UV Protection Oval Sunglasses (56)    ₹284  76% off  \n",
       "35         UV Protection Retro Square Sunglasses (55)  ₹3,843  30% off  \n",
       "36               Gradient Rectangular Sunglasses (55)    ₹574  42% off  \n",
       "37  UV Protection, Gradient, Night Vision Retro Sq...    ₹329  83% off  \n",
       "38      UV Protection Wayfarer Sunglasses (Free Size)    ₹758  15% off  \n",
       "39  UV Protection Retro Square Sunglasses (Free Size)    ₹499  77% off  "
      ]
     },
     "execution_count": 131,
     "metadata": {},
     "output_type": "execute_result"
    }
   ],
   "source": [
    "jobs=pd.DataFrame({})\n",
    "jobs['brand']=brand_name\n",
    "jobs['description']=product_description\n",
    "jobs['price']=price\n",
    "jobs['discount']=discount\n",
    "jobs"
   ]
  },
  {
   "cell_type": "code",
   "execution_count": 132,
   "id": "c755e9a9",
   "metadata": {},
   "outputs": [],
   "source": [
    "brand41_tags=driver.find_elements_by_xpath(\"//div[@class='_2WkVRV']\")\n",
    "brand_name= [] #empty list\n",
    "for i in brand41_tags:\n",
    "    brand_name.append(i.text)"
   ]
  },
  {
   "cell_type": "code",
   "execution_count": 133,
   "id": "16e282e5",
   "metadata": {},
   "outputs": [
    {
     "data": {
      "text/plain": [
       "['GANSTA',\n",
       " 'Singco India',\n",
       " 'PHENOMENAL',\n",
       " 'ROYAL SON',\n",
       " 'DEIXELS',\n",
       " 'PIRASO',\n",
       " 'hipe',\n",
       " 'NuVew',\n",
       " 'Silver Kartz',\n",
       " 'AISLIN',\n",
       " 'Fastrack',\n",
       " 'ROZZETTA CRAFT',\n",
       " 'GANSTA',\n",
       " 'Singco India',\n",
       " 'DEIXELS',\n",
       " 'PHENOMENAL',\n",
       " 'hipe',\n",
       " 'ROYAL SON',\n",
       " 'PIRASO',\n",
       " 'NuVew',\n",
       " 'Silver Kartz',\n",
       " 'Fastrack',\n",
       " 'ROZZETTA CRAFT',\n",
       " 'GANSTA',\n",
       " 'hipe',\n",
       " 'PHENOMENAL',\n",
       " 'ROYAL SON',\n",
       " 'PIRASO',\n",
       " 'NuVew',\n",
       " 'Singco India',\n",
       " 'Fastrack',\n",
       " 'ROZZETTA CRAFT',\n",
       " 'GANSTA',\n",
       " 'PHENOMENAL',\n",
       " 'ROYAL SON',\n",
       " 'hipe',\n",
       " 'Fastrack',\n",
       " 'ROZZETTA CRAFT',\n",
       " 'PHENOMENAL',\n",
       " 'ROYAL SON']"
      ]
     },
     "execution_count": 133,
     "metadata": {},
     "output_type": "execute_result"
    }
   ],
   "source": [
    "brand_name"
   ]
  },
  {
   "cell_type": "code",
   "execution_count": 134,
   "id": "4f498ccf",
   "metadata": {},
   "outputs": [
    {
     "data": {
      "text/plain": [
       "40"
      ]
     },
     "execution_count": 134,
     "metadata": {},
     "output_type": "execute_result"
    }
   ],
   "source": [
    "len(brand_name)"
   ]
  },
  {
   "cell_type": "code",
   "execution_count": 135,
   "id": "3f586d5e",
   "metadata": {},
   "outputs": [],
   "source": [
    "description41_tags=driver.find_elements_by_xpath(\"//a[@class='IRpwTa']\")\n",
    "product_description= [] #empty list\n",
    "for i in description41_tags:\n",
    "    product_description.append(i.text)"
   ]
  },
  {
   "cell_type": "code",
   "execution_count": 136,
   "id": "831f8e92",
   "metadata": {},
   "outputs": [
    {
     "data": {
      "text/plain": [
       "['UV Protection Aviator Sunglasses (57)',\n",
       " 'Riding Glasses, UV Protection, Others Aviator Sunglasse...',\n",
       " 'UV Protection, Mirrored Retro Square Sunglasses (Free S...',\n",
       " 'UV Protection, Gradient Wayfarer Sunglasses (55)',\n",
       " 'Polarized, UV Protection, Riding Glasses Wayfarer Sungl...',\n",
       " 'UV Protection Aviator Sunglasses (54)',\n",
       " 'Mirrored, UV Protection, Gradient Round Sunglasses (55)',\n",
       " 'UV Protection, Mirrored, Night Vision, Riding Glasses S...',\n",
       " 'UV Protection Clubmaster Sunglasses (53)',\n",
       " 'UV Protection Aviator Sunglasses (58)',\n",
       " 'Gradient, UV Protection Wayfarer Sunglasses (Free Size)',\n",
       " 'UV Protection, Riding Glasses Rectangular Sunglasses (F...',\n",
       " 'UV Protection, Mirrored Wayfarer Sunglasses (53)',\n",
       " 'UV Protection, Riding Glasses, Others Aviator, Wayfarer...',\n",
       " 'UV Protection Wayfarer Sunglasses (Free Size)',\n",
       " 'UV Protection Clubmaster Sunglasses (Free Size)',\n",
       " 'UV Protection, Mirrored Aviator Sunglasses (Free Size)',\n",
       " 'UV Protection Rectangular Sunglasses (58)',\n",
       " 'UV Protection Aviator Sunglasses (58)',\n",
       " 'UV Protection Cat-eye Sunglasses (60)',\n",
       " 'UV Protection Wayfarer, Aviator Sunglasses (88)',\n",
       " 'UV Protection Aviator Sunglasses (Free Size)',\n",
       " 'UV Protection, Gradient Rectangular Sunglasses (Free Si...',\n",
       " 'UV Protection, Riding Glasses Wayfarer Sunglasses (53)',\n",
       " 'UV Protection Sports Sunglasses (Free Size)',\n",
       " 'UV Protection, Mirrored Clubmaster Sunglasses (Free Siz...',\n",
       " 'Mirrored Aviator Sunglasses (55)',\n",
       " 'UV Protection Wayfarer Sunglasses (32)',\n",
       " 'UV Protection, Night Vision, Riding Glasses Sports Sung...',\n",
       " 'Mirrored, UV Protection, Riding Glasses, Others Wrap-ar...',\n",
       " 'UV Protection Shield Sunglasses (Free Size)',\n",
       " 'Gradient, UV Protection Round Sunglasses (Free Size)',\n",
       " 'UV Protection, Gradient Wayfarer Sunglasses (53)',\n",
       " 'UV Protection, Mirrored Retro Square Sunglasses (53)',\n",
       " 'Polarized Retro Square Sunglasses (58)',\n",
       " 'UV Protection, Night Vision, Gradient, Mirrored Round, ...',\n",
       " 'Gradient, UV Protection Wayfarer Sunglasses (Free Size)',\n",
       " 'UV Protection, Gradient Round Sunglasses (Free Size)',\n",
       " 'UV Protection, Mirrored, Gradient Retro Square Sunglass...',\n",
       " 'Mirrored Aviator Sunglasses (58)']"
      ]
     },
     "execution_count": 136,
     "metadata": {},
     "output_type": "execute_result"
    }
   ],
   "source": [
    "product_description"
   ]
  },
  {
   "cell_type": "code",
   "execution_count": 137,
   "id": "f41a811b",
   "metadata": {},
   "outputs": [
    {
     "data": {
      "text/plain": [
       "40"
      ]
     },
     "execution_count": 137,
     "metadata": {},
     "output_type": "execute_result"
    }
   ],
   "source": [
    "len(product_description)"
   ]
  },
  {
   "cell_type": "code",
   "execution_count": 138,
   "id": "104ea003",
   "metadata": {},
   "outputs": [],
   "source": [
    "price41_tags=driver.find_elements_by_xpath(\"//div[@class='_30jeq3']\")\n",
    "price= [] #empty list\n",
    "for i in price41_tags:\n",
    "    price.append(i.text)"
   ]
  },
  {
   "cell_type": "code",
   "execution_count": 139,
   "id": "abacee62",
   "metadata": {},
   "outputs": [
    {
     "data": {
      "text/plain": [
       "['₹337',\n",
       " '₹239',\n",
       " '₹399',\n",
       " '₹217',\n",
       " '₹234',\n",
       " '₹250',\n",
       " '₹210',\n",
       " '₹342',\n",
       " '₹367',\n",
       " '₹890',\n",
       " '₹621',\n",
       " '₹449',\n",
       " '₹199',\n",
       " '₹209',\n",
       " '₹198',\n",
       " '₹319',\n",
       " '₹199',\n",
       " '₹474',\n",
       " '₹349',\n",
       " '₹419',\n",
       " '₹265',\n",
       " '₹674',\n",
       " '₹499',\n",
       " '₹260',\n",
       " '₹319',\n",
       " '₹319',\n",
       " '₹379',\n",
       " '₹250',\n",
       " '₹196',\n",
       " '₹349',\n",
       " '₹759',\n",
       " '₹449',\n",
       " '₹263',\n",
       " '₹399',\n",
       " '₹899',\n",
       " '₹189',\n",
       " '₹638',\n",
       " '₹449',\n",
       " '₹259',\n",
       " '₹399']"
      ]
     },
     "execution_count": 139,
     "metadata": {},
     "output_type": "execute_result"
    }
   ],
   "source": [
    "price"
   ]
  },
  {
   "cell_type": "code",
   "execution_count": 140,
   "id": "700256f1",
   "metadata": {},
   "outputs": [
    {
     "data": {
      "text/plain": [
       "40"
      ]
     },
     "execution_count": 140,
     "metadata": {},
     "output_type": "execute_result"
    }
   ],
   "source": [
    "len(price)"
   ]
  },
  {
   "cell_type": "code",
   "execution_count": 141,
   "id": "f4cac216",
   "metadata": {},
   "outputs": [],
   "source": [
    "discount41_tags=driver.find_elements_by_xpath(\"//div[@class='_3Ay6Sb']\")\n",
    "discount= [] #empty list\n",
    "for i in discount41_tags:\n",
    "    discount.append(i.text)"
   ]
  },
  {
   "cell_type": "code",
   "execution_count": 142,
   "id": "1efbe1c9",
   "metadata": {},
   "outputs": [
    {
     "data": {
      "text/plain": [
       "['83% off',\n",
       " '84% off',\n",
       " '80% off',\n",
       " '78% off',\n",
       " '60% off',\n",
       " '84% off',\n",
       " '85% off',\n",
       " '63% off',\n",
       " '75% off',\n",
       " '75% off',\n",
       " '22% off',\n",
       " '79% off',\n",
       " '80% off',\n",
       " '70% off',\n",
       " '60% off',\n",
       " '84% off',\n",
       " '80% off',\n",
       " '68% off',\n",
       " '86% off',\n",
       " '71% off',\n",
       " '77% off',\n",
       " '25% off',\n",
       " '77% off',\n",
       " '86% off',\n",
       " '83% off',\n",
       " '84% off',\n",
       " '74% off',\n",
       " '84% off',\n",
       " '79% off',\n",
       " '82% off',\n",
       " '15% off',\n",
       " '77% off',\n",
       " '86% off',\n",
       " '80% off',\n",
       " '55% off',\n",
       " '81% off',\n",
       " '20% off',\n",
       " '77% off',\n",
       " '87% off',\n",
       " '73% off']"
      ]
     },
     "execution_count": 142,
     "metadata": {},
     "output_type": "execute_result"
    }
   ],
   "source": [
    "discount"
   ]
  },
  {
   "cell_type": "code",
   "execution_count": 143,
   "id": "937c7f9d",
   "metadata": {},
   "outputs": [
    {
     "data": {
      "text/plain": [
       "40"
      ]
     },
     "execution_count": 143,
     "metadata": {},
     "output_type": "execute_result"
    }
   ],
   "source": [
    "len(discount)"
   ]
  },
  {
   "cell_type": "code",
   "execution_count": 144,
   "id": "be9ce901",
   "metadata": {},
   "outputs": [
    {
     "data": {
      "text/html": [
       "<div>\n",
       "<style scoped>\n",
       "    .dataframe tbody tr th:only-of-type {\n",
       "        vertical-align: middle;\n",
       "    }\n",
       "\n",
       "    .dataframe tbody tr th {\n",
       "        vertical-align: top;\n",
       "    }\n",
       "\n",
       "    .dataframe thead th {\n",
       "        text-align: right;\n",
       "    }\n",
       "</style>\n",
       "<table border=\"1\" class=\"dataframe\">\n",
       "  <thead>\n",
       "    <tr style=\"text-align: right;\">\n",
       "      <th></th>\n",
       "      <th>brand</th>\n",
       "      <th>description</th>\n",
       "      <th>price</th>\n",
       "      <th>discount</th>\n",
       "    </tr>\n",
       "  </thead>\n",
       "  <tbody>\n",
       "    <tr>\n",
       "      <th>0</th>\n",
       "      <td>GANSTA</td>\n",
       "      <td>UV Protection Aviator Sunglasses (57)</td>\n",
       "      <td>₹337</td>\n",
       "      <td>83% off</td>\n",
       "    </tr>\n",
       "    <tr>\n",
       "      <th>1</th>\n",
       "      <td>Singco India</td>\n",
       "      <td>Riding Glasses, UV Protection, Others Aviator ...</td>\n",
       "      <td>₹239</td>\n",
       "      <td>84% off</td>\n",
       "    </tr>\n",
       "    <tr>\n",
       "      <th>2</th>\n",
       "      <td>PHENOMENAL</td>\n",
       "      <td>UV Protection, Mirrored Retro Square Sunglasse...</td>\n",
       "      <td>₹399</td>\n",
       "      <td>80% off</td>\n",
       "    </tr>\n",
       "    <tr>\n",
       "      <th>3</th>\n",
       "      <td>ROYAL SON</td>\n",
       "      <td>UV Protection, Gradient Wayfarer Sunglasses (55)</td>\n",
       "      <td>₹217</td>\n",
       "      <td>78% off</td>\n",
       "    </tr>\n",
       "    <tr>\n",
       "      <th>4</th>\n",
       "      <td>DEIXELS</td>\n",
       "      <td>Polarized, UV Protection, Riding Glasses Wayfa...</td>\n",
       "      <td>₹234</td>\n",
       "      <td>60% off</td>\n",
       "    </tr>\n",
       "    <tr>\n",
       "      <th>5</th>\n",
       "      <td>PIRASO</td>\n",
       "      <td>UV Protection Aviator Sunglasses (54)</td>\n",
       "      <td>₹250</td>\n",
       "      <td>84% off</td>\n",
       "    </tr>\n",
       "    <tr>\n",
       "      <th>6</th>\n",
       "      <td>hipe</td>\n",
       "      <td>Mirrored, UV Protection, Gradient Round Sungla...</td>\n",
       "      <td>₹210</td>\n",
       "      <td>85% off</td>\n",
       "    </tr>\n",
       "    <tr>\n",
       "      <th>7</th>\n",
       "      <td>NuVew</td>\n",
       "      <td>UV Protection, Mirrored, Night Vision, Riding ...</td>\n",
       "      <td>₹342</td>\n",
       "      <td>63% off</td>\n",
       "    </tr>\n",
       "    <tr>\n",
       "      <th>8</th>\n",
       "      <td>Silver Kartz</td>\n",
       "      <td>UV Protection Clubmaster Sunglasses (53)</td>\n",
       "      <td>₹367</td>\n",
       "      <td>75% off</td>\n",
       "    </tr>\n",
       "    <tr>\n",
       "      <th>9</th>\n",
       "      <td>AISLIN</td>\n",
       "      <td>UV Protection Aviator Sunglasses (58)</td>\n",
       "      <td>₹890</td>\n",
       "      <td>75% off</td>\n",
       "    </tr>\n",
       "    <tr>\n",
       "      <th>10</th>\n",
       "      <td>Fastrack</td>\n",
       "      <td>Gradient, UV Protection Wayfarer Sunglasses (F...</td>\n",
       "      <td>₹621</td>\n",
       "      <td>22% off</td>\n",
       "    </tr>\n",
       "    <tr>\n",
       "      <th>11</th>\n",
       "      <td>ROZZETTA CRAFT</td>\n",
       "      <td>UV Protection, Riding Glasses Rectangular Sung...</td>\n",
       "      <td>₹449</td>\n",
       "      <td>79% off</td>\n",
       "    </tr>\n",
       "    <tr>\n",
       "      <th>12</th>\n",
       "      <td>GANSTA</td>\n",
       "      <td>UV Protection, Mirrored Wayfarer Sunglasses (53)</td>\n",
       "      <td>₹199</td>\n",
       "      <td>80% off</td>\n",
       "    </tr>\n",
       "    <tr>\n",
       "      <th>13</th>\n",
       "      <td>Singco India</td>\n",
       "      <td>UV Protection, Riding Glasses, Others Aviator,...</td>\n",
       "      <td>₹209</td>\n",
       "      <td>70% off</td>\n",
       "    </tr>\n",
       "    <tr>\n",
       "      <th>14</th>\n",
       "      <td>DEIXELS</td>\n",
       "      <td>UV Protection Wayfarer Sunglasses (Free Size)</td>\n",
       "      <td>₹198</td>\n",
       "      <td>60% off</td>\n",
       "    </tr>\n",
       "    <tr>\n",
       "      <th>15</th>\n",
       "      <td>PHENOMENAL</td>\n",
       "      <td>UV Protection Clubmaster Sunglasses (Free Size)</td>\n",
       "      <td>₹319</td>\n",
       "      <td>84% off</td>\n",
       "    </tr>\n",
       "    <tr>\n",
       "      <th>16</th>\n",
       "      <td>hipe</td>\n",
       "      <td>UV Protection, Mirrored Aviator Sunglasses (Fr...</td>\n",
       "      <td>₹199</td>\n",
       "      <td>80% off</td>\n",
       "    </tr>\n",
       "    <tr>\n",
       "      <th>17</th>\n",
       "      <td>ROYAL SON</td>\n",
       "      <td>UV Protection Rectangular Sunglasses (58)</td>\n",
       "      <td>₹474</td>\n",
       "      <td>68% off</td>\n",
       "    </tr>\n",
       "    <tr>\n",
       "      <th>18</th>\n",
       "      <td>PIRASO</td>\n",
       "      <td>UV Protection Aviator Sunglasses (58)</td>\n",
       "      <td>₹349</td>\n",
       "      <td>86% off</td>\n",
       "    </tr>\n",
       "    <tr>\n",
       "      <th>19</th>\n",
       "      <td>NuVew</td>\n",
       "      <td>UV Protection Cat-eye Sunglasses (60)</td>\n",
       "      <td>₹419</td>\n",
       "      <td>71% off</td>\n",
       "    </tr>\n",
       "    <tr>\n",
       "      <th>20</th>\n",
       "      <td>Silver Kartz</td>\n",
       "      <td>UV Protection Wayfarer, Aviator Sunglasses (88)</td>\n",
       "      <td>₹265</td>\n",
       "      <td>77% off</td>\n",
       "    </tr>\n",
       "    <tr>\n",
       "      <th>21</th>\n",
       "      <td>Fastrack</td>\n",
       "      <td>UV Protection Aviator Sunglasses (Free Size)</td>\n",
       "      <td>₹674</td>\n",
       "      <td>25% off</td>\n",
       "    </tr>\n",
       "    <tr>\n",
       "      <th>22</th>\n",
       "      <td>ROZZETTA CRAFT</td>\n",
       "      <td>UV Protection, Gradient Rectangular Sunglasses...</td>\n",
       "      <td>₹499</td>\n",
       "      <td>77% off</td>\n",
       "    </tr>\n",
       "    <tr>\n",
       "      <th>23</th>\n",
       "      <td>GANSTA</td>\n",
       "      <td>UV Protection, Riding Glasses Wayfarer Sunglas...</td>\n",
       "      <td>₹260</td>\n",
       "      <td>86% off</td>\n",
       "    </tr>\n",
       "    <tr>\n",
       "      <th>24</th>\n",
       "      <td>hipe</td>\n",
       "      <td>UV Protection Sports Sunglasses (Free Size)</td>\n",
       "      <td>₹319</td>\n",
       "      <td>83% off</td>\n",
       "    </tr>\n",
       "    <tr>\n",
       "      <th>25</th>\n",
       "      <td>PHENOMENAL</td>\n",
       "      <td>UV Protection, Mirrored Clubmaster Sunglasses ...</td>\n",
       "      <td>₹319</td>\n",
       "      <td>84% off</td>\n",
       "    </tr>\n",
       "    <tr>\n",
       "      <th>26</th>\n",
       "      <td>ROYAL SON</td>\n",
       "      <td>Mirrored Aviator Sunglasses (55)</td>\n",
       "      <td>₹379</td>\n",
       "      <td>74% off</td>\n",
       "    </tr>\n",
       "    <tr>\n",
       "      <th>27</th>\n",
       "      <td>PIRASO</td>\n",
       "      <td>UV Protection Wayfarer Sunglasses (32)</td>\n",
       "      <td>₹250</td>\n",
       "      <td>84% off</td>\n",
       "    </tr>\n",
       "    <tr>\n",
       "      <th>28</th>\n",
       "      <td>NuVew</td>\n",
       "      <td>UV Protection, Night Vision, Riding Glasses Sp...</td>\n",
       "      <td>₹196</td>\n",
       "      <td>79% off</td>\n",
       "    </tr>\n",
       "    <tr>\n",
       "      <th>29</th>\n",
       "      <td>Singco India</td>\n",
       "      <td>Mirrored, UV Protection, Riding Glasses, Other...</td>\n",
       "      <td>₹349</td>\n",
       "      <td>82% off</td>\n",
       "    </tr>\n",
       "    <tr>\n",
       "      <th>30</th>\n",
       "      <td>Fastrack</td>\n",
       "      <td>UV Protection Shield Sunglasses (Free Size)</td>\n",
       "      <td>₹759</td>\n",
       "      <td>15% off</td>\n",
       "    </tr>\n",
       "    <tr>\n",
       "      <th>31</th>\n",
       "      <td>ROZZETTA CRAFT</td>\n",
       "      <td>Gradient, UV Protection Round Sunglasses (Free...</td>\n",
       "      <td>₹449</td>\n",
       "      <td>77% off</td>\n",
       "    </tr>\n",
       "    <tr>\n",
       "      <th>32</th>\n",
       "      <td>GANSTA</td>\n",
       "      <td>UV Protection, Gradient Wayfarer Sunglasses (53)</td>\n",
       "      <td>₹263</td>\n",
       "      <td>86% off</td>\n",
       "    </tr>\n",
       "    <tr>\n",
       "      <th>33</th>\n",
       "      <td>PHENOMENAL</td>\n",
       "      <td>UV Protection, Mirrored Retro Square Sunglasse...</td>\n",
       "      <td>₹399</td>\n",
       "      <td>80% off</td>\n",
       "    </tr>\n",
       "    <tr>\n",
       "      <th>34</th>\n",
       "      <td>ROYAL SON</td>\n",
       "      <td>Polarized Retro Square Sunglasses (58)</td>\n",
       "      <td>₹899</td>\n",
       "      <td>55% off</td>\n",
       "    </tr>\n",
       "    <tr>\n",
       "      <th>35</th>\n",
       "      <td>hipe</td>\n",
       "      <td>UV Protection, Night Vision, Gradient, Mirrore...</td>\n",
       "      <td>₹189</td>\n",
       "      <td>81% off</td>\n",
       "    </tr>\n",
       "    <tr>\n",
       "      <th>36</th>\n",
       "      <td>Fastrack</td>\n",
       "      <td>Gradient, UV Protection Wayfarer Sunglasses (F...</td>\n",
       "      <td>₹638</td>\n",
       "      <td>20% off</td>\n",
       "    </tr>\n",
       "    <tr>\n",
       "      <th>37</th>\n",
       "      <td>ROZZETTA CRAFT</td>\n",
       "      <td>UV Protection, Gradient Round Sunglasses (Free...</td>\n",
       "      <td>₹449</td>\n",
       "      <td>77% off</td>\n",
       "    </tr>\n",
       "    <tr>\n",
       "      <th>38</th>\n",
       "      <td>PHENOMENAL</td>\n",
       "      <td>UV Protection, Mirrored, Gradient Retro Square...</td>\n",
       "      <td>₹259</td>\n",
       "      <td>87% off</td>\n",
       "    </tr>\n",
       "    <tr>\n",
       "      <th>39</th>\n",
       "      <td>ROYAL SON</td>\n",
       "      <td>Mirrored Aviator Sunglasses (58)</td>\n",
       "      <td>₹399</td>\n",
       "      <td>73% off</td>\n",
       "    </tr>\n",
       "  </tbody>\n",
       "</table>\n",
       "</div>"
      ],
      "text/plain": [
       "             brand                                        description price  \\\n",
       "0           GANSTA              UV Protection Aviator Sunglasses (57)  ₹337   \n",
       "1     Singco India  Riding Glasses, UV Protection, Others Aviator ...  ₹239   \n",
       "2       PHENOMENAL  UV Protection, Mirrored Retro Square Sunglasse...  ₹399   \n",
       "3        ROYAL SON   UV Protection, Gradient Wayfarer Sunglasses (55)  ₹217   \n",
       "4          DEIXELS  Polarized, UV Protection, Riding Glasses Wayfa...  ₹234   \n",
       "5           PIRASO              UV Protection Aviator Sunglasses (54)  ₹250   \n",
       "6             hipe  Mirrored, UV Protection, Gradient Round Sungla...  ₹210   \n",
       "7            NuVew  UV Protection, Mirrored, Night Vision, Riding ...  ₹342   \n",
       "8     Silver Kartz           UV Protection Clubmaster Sunglasses (53)  ₹367   \n",
       "9           AISLIN              UV Protection Aviator Sunglasses (58)  ₹890   \n",
       "10        Fastrack  Gradient, UV Protection Wayfarer Sunglasses (F...  ₹621   \n",
       "11  ROZZETTA CRAFT  UV Protection, Riding Glasses Rectangular Sung...  ₹449   \n",
       "12          GANSTA   UV Protection, Mirrored Wayfarer Sunglasses (53)  ₹199   \n",
       "13    Singco India  UV Protection, Riding Glasses, Others Aviator,...  ₹209   \n",
       "14         DEIXELS      UV Protection Wayfarer Sunglasses (Free Size)  ₹198   \n",
       "15      PHENOMENAL    UV Protection Clubmaster Sunglasses (Free Size)  ₹319   \n",
       "16            hipe  UV Protection, Mirrored Aviator Sunglasses (Fr...  ₹199   \n",
       "17       ROYAL SON          UV Protection Rectangular Sunglasses (58)  ₹474   \n",
       "18          PIRASO              UV Protection Aviator Sunglasses (58)  ₹349   \n",
       "19           NuVew              UV Protection Cat-eye Sunglasses (60)  ₹419   \n",
       "20    Silver Kartz    UV Protection Wayfarer, Aviator Sunglasses (88)  ₹265   \n",
       "21        Fastrack       UV Protection Aviator Sunglasses (Free Size)  ₹674   \n",
       "22  ROZZETTA CRAFT  UV Protection, Gradient Rectangular Sunglasses...  ₹499   \n",
       "23          GANSTA  UV Protection, Riding Glasses Wayfarer Sunglas...  ₹260   \n",
       "24            hipe        UV Protection Sports Sunglasses (Free Size)  ₹319   \n",
       "25      PHENOMENAL  UV Protection, Mirrored Clubmaster Sunglasses ...  ₹319   \n",
       "26       ROYAL SON                   Mirrored Aviator Sunglasses (55)  ₹379   \n",
       "27          PIRASO             UV Protection Wayfarer Sunglasses (32)  ₹250   \n",
       "28           NuVew  UV Protection, Night Vision, Riding Glasses Sp...  ₹196   \n",
       "29    Singco India  Mirrored, UV Protection, Riding Glasses, Other...  ₹349   \n",
       "30        Fastrack        UV Protection Shield Sunglasses (Free Size)  ₹759   \n",
       "31  ROZZETTA CRAFT  Gradient, UV Protection Round Sunglasses (Free...  ₹449   \n",
       "32          GANSTA   UV Protection, Gradient Wayfarer Sunglasses (53)  ₹263   \n",
       "33      PHENOMENAL  UV Protection, Mirrored Retro Square Sunglasse...  ₹399   \n",
       "34       ROYAL SON             Polarized Retro Square Sunglasses (58)  ₹899   \n",
       "35            hipe  UV Protection, Night Vision, Gradient, Mirrore...  ₹189   \n",
       "36        Fastrack  Gradient, UV Protection Wayfarer Sunglasses (F...  ₹638   \n",
       "37  ROZZETTA CRAFT  UV Protection, Gradient Round Sunglasses (Free...  ₹449   \n",
       "38      PHENOMENAL  UV Protection, Mirrored, Gradient Retro Square...  ₹259   \n",
       "39       ROYAL SON                   Mirrored Aviator Sunglasses (58)  ₹399   \n",
       "\n",
       "   discount  \n",
       "0   83% off  \n",
       "1   84% off  \n",
       "2   80% off  \n",
       "3   78% off  \n",
       "4   60% off  \n",
       "5   84% off  \n",
       "6   85% off  \n",
       "7   63% off  \n",
       "8   75% off  \n",
       "9   75% off  \n",
       "10  22% off  \n",
       "11  79% off  \n",
       "12  80% off  \n",
       "13  70% off  \n",
       "14  60% off  \n",
       "15  84% off  \n",
       "16  80% off  \n",
       "17  68% off  \n",
       "18  86% off  \n",
       "19  71% off  \n",
       "20  77% off  \n",
       "21  25% off  \n",
       "22  77% off  \n",
       "23  86% off  \n",
       "24  83% off  \n",
       "25  84% off  \n",
       "26  74% off  \n",
       "27  84% off  \n",
       "28  79% off  \n",
       "29  82% off  \n",
       "30  15% off  \n",
       "31  77% off  \n",
       "32  86% off  \n",
       "33  80% off  \n",
       "34  55% off  \n",
       "35  81% off  \n",
       "36  20% off  \n",
       "37  77% off  \n",
       "38  87% off  \n",
       "39  73% off  "
      ]
     },
     "execution_count": 144,
     "metadata": {},
     "output_type": "execute_result"
    }
   ],
   "source": [
    "jobs=pd.DataFrame({})\n",
    "jobs['brand']=brand_name\n",
    "jobs['description']=product_description\n",
    "jobs['price']=price\n",
    "jobs['discount']=discount\n",
    "jobs"
   ]
  },
  {
   "cell_type": "code",
   "execution_count": 145,
   "id": "ede677dd",
   "metadata": {},
   "outputs": [],
   "source": [
    "brand81_tags=driver.find_elements_by_xpath(\"//div[@class='_2WkVRV']\")\n",
    "brand_name= [] #empty list\n",
    "for i in brand81_tags:\n",
    "    brand_name.append(i.text)"
   ]
  },
  {
   "cell_type": "code",
   "execution_count": 146,
   "id": "01f83339",
   "metadata": {},
   "outputs": [
    {
     "data": {
      "text/plain": [
       "['GANSTA',\n",
       " 'Fastrack',\n",
       " 'GANSTA',\n",
       " 'ROZZETTA CRAFT',\n",
       " 'ROYAL SON',\n",
       " 'Fastrack',\n",
       " 'Fastrack',\n",
       " 'ROZZETTA CRAFT',\n",
       " 'ROYAL SON',\n",
       " 'GANSTA',\n",
       " 'Fastrack',\n",
       " 'ROYAL SON',\n",
       " 'ROZZETTA CRAFT',\n",
       " 'GANSTA',\n",
       " 'Fastrack',\n",
       " 'ROYAL SON',\n",
       " 'ROZZETTA CRAFT',\n",
       " 'Fastrack',\n",
       " 'ROZZETTA CRAFT',\n",
       " 'ROYAL SON',\n",
       " 'Fastrack',\n",
       " 'ROZZETTA CRAFT',\n",
       " 'Fastrack',\n",
       " 'Fastrack',\n",
       " 'Fastrack',\n",
       " 'Fastrack',\n",
       " 'Fastrack',\n",
       " 'Fastrack',\n",
       " 'Fastrack',\n",
       " 'Fastrack',\n",
       " 'Fastrack',\n",
       " 'Fastrack',\n",
       " 'Fastrack',\n",
       " 'Fastrack',\n",
       " 'Fastrack',\n",
       " 'Fastrack',\n",
       " 'Fastrack',\n",
       " 'Fastrack',\n",
       " 'Fastrack',\n",
       " 'Fastrack']"
      ]
     },
     "execution_count": 146,
     "metadata": {},
     "output_type": "execute_result"
    }
   ],
   "source": [
    "brand_name"
   ]
  },
  {
   "cell_type": "code",
   "execution_count": 147,
   "id": "948ec0a2",
   "metadata": {},
   "outputs": [
    {
     "data": {
      "text/plain": [
       "40"
      ]
     },
     "execution_count": 147,
     "metadata": {},
     "output_type": "execute_result"
    }
   ],
   "source": [
    "len(brand_name)"
   ]
  },
  {
   "cell_type": "code",
   "execution_count": 148,
   "id": "94787984",
   "metadata": {},
   "outputs": [],
   "source": [
    "description81_tags=driver.find_elements_by_xpath(\"//a[@class='IRpwTa']\")\n",
    "product_description= [] #empty list\n",
    "for i in description81_tags:\n",
    "    product_description.append(i.text)"
   ]
  },
  {
   "cell_type": "code",
   "execution_count": 149,
   "id": "8c53f0cb",
   "metadata": {},
   "outputs": [
    {
     "data": {
      "text/plain": [
       "['UV Protection, Mirrored, Gradient Wayfarer Sunglasses (...',\n",
       " 'UV Protection Wayfarer Sunglasses (56)',\n",
       " 'UV Protection Aviator Sunglasses (57)',\n",
       " 'Polarized, UV Protection Aviator Sunglasses (Free Size)',\n",
       " 'Polarized Sports Sunglasses (68)',\n",
       " 'UV Protection Wayfarer Sunglasses (Free Size)',\n",
       " 'UV Protection Wayfarer Sunglasses (57)',\n",
       " 'UV Protection, Gradient Retro Square Sunglasses (Free S...',\n",
       " 'UV Protection Retro Square Sunglasses (88)',\n",
       " 'Night Vision, Riding Glasses Wayfarer Sunglasses (53)',\n",
       " 'UV Protection Aviator Sunglasses (58)',\n",
       " 'Gradient, UV Protection Round, Oval, Cat-eye Sunglasses...',\n",
       " 'UV Protection, Gradient Rectangular Sunglasses (Free Si...',\n",
       " 'UV Protection, Gradient Aviator Sunglasses (57)',\n",
       " 'UV Protection Aviator Sunglasses (58)',\n",
       " 'UV Protection Retro Square Sunglasses (88)',\n",
       " 'UV Protection, Gradient Round Sunglasses (Free Size)',\n",
       " 'UV Protection Aviator Sunglasses (58)',\n",
       " 'UV Protection, Gradient Retro Square Sunglasses (62)',\n",
       " 'Polarized Sports Sunglasses (68)',\n",
       " 'Mirrored, UV Protection Wayfarer Sunglasses (Free Size)',\n",
       " 'Mirrored, UV Protection Round Sunglasses (Free Size)',\n",
       " 'UV Protection Wayfarer Sunglasses (Free Size)',\n",
       " 'UV Protection Sports Sunglasses (Free Size)',\n",
       " 'UV Protection Wayfarer Sunglasses (Free Size)',\n",
       " 'Gradient, UV Protection Wayfarer Sunglasses (Free Size)',\n",
       " 'Gradient, UV Protection Wayfarer Sunglasses (Free Size)',\n",
       " 'UV Protection Wayfarer Sunglasses (Free Size)',\n",
       " 'UV Protection Aviator Sunglasses (58)',\n",
       " 'UV Protection Aviator Sunglasses (Free Size)',\n",
       " 'UV Protection Wayfarer Sunglasses (Free Size)',\n",
       " 'UV Protection Shield Sunglasses (Free Size)',\n",
       " 'UV Protection Wayfarer Sunglasses (Free Size)',\n",
       " 'UV Protection Round Sunglasses (52)',\n",
       " 'UV Protection Aviator Sunglasses (61)',\n",
       " 'UV Protection Rectangular Sunglasses (59)',\n",
       " 'UV Protection Wrap-around Sunglasses (Free Size)',\n",
       " 'UV Protection Round Sunglasses (52)',\n",
       " 'UV Protection Wayfarer Sunglasses (55)',\n",
       " 'UV Protection, Polarized Wayfarer Sunglasses (56)']"
      ]
     },
     "execution_count": 149,
     "metadata": {},
     "output_type": "execute_result"
    }
   ],
   "source": [
    "product_description"
   ]
  },
  {
   "cell_type": "code",
   "execution_count": 150,
   "id": "7c9c0866",
   "metadata": {},
   "outputs": [
    {
     "data": {
      "text/plain": [
       "40"
      ]
     },
     "execution_count": 150,
     "metadata": {},
     "output_type": "execute_result"
    }
   ],
   "source": [
    "len(product_description)"
   ]
  },
  {
   "cell_type": "code",
   "execution_count": 151,
   "id": "dcb3eb2c",
   "metadata": {},
   "outputs": [],
   "source": [
    "price81_tags=driver.find_elements_by_xpath(\"//div[@class='_30jeq3']\")\n",
    "price= [] #empty list\n",
    "for i in price81_tags:\n",
    "    price.append(i.text)"
   ]
  },
  {
   "cell_type": "code",
   "execution_count": 152,
   "id": "07c5d892",
   "metadata": {},
   "outputs": [
    {
     "data": {
      "text/plain": [
       "['₹281',\n",
       " '₹759',\n",
       " '₹352',\n",
       " '₹449',\n",
       " '₹1,299',\n",
       " '₹837',\n",
       " '₹559',\n",
       " '₹449',\n",
       " '₹569',\n",
       " '₹207',\n",
       " '₹1,123',\n",
       " '₹699',\n",
       " '₹499',\n",
       " '₹207',\n",
       " '₹1,115',\n",
       " '₹599',\n",
       " '₹449',\n",
       " '₹1,085',\n",
       " '₹499',\n",
       " '₹1,234',\n",
       " '₹777',\n",
       " '₹399',\n",
       " '₹576',\n",
       " '₹771',\n",
       " '₹758',\n",
       " '₹777',\n",
       " '₹629',\n",
       " '₹578',\n",
       " '₹1,148',\n",
       " '₹759',\n",
       " '₹627',\n",
       " '₹761',\n",
       " '₹758',\n",
       " '₹1,232',\n",
       " '₹763',\n",
       " '₹1,097',\n",
       " '₹700',\n",
       " '₹1,217',\n",
       " '₹744',\n",
       " '₹759']"
      ]
     },
     "execution_count": 152,
     "metadata": {},
     "output_type": "execute_result"
    }
   ],
   "source": [
    "price"
   ]
  },
  {
   "cell_type": "code",
   "execution_count": 153,
   "id": "31a2dbb3",
   "metadata": {},
   "outputs": [
    {
     "data": {
      "text/plain": [
       "40"
      ]
     },
     "execution_count": 153,
     "metadata": {},
     "output_type": "execute_result"
    }
   ],
   "source": [
    "len(price)"
   ]
  },
  {
   "cell_type": "code",
   "execution_count": 154,
   "id": "ac6b722e",
   "metadata": {},
   "outputs": [],
   "source": [
    "discount81_tags=driver.find_elements_by_xpath(\"//div[@class='_3Ay6Sb']\")\n",
    "discount= [] #empty list\n",
    "for i in discount81_tags:\n",
    "    discount.append(i.text)"
   ]
  },
  {
   "cell_type": "code",
   "execution_count": 155,
   "id": "bb4d24f9",
   "metadata": {},
   "outputs": [
    {
     "data": {
      "text/plain": [
       "['85% off',\n",
       " '15% off',\n",
       " '82% off',\n",
       " '77% off',\n",
       " '48% off',\n",
       " '6% off',\n",
       " '30% off',\n",
       " '77% off',\n",
       " '71% off',\n",
       " '88% off',\n",
       " '13% off',\n",
       " '53% off',\n",
       " '75% off',\n",
       " '84% off',\n",
       " '14% off',\n",
       " '70% off',\n",
       " '83% off',\n",
       " '16% off',\n",
       " '75% off',\n",
       " '50% off',\n",
       " '22% off',\n",
       " '72% off',\n",
       " '27% off',\n",
       " '14% off',\n",
       " '15% off',\n",
       " '22% off',\n",
       " '21% off',\n",
       " '27% off',\n",
       " '11% off',\n",
       " '15% off',\n",
       " '21% off',\n",
       " '15% off',\n",
       " '15% off',\n",
       " '5% off',\n",
       " '15% off',\n",
       " '15% off',\n",
       " '22% off',\n",
       " '6% off',\n",
       " '17% off',\n",
       " '15% off']"
      ]
     },
     "execution_count": 155,
     "metadata": {},
     "output_type": "execute_result"
    }
   ],
   "source": [
    "discount"
   ]
  },
  {
   "cell_type": "code",
   "execution_count": 156,
   "id": "e48ba596",
   "metadata": {},
   "outputs": [
    {
     "data": {
      "text/plain": [
       "40"
      ]
     },
     "execution_count": 156,
     "metadata": {},
     "output_type": "execute_result"
    }
   ],
   "source": [
    "len(discount)"
   ]
  },
  {
   "cell_type": "code",
   "execution_count": 157,
   "id": "c7427866",
   "metadata": {},
   "outputs": [
    {
     "data": {
      "text/html": [
       "<div>\n",
       "<style scoped>\n",
       "    .dataframe tbody tr th:only-of-type {\n",
       "        vertical-align: middle;\n",
       "    }\n",
       "\n",
       "    .dataframe tbody tr th {\n",
       "        vertical-align: top;\n",
       "    }\n",
       "\n",
       "    .dataframe thead th {\n",
       "        text-align: right;\n",
       "    }\n",
       "</style>\n",
       "<table border=\"1\" class=\"dataframe\">\n",
       "  <thead>\n",
       "    <tr style=\"text-align: right;\">\n",
       "      <th></th>\n",
       "      <th>brand</th>\n",
       "      <th>description</th>\n",
       "      <th>price</th>\n",
       "      <th>discount</th>\n",
       "    </tr>\n",
       "  </thead>\n",
       "  <tbody>\n",
       "    <tr>\n",
       "      <th>0</th>\n",
       "      <td>GANSTA</td>\n",
       "      <td>UV Protection, Mirrored, Gradient Wayfarer Sun...</td>\n",
       "      <td>₹281</td>\n",
       "      <td>85% off</td>\n",
       "    </tr>\n",
       "    <tr>\n",
       "      <th>1</th>\n",
       "      <td>Fastrack</td>\n",
       "      <td>UV Protection Wayfarer Sunglasses (56)</td>\n",
       "      <td>₹759</td>\n",
       "      <td>15% off</td>\n",
       "    </tr>\n",
       "    <tr>\n",
       "      <th>2</th>\n",
       "      <td>GANSTA</td>\n",
       "      <td>UV Protection Aviator Sunglasses (57)</td>\n",
       "      <td>₹352</td>\n",
       "      <td>82% off</td>\n",
       "    </tr>\n",
       "    <tr>\n",
       "      <th>3</th>\n",
       "      <td>ROZZETTA CRAFT</td>\n",
       "      <td>Polarized, UV Protection Aviator Sunglasses (F...</td>\n",
       "      <td>₹449</td>\n",
       "      <td>77% off</td>\n",
       "    </tr>\n",
       "    <tr>\n",
       "      <th>4</th>\n",
       "      <td>ROYAL SON</td>\n",
       "      <td>Polarized Sports Sunglasses (68)</td>\n",
       "      <td>₹1,299</td>\n",
       "      <td>48% off</td>\n",
       "    </tr>\n",
       "    <tr>\n",
       "      <th>5</th>\n",
       "      <td>Fastrack</td>\n",
       "      <td>UV Protection Wayfarer Sunglasses (Free Size)</td>\n",
       "      <td>₹837</td>\n",
       "      <td>6% off</td>\n",
       "    </tr>\n",
       "    <tr>\n",
       "      <th>6</th>\n",
       "      <td>Fastrack</td>\n",
       "      <td>UV Protection Wayfarer Sunglasses (57)</td>\n",
       "      <td>₹559</td>\n",
       "      <td>30% off</td>\n",
       "    </tr>\n",
       "    <tr>\n",
       "      <th>7</th>\n",
       "      <td>ROZZETTA CRAFT</td>\n",
       "      <td>UV Protection, Gradient Retro Square Sunglasse...</td>\n",
       "      <td>₹449</td>\n",
       "      <td>77% off</td>\n",
       "    </tr>\n",
       "    <tr>\n",
       "      <th>8</th>\n",
       "      <td>ROYAL SON</td>\n",
       "      <td>UV Protection Retro Square Sunglasses (88)</td>\n",
       "      <td>₹569</td>\n",
       "      <td>71% off</td>\n",
       "    </tr>\n",
       "    <tr>\n",
       "      <th>9</th>\n",
       "      <td>GANSTA</td>\n",
       "      <td>Night Vision, Riding Glasses Wayfarer Sunglass...</td>\n",
       "      <td>₹207</td>\n",
       "      <td>88% off</td>\n",
       "    </tr>\n",
       "    <tr>\n",
       "      <th>10</th>\n",
       "      <td>Fastrack</td>\n",
       "      <td>UV Protection Aviator Sunglasses (58)</td>\n",
       "      <td>₹1,123</td>\n",
       "      <td>13% off</td>\n",
       "    </tr>\n",
       "    <tr>\n",
       "      <th>11</th>\n",
       "      <td>ROYAL SON</td>\n",
       "      <td>Gradient, UV Protection Round, Oval, Cat-eye S...</td>\n",
       "      <td>₹699</td>\n",
       "      <td>53% off</td>\n",
       "    </tr>\n",
       "    <tr>\n",
       "      <th>12</th>\n",
       "      <td>ROZZETTA CRAFT</td>\n",
       "      <td>UV Protection, Gradient Rectangular Sunglasses...</td>\n",
       "      <td>₹499</td>\n",
       "      <td>75% off</td>\n",
       "    </tr>\n",
       "    <tr>\n",
       "      <th>13</th>\n",
       "      <td>GANSTA</td>\n",
       "      <td>UV Protection, Gradient Aviator Sunglasses (57)</td>\n",
       "      <td>₹207</td>\n",
       "      <td>84% off</td>\n",
       "    </tr>\n",
       "    <tr>\n",
       "      <th>14</th>\n",
       "      <td>Fastrack</td>\n",
       "      <td>UV Protection Aviator Sunglasses (58)</td>\n",
       "      <td>₹1,115</td>\n",
       "      <td>14% off</td>\n",
       "    </tr>\n",
       "    <tr>\n",
       "      <th>15</th>\n",
       "      <td>ROYAL SON</td>\n",
       "      <td>UV Protection Retro Square Sunglasses (88)</td>\n",
       "      <td>₹599</td>\n",
       "      <td>70% off</td>\n",
       "    </tr>\n",
       "    <tr>\n",
       "      <th>16</th>\n",
       "      <td>ROZZETTA CRAFT</td>\n",
       "      <td>UV Protection, Gradient Round Sunglasses (Free...</td>\n",
       "      <td>₹449</td>\n",
       "      <td>83% off</td>\n",
       "    </tr>\n",
       "    <tr>\n",
       "      <th>17</th>\n",
       "      <td>Fastrack</td>\n",
       "      <td>UV Protection Aviator Sunglasses (58)</td>\n",
       "      <td>₹1,085</td>\n",
       "      <td>16% off</td>\n",
       "    </tr>\n",
       "    <tr>\n",
       "      <th>18</th>\n",
       "      <td>ROZZETTA CRAFT</td>\n",
       "      <td>UV Protection, Gradient Retro Square Sunglasse...</td>\n",
       "      <td>₹499</td>\n",
       "      <td>75% off</td>\n",
       "    </tr>\n",
       "    <tr>\n",
       "      <th>19</th>\n",
       "      <td>ROYAL SON</td>\n",
       "      <td>Polarized Sports Sunglasses (68)</td>\n",
       "      <td>₹1,234</td>\n",
       "      <td>50% off</td>\n",
       "    </tr>\n",
       "    <tr>\n",
       "      <th>20</th>\n",
       "      <td>Fastrack</td>\n",
       "      <td>Mirrored, UV Protection Wayfarer Sunglasses (F...</td>\n",
       "      <td>₹777</td>\n",
       "      <td>22% off</td>\n",
       "    </tr>\n",
       "    <tr>\n",
       "      <th>21</th>\n",
       "      <td>ROZZETTA CRAFT</td>\n",
       "      <td>Mirrored, UV Protection Round Sunglasses (Free...</td>\n",
       "      <td>₹399</td>\n",
       "      <td>72% off</td>\n",
       "    </tr>\n",
       "    <tr>\n",
       "      <th>22</th>\n",
       "      <td>Fastrack</td>\n",
       "      <td>UV Protection Wayfarer Sunglasses (Free Size)</td>\n",
       "      <td>₹576</td>\n",
       "      <td>27% off</td>\n",
       "    </tr>\n",
       "    <tr>\n",
       "      <th>23</th>\n",
       "      <td>Fastrack</td>\n",
       "      <td>UV Protection Sports Sunglasses (Free Size)</td>\n",
       "      <td>₹771</td>\n",
       "      <td>14% off</td>\n",
       "    </tr>\n",
       "    <tr>\n",
       "      <th>24</th>\n",
       "      <td>Fastrack</td>\n",
       "      <td>UV Protection Wayfarer Sunglasses (Free Size)</td>\n",
       "      <td>₹758</td>\n",
       "      <td>15% off</td>\n",
       "    </tr>\n",
       "    <tr>\n",
       "      <th>25</th>\n",
       "      <td>Fastrack</td>\n",
       "      <td>Gradient, UV Protection Wayfarer Sunglasses (F...</td>\n",
       "      <td>₹777</td>\n",
       "      <td>22% off</td>\n",
       "    </tr>\n",
       "    <tr>\n",
       "      <th>26</th>\n",
       "      <td>Fastrack</td>\n",
       "      <td>Gradient, UV Protection Wayfarer Sunglasses (F...</td>\n",
       "      <td>₹629</td>\n",
       "      <td>21% off</td>\n",
       "    </tr>\n",
       "    <tr>\n",
       "      <th>27</th>\n",
       "      <td>Fastrack</td>\n",
       "      <td>UV Protection Wayfarer Sunglasses (Free Size)</td>\n",
       "      <td>₹578</td>\n",
       "      <td>27% off</td>\n",
       "    </tr>\n",
       "    <tr>\n",
       "      <th>28</th>\n",
       "      <td>Fastrack</td>\n",
       "      <td>UV Protection Aviator Sunglasses (58)</td>\n",
       "      <td>₹1,148</td>\n",
       "      <td>11% off</td>\n",
       "    </tr>\n",
       "    <tr>\n",
       "      <th>29</th>\n",
       "      <td>Fastrack</td>\n",
       "      <td>UV Protection Aviator Sunglasses (Free Size)</td>\n",
       "      <td>₹759</td>\n",
       "      <td>15% off</td>\n",
       "    </tr>\n",
       "    <tr>\n",
       "      <th>30</th>\n",
       "      <td>Fastrack</td>\n",
       "      <td>UV Protection Wayfarer Sunglasses (Free Size)</td>\n",
       "      <td>₹627</td>\n",
       "      <td>21% off</td>\n",
       "    </tr>\n",
       "    <tr>\n",
       "      <th>31</th>\n",
       "      <td>Fastrack</td>\n",
       "      <td>UV Protection Shield Sunglasses (Free Size)</td>\n",
       "      <td>₹761</td>\n",
       "      <td>15% off</td>\n",
       "    </tr>\n",
       "    <tr>\n",
       "      <th>32</th>\n",
       "      <td>Fastrack</td>\n",
       "      <td>UV Protection Wayfarer Sunglasses (Free Size)</td>\n",
       "      <td>₹758</td>\n",
       "      <td>15% off</td>\n",
       "    </tr>\n",
       "    <tr>\n",
       "      <th>33</th>\n",
       "      <td>Fastrack</td>\n",
       "      <td>UV Protection Round Sunglasses (52)</td>\n",
       "      <td>₹1,232</td>\n",
       "      <td>5% off</td>\n",
       "    </tr>\n",
       "    <tr>\n",
       "      <th>34</th>\n",
       "      <td>Fastrack</td>\n",
       "      <td>UV Protection Aviator Sunglasses (61)</td>\n",
       "      <td>₹763</td>\n",
       "      <td>15% off</td>\n",
       "    </tr>\n",
       "    <tr>\n",
       "      <th>35</th>\n",
       "      <td>Fastrack</td>\n",
       "      <td>UV Protection Rectangular Sunglasses (59)</td>\n",
       "      <td>₹1,097</td>\n",
       "      <td>15% off</td>\n",
       "    </tr>\n",
       "    <tr>\n",
       "      <th>36</th>\n",
       "      <td>Fastrack</td>\n",
       "      <td>UV Protection Wrap-around Sunglasses (Free Size)</td>\n",
       "      <td>₹700</td>\n",
       "      <td>22% off</td>\n",
       "    </tr>\n",
       "    <tr>\n",
       "      <th>37</th>\n",
       "      <td>Fastrack</td>\n",
       "      <td>UV Protection Round Sunglasses (52)</td>\n",
       "      <td>₹1,217</td>\n",
       "      <td>6% off</td>\n",
       "    </tr>\n",
       "    <tr>\n",
       "      <th>38</th>\n",
       "      <td>Fastrack</td>\n",
       "      <td>UV Protection Wayfarer Sunglasses (55)</td>\n",
       "      <td>₹744</td>\n",
       "      <td>17% off</td>\n",
       "    </tr>\n",
       "    <tr>\n",
       "      <th>39</th>\n",
       "      <td>Fastrack</td>\n",
       "      <td>UV Protection, Polarized Wayfarer Sunglasses (56)</td>\n",
       "      <td>₹759</td>\n",
       "      <td>15% off</td>\n",
       "    </tr>\n",
       "  </tbody>\n",
       "</table>\n",
       "</div>"
      ],
      "text/plain": [
       "             brand                                        description   price  \\\n",
       "0           GANSTA  UV Protection, Mirrored, Gradient Wayfarer Sun...    ₹281   \n",
       "1         Fastrack             UV Protection Wayfarer Sunglasses (56)    ₹759   \n",
       "2           GANSTA              UV Protection Aviator Sunglasses (57)    ₹352   \n",
       "3   ROZZETTA CRAFT  Polarized, UV Protection Aviator Sunglasses (F...    ₹449   \n",
       "4        ROYAL SON                   Polarized Sports Sunglasses (68)  ₹1,299   \n",
       "5         Fastrack      UV Protection Wayfarer Sunglasses (Free Size)    ₹837   \n",
       "6         Fastrack             UV Protection Wayfarer Sunglasses (57)    ₹559   \n",
       "7   ROZZETTA CRAFT  UV Protection, Gradient Retro Square Sunglasse...    ₹449   \n",
       "8        ROYAL SON         UV Protection Retro Square Sunglasses (88)    ₹569   \n",
       "9           GANSTA  Night Vision, Riding Glasses Wayfarer Sunglass...    ₹207   \n",
       "10        Fastrack              UV Protection Aviator Sunglasses (58)  ₹1,123   \n",
       "11       ROYAL SON  Gradient, UV Protection Round, Oval, Cat-eye S...    ₹699   \n",
       "12  ROZZETTA CRAFT  UV Protection, Gradient Rectangular Sunglasses...    ₹499   \n",
       "13          GANSTA    UV Protection, Gradient Aviator Sunglasses (57)    ₹207   \n",
       "14        Fastrack              UV Protection Aviator Sunglasses (58)  ₹1,115   \n",
       "15       ROYAL SON         UV Protection Retro Square Sunglasses (88)    ₹599   \n",
       "16  ROZZETTA CRAFT  UV Protection, Gradient Round Sunglasses (Free...    ₹449   \n",
       "17        Fastrack              UV Protection Aviator Sunglasses (58)  ₹1,085   \n",
       "18  ROZZETTA CRAFT  UV Protection, Gradient Retro Square Sunglasse...    ₹499   \n",
       "19       ROYAL SON                   Polarized Sports Sunglasses (68)  ₹1,234   \n",
       "20        Fastrack  Mirrored, UV Protection Wayfarer Sunglasses (F...    ₹777   \n",
       "21  ROZZETTA CRAFT  Mirrored, UV Protection Round Sunglasses (Free...    ₹399   \n",
       "22        Fastrack      UV Protection Wayfarer Sunglasses (Free Size)    ₹576   \n",
       "23        Fastrack        UV Protection Sports Sunglasses (Free Size)    ₹771   \n",
       "24        Fastrack      UV Protection Wayfarer Sunglasses (Free Size)    ₹758   \n",
       "25        Fastrack  Gradient, UV Protection Wayfarer Sunglasses (F...    ₹777   \n",
       "26        Fastrack  Gradient, UV Protection Wayfarer Sunglasses (F...    ₹629   \n",
       "27        Fastrack      UV Protection Wayfarer Sunglasses (Free Size)    ₹578   \n",
       "28        Fastrack              UV Protection Aviator Sunglasses (58)  ₹1,148   \n",
       "29        Fastrack       UV Protection Aviator Sunglasses (Free Size)    ₹759   \n",
       "30        Fastrack      UV Protection Wayfarer Sunglasses (Free Size)    ₹627   \n",
       "31        Fastrack        UV Protection Shield Sunglasses (Free Size)    ₹761   \n",
       "32        Fastrack      UV Protection Wayfarer Sunglasses (Free Size)    ₹758   \n",
       "33        Fastrack                UV Protection Round Sunglasses (52)  ₹1,232   \n",
       "34        Fastrack              UV Protection Aviator Sunglasses (61)    ₹763   \n",
       "35        Fastrack          UV Protection Rectangular Sunglasses (59)  ₹1,097   \n",
       "36        Fastrack   UV Protection Wrap-around Sunglasses (Free Size)    ₹700   \n",
       "37        Fastrack                UV Protection Round Sunglasses (52)  ₹1,217   \n",
       "38        Fastrack             UV Protection Wayfarer Sunglasses (55)    ₹744   \n",
       "39        Fastrack  UV Protection, Polarized Wayfarer Sunglasses (56)    ₹759   \n",
       "\n",
       "   discount  \n",
       "0   85% off  \n",
       "1   15% off  \n",
       "2   82% off  \n",
       "3   77% off  \n",
       "4   48% off  \n",
       "5    6% off  \n",
       "6   30% off  \n",
       "7   77% off  \n",
       "8   71% off  \n",
       "9   88% off  \n",
       "10  13% off  \n",
       "11  53% off  \n",
       "12  75% off  \n",
       "13  84% off  \n",
       "14  14% off  \n",
       "15  70% off  \n",
       "16  83% off  \n",
       "17  16% off  \n",
       "18  75% off  \n",
       "19  50% off  \n",
       "20  22% off  \n",
       "21  72% off  \n",
       "22  27% off  \n",
       "23  14% off  \n",
       "24  15% off  \n",
       "25  22% off  \n",
       "26  21% off  \n",
       "27  27% off  \n",
       "28  11% off  \n",
       "29  15% off  \n",
       "30  21% off  \n",
       "31  15% off  \n",
       "32  15% off  \n",
       "33   5% off  \n",
       "34  15% off  \n",
       "35  15% off  \n",
       "36  22% off  \n",
       "37   6% off  \n",
       "38  17% off  \n",
       "39  15% off  "
      ]
     },
     "execution_count": 157,
     "metadata": {},
     "output_type": "execute_result"
    }
   ],
   "source": [
    "jobs=pd.DataFrame({})\n",
    "jobs['brand']=brand_name\n",
    "jobs['description']=product_description\n",
    "jobs['price']=price\n",
    "jobs['discount']=discount\n",
    "jobs"
   ]
  },
  {
   "cell_type": "markdown",
   "id": "e4417f0a",
   "metadata": {},
   "source": [
    "# Q7: Scrape 100 reviews data from flipkart.com for iphone11 phone. You have to go the link: https://www.flipkart.com/apple-iphone-11-black-64-gb-includes-earpods-power-adapter/p/itm0f37c2240b217?pid=MOBFKCTSVZAXUHGR&lid=LSTMOBFKCTSVZAXUHGREPBFGI&marketplace."
   ]
  },
  {
   "cell_type": "code",
   "execution_count": 119,
   "id": "2fb8bfb4",
   "metadata": {},
   "outputs": [],
   "source": [
    "import pandas as pd\n",
    "import selenium\n",
    "from selenium import webdriver"
   ]
  },
  {
   "cell_type": "code",
   "execution_count": 120,
   "id": "ac6755b0",
   "metadata": {},
   "outputs": [],
   "source": [
    "driver=webdriver.Chrome('chromedriver.exe')"
   ]
  },
  {
   "cell_type": "code",
   "execution_count": 121,
   "id": "0da18529",
   "metadata": {},
   "outputs": [],
   "source": [
    "url=\"https://www.flipkart.com/apple-iphone-11-black-64-gb-includes-earpods-power-adapter/p/itm0f37c2240b217?pid=MOBFKCTSVZAXUHGR&lid=LSTMOBFKCTSVZAXUHGREPBFGI&marketplace\""
   ]
  },
  {
   "cell_type": "code",
   "execution_count": 122,
   "id": "bdb3dcf4",
   "metadata": {},
   "outputs": [],
   "source": [
    "driver.get(url)"
   ]
  },
  {
   "cell_type": "code",
   "execution_count": 128,
   "id": "087e9f1d",
   "metadata": {},
   "outputs": [],
   "source": [
    "review_tags=driver.find_elements_by_xpath(\"//p[@class='_2-N8zT']\")\n",
    "review= [] #empty list\n",
    "for i in review_tags:\n",
    "    review.append(i.text)"
   ]
  },
  {
   "cell_type": "code",
   "execution_count": 129,
   "id": "5240510a",
   "metadata": {},
   "outputs": [
    {
     "data": {
      "text/plain": [
       "['Brilliant',\n",
       " 'Perfect product!',\n",
       " 'Great product',\n",
       " 'Good choice',\n",
       " 'Worth every penny',\n",
       " 'Highly recommended',\n",
       " 'Perfect product!',\n",
       " 'Perfect product!',\n",
       " 'Fabulous!',\n",
       " 'Worth every penny']"
      ]
     },
     "execution_count": 129,
     "metadata": {},
     "output_type": "execute_result"
    }
   ],
   "source": [
    "review"
   ]
  },
  {
   "cell_type": "code",
   "execution_count": 131,
   "id": "08b6ce1b",
   "metadata": {},
   "outputs": [
    {
     "data": {
      "text/plain": [
       "10"
      ]
     },
     "execution_count": 131,
     "metadata": {},
     "output_type": "execute_result"
    }
   ],
   "source": [
    "len(review)"
   ]
  },
  {
   "cell_type": "code",
   "execution_count": 136,
   "id": "ee08cc0a",
   "metadata": {},
   "outputs": [],
   "source": [
    "rating_tags=driver.find_elements_by_xpath(\"//div[@class='_3LWZlK _1BLPMq']\")\n",
    "rating= [] #empty list\n",
    "for i in rating_tags:\n",
    "    rating.append(i.text)"
   ]
  },
  {
   "cell_type": "code",
   "execution_count": 137,
   "id": "609a29f1",
   "metadata": {},
   "outputs": [
    {
     "data": {
      "text/plain": [
       "['5', '5', '5', '4', '5', '5', '5', '5', '5', '5']"
      ]
     },
     "execution_count": 137,
     "metadata": {},
     "output_type": "execute_result"
    }
   ],
   "source": [
    "rating"
   ]
  },
  {
   "cell_type": "code",
   "execution_count": 138,
   "id": "216fd59c",
   "metadata": {},
   "outputs": [
    {
     "data": {
      "text/plain": [
       "10"
      ]
     },
     "execution_count": 138,
     "metadata": {},
     "output_type": "execute_result"
    }
   ],
   "source": [
    "len(rating)"
   ]
  },
  {
   "cell_type": "code",
   "execution_count": 139,
   "id": "e7391a28",
   "metadata": {},
   "outputs": [],
   "source": [
    "fullreview_tags=driver.find_elements_by_xpath(\"//div[@class='t-ZTKy']\")\n",
    "fullreview= [] #empty list\n",
    "for i in fullreview_tags:\n",
    "    fullreview.append(i.text)"
   ]
  },
  {
   "cell_type": "code",
   "execution_count": 140,
   "id": "aa0d3fb2",
   "metadata": {},
   "outputs": [
    {
     "data": {
      "text/plain": [
       "['The Best Phone for the Money\\n\\nThe iPhone 11 offers superb cameras, a more durable design and excellent battery life for an affordable price.\\n\\nCompelling ultra-wide camera\\nNew Night mode is excellent\\nLong battery life',\n",
       " 'Amazing phone with great cameras and better battery which gives you the best performance. I just love the camera .',\n",
       " 'Amazing Powerful and Durable Gadget.\\n\\nI’m am very happy with the camera picture quality, Amazing face id unlocked in dark room, Strong battery with perfect screen size as you can carry easily in pocket. This is my third iPhone.\\n\\nI shifted from android Samsung Note series to iPhone because of the strong build quality and peace of mind for next 3-4 years.\\n\\nDon’t think to much just go for it and I suggest you to go for minimum 128gb variant or more 256gb.\\n\\nI’ve attached my puppy pics and no fi...\\nREAD MORE',\n",
       " 'So far it’s been an AMAZING experience coming back to iOS after nearly a decade but it’s not as versatile as android though phone is sturdy dropped it accidentally a couple of times and nothing happened fortunately camera is awesome',\n",
       " 'Previously I was using one plus 3t it was a great phone\\nAnd then I decided to upgrade I am stuck between Samsung s10 plus or iPhone 11\\nI have seen the specs and everything were good except the display it’s somewhere between 720-1080 and it’s not even an amoled it’s an LCD display\\nBut I decided to go with iPhone because I have never used an IOS device I have Been an android user from the past 9 years I ordered IPhone 11 (128gb) product red\\nMy experience after using 3 weeks\\n1. The delivery ...\\nREAD MORE',\n",
       " 'iphone 11 is a very good phone to buy only if you can compromise for the display. The display on this is device is pretty good but you can get other options with better displays in this price segment.\\nIf you can survive with an HD+ LCD panel with thicker bezels and a notch up top then this is a very good phone for you.\\nCameras are awesome, battery backup excellent, great performance and a decent premium look. Good job Apple !',\n",
       " 'It’s a must buy who is looking for an upgrade from previous generation of iPhones. If you are using XR then still you can hold on for sometime and upgrade to 2020 model else this phone is a must buy . Camera quality is amazing and wide angle is something to count upon. Performance wise it’s amazing and feels premium while holding in hand. So a big YES for this device. Go for 128 GB variant as the 4K videos will occupy lots of space and the storage can get over very quickly. Try to buy it with...\\nREAD MORE',\n",
       " 'Value for money❤️❤️\\nIts awesome mobile phone in the world ...\\nDisplay was very good and bright ..\\nTrust me freinds you r never regret after Buying..\\nJust go for it....\\nI love this phone and i switch to iphone x to 11',\n",
       " 'This is my first iOS phone. I am very happy with this product. Very much satisfied with this. I love this phone.',\n",
       " 'Best budget Iphone till date ❤️ go for it guys without second thought. Let me explain you guys about Camera, Display, battery, and performance.\\n\\nCamera: at this price range there is no comparison of camera, you’ll love the picture quality as well as video quality. I am a Vlogger I wanted an iPhone with 4k video by front camera and I got this phone and I am more than happy 😃\\n\\nBattery: I use this phone roughly as I am active social media person and I have a youtube channel. so the battery ba...\\nREAD MORE']"
      ]
     },
     "execution_count": 140,
     "metadata": {},
     "output_type": "execute_result"
    }
   ],
   "source": [
    "fullreview"
   ]
  },
  {
   "cell_type": "code",
   "execution_count": 142,
   "id": "43bfd0bf",
   "metadata": {},
   "outputs": [],
   "source": [
    "rating11_tags=driver.find_elements_by_xpath(\"//div[@class='_3LWZlK _1BLPMq']\")\n",
    "rating= [] #empty list\n",
    "for i in rating11_tags:\n",
    "    rating.append(i.text)"
   ]
  },
  {
   "cell_type": "code",
   "execution_count": 143,
   "id": "3e731b47",
   "metadata": {},
   "outputs": [
    {
     "data": {
      "text/plain": [
       "['5', '5', '5', '5', '4', '5', '5', '5', '5', '5']"
      ]
     },
     "execution_count": 143,
     "metadata": {},
     "output_type": "execute_result"
    }
   ],
   "source": [
    "rating"
   ]
  },
  {
   "cell_type": "code",
   "execution_count": 144,
   "id": "46d1dcd0",
   "metadata": {},
   "outputs": [
    {
     "data": {
      "text/plain": [
       "10"
      ]
     },
     "execution_count": 144,
     "metadata": {},
     "output_type": "execute_result"
    }
   ],
   "source": [
    "len(rating)"
   ]
  },
  {
   "cell_type": "code",
   "execution_count": 147,
   "id": "25119dc7",
   "metadata": {},
   "outputs": [],
   "source": [
    "review11_tags=driver.find_elements_by_xpath(\"//p[@class='_2-N8zT']\")\n",
    "review= [] #empty list\n",
    "for i in review11_tags:\n",
    "    review.append(i.text)"
   ]
  },
  {
   "cell_type": "code",
   "execution_count": 148,
   "id": "9ff12577",
   "metadata": {},
   "outputs": [
    {
     "data": {
      "text/plain": [
       "['Perfect product!',\n",
       " 'Worth every penny',\n",
       " 'Terrific',\n",
       " 'Simply awesome',\n",
       " 'Nice product',\n",
       " 'Highly recommended',\n",
       " 'Wonderful',\n",
       " 'Classy product',\n",
       " 'Brilliant',\n",
       " 'Must buy!']"
      ]
     },
     "execution_count": 148,
     "metadata": {},
     "output_type": "execute_result"
    }
   ],
   "source": [
    "review"
   ]
  },
  {
   "cell_type": "code",
   "execution_count": 149,
   "id": "308dc938",
   "metadata": {},
   "outputs": [
    {
     "data": {
      "text/plain": [
       "10"
      ]
     },
     "execution_count": 149,
     "metadata": {},
     "output_type": "execute_result"
    }
   ],
   "source": [
    "len(review)"
   ]
  },
  {
   "cell_type": "code",
   "execution_count": 150,
   "id": "dd5f9e58",
   "metadata": {},
   "outputs": [],
   "source": [
    "fullreview11_tags=driver.find_elements_by_xpath(\"//div[@class='t-ZTKy']\")\n",
    "fullreview= [] #empty list\n",
    "for i in fullreview11_tags:\n",
    "    fullreview.append(i.text)"
   ]
  },
  {
   "cell_type": "code",
   "execution_count": 151,
   "id": "e61f1e09",
   "metadata": {},
   "outputs": [
    {
     "data": {
      "text/plain": [
       "[\"Iphone is just awesome.. battery backup is very very nice.. continuously for 10 hours we can use it.camera is just awesome.. display is just fab.i love it alot..i had to wait 15 days for it as i pre ordered it..overalll it's worth the price..these all images are clicked by my iPhone..and i love it.\",\n",
       " 'It’s been almost a month since I have been using this phone. I upgraded from an iPhone 8. The main issue with my 8 was battery and this phone is just awesome when it comes to battery. It lasts a day and a half for me with my regular use , internet connected always with 4g\\nCan’t move forward without saying this. Battery of this phone is a life saver when I am traveling or at work when I don’t get the option to charge\\nCamera is superb. Front cam selfies and back cam photos are just awesome.\\n...\\nREAD MORE',\n",
       " 'Really worth of money. i just love it. It is the best phone ever.',\n",
       " 'Excellent camera, good performance, no lag. The lcd display is also good.. but difference come when we watch movie in prime and Netflix, the colours are not vibrant.. as we see in amoled display.. and the charger in box is of 5 watts.. takes more than 3 hours to charge from 0 to 100.. so guys be prepare to buy 18 watts charger . Finally I am an android user, it was my first Iapple phone, I promise u guys the iOS is so smooth.. overall the phone is damn good.... close eyes to buy it.. thanks t...\\nREAD MORE',\n",
       " 'Awesome Phone. Slightly high price but worth. Better than iPhone XR.\\nCamera is superb and wide angle camera is very clear.\\n12MP selfie camera is also very good.\\nA13 Chip gives a very good and smooth performance.',\n",
       " \"It's my first time to use iOS phone and I am loving my upgradation 😍😍 I love the color, I love the assebility of the phone....I need to learn more about its functionality, but as far as I have seen, it's quite easy and it has a lot of functions to work on, specially if you are a content writer or a blogger you get a lot of content creation platforms and they are really amazing.\\n\\nThis phone not only for good quality photography but a lot of other task too.😍💯\",\n",
       " 'This is my first ever I phone. Before this I was using my google nexus 5. But moving from android to iOS is a great experience. It’s worth at this price. I will highly recommend it if you want to move to iOS. The best part of this phone is it’s camera and it’s battery life. This two things have won my heart. I loved it. Happy to have it in my hand. Still exploring its features. And can’t forget to mention Flipkart service. Very prompt service and fast delivery.',\n",
       " 'Superb Product !!!\\nA big and worthy upgrade from mi 3S to iphone 11 .\\nTotally loved it !',\n",
       " 'I have migrated from OP 7pro... and trust me, iPhone 11 is totally worth it.. following are the reasons:-\\n1)there is ABSOLUTELY NO ISSUE WITH THE DISPLAY... its crisp, sharp and I found it to be much much better than OP7 pro. Netflix, Prime video all run crisply... you won’t miss a thing. True Tone works flawlessly...the display brightness is perfect. OP have not calibrated their screens properly.\\n2) iPhone 11 series have really good cameras... others have spoken in depth about them.\\n3) bat...\\nREAD MORE',\n",
       " 'It’s an amazing product from apple and the camera is simply superb. Phone is faster.Night shot is simply superb and detailing and colour differentiation from camera is an added advantage\\n\\nThis review I have written from iPhone 11 only and I am glad to say outside.\\n\\nCons wise if we see HD+ display only, no battery percentage indicator as in older iPhone 8.\\nNo assistive touch control button in it\\nNo oleophobic coating on back panel glass and finger prints are visible but since I bought mint gr...\\nREAD MORE']"
      ]
     },
     "execution_count": 151,
     "metadata": {},
     "output_type": "execute_result"
    }
   ],
   "source": [
    "fullreview"
   ]
  },
  {
   "cell_type": "code",
   "execution_count": 152,
   "id": "2dd21036",
   "metadata": {},
   "outputs": [],
   "source": [
    "rating21_tags=driver.find_elements_by_xpath(\"//div[@class='_3LWZlK _1BLPMq']\")\n",
    "rating= [] #empty list\n",
    "for i in rating21_tags:\n",
    "    rating.append(i.text)"
   ]
  },
  {
   "cell_type": "code",
   "execution_count": 153,
   "id": "37e7a596",
   "metadata": {},
   "outputs": [
    {
     "data": {
      "text/plain": [
       "['5', '5', '5', '5', '5', '4', '5', '5', '5']"
      ]
     },
     "execution_count": 153,
     "metadata": {},
     "output_type": "execute_result"
    }
   ],
   "source": [
    "rating"
   ]
  },
  {
   "cell_type": "code",
   "execution_count": 155,
   "id": "6b33c8e4",
   "metadata": {},
   "outputs": [],
   "source": [
    "review21_tags=driver.find_elements_by_xpath(\"//p[@class='_2-N8zT']\")\n",
    "review= [] #empty list\n",
    "for i in review21_tags:\n",
    "    review.append(i.text)"
   ]
  },
  {
   "cell_type": "code",
   "execution_count": 156,
   "id": "91f244ba",
   "metadata": {},
   "outputs": [
    {
     "data": {
      "text/plain": [
       "['Terrific purchase',\n",
       " 'Great product',\n",
       " 'Mind-blowing purchase',\n",
       " 'Terrific purchase',\n",
       " 'Simply awesome',\n",
       " 'Good quality product',\n",
       " 'Very poor',\n",
       " 'Best in the market!',\n",
       " 'Must buy!',\n",
       " 'Fabulous!']"
      ]
     },
     "execution_count": 156,
     "metadata": {},
     "output_type": "execute_result"
    }
   ],
   "source": [
    "review"
   ]
  },
  {
   "cell_type": "code",
   "execution_count": 157,
   "id": "c86aa9b1",
   "metadata": {},
   "outputs": [],
   "source": [
    "fullreview21_tags=driver.find_elements_by_xpath(\"//div[@class='t-ZTKy']\")\n",
    "fullreview= [] #empty list\n",
    "for i in fullreview21_tags:\n",
    "    fullreview.append(i.text)"
   ]
  },
  {
   "cell_type": "code",
   "execution_count": 158,
   "id": "7d8d9cf0",
   "metadata": {},
   "outputs": [
    {
     "data": {
      "text/plain": [
       "['Upgraded from iphone 6 to 11 best phone for iphone users battery is much better than other iphones camera is awesome love to use it.camera is so clear in night.',\n",
       " 'Well you all know the specifications . One of a kind. Best iPhone till date. Many enhancements to the camera app with many options. Love the glass body with matte finish in the lens area on the back. Lovely colours to choose from. Best battery in an iPhone till date, enough to last more than a day in normal usage. I tested my iPhone 11 battery and lasted for than 24 hours after full charge still with 30% battery charge left. Watched movies for some time. Normal usage on calls, browsing, musi...\\nREAD MORE',\n",
       " 'This will help you more. See if you are planning to buy iPhone 11. I will say. Yes. But there are some plans I just want to disclose before you buy. 1) If you are an existing iPhone X/XS/XS Max/ XR user, better you guys do not think it to buy. You guys have more or less better gadget. 2) If you are an android user and planning to buy premium phone. I will suggest them to please buy iPhone instead of buying an Android. I bet you will never go back to android after using IOS. Now I want to shar...\\nREAD MORE',\n",
       " 'The built quality is not very premium.\\nThe battery back is great .\\nThe LCD panel is not so sharp but the brightness level is very High .\\nCamera is super duper awesome.\\nThe red colour which people think is bright is actually very soothing and excellent colour to choose from .\\nThe A13 Bionic chip is really a flagship processor and can beat any phone which even has 12 gb ram .\\nCamera module is very great and looks very stylish.',\n",
       " 'Really good actually this is my first apple product am using its really awesome performance wise excellent. Am really happy with this iphone11',\n",
       " 'it is very good at performance. Camera is best like before and very smooth response even in water. Don’t buy 12 mini buy iPhone 11 , it is far better than 12 mini believe me ! Have a nice day \\uf8ff ☺️',\n",
       " 'Reviewing again after 5 months. At the beginning the battery and performance was good but it degraded soon. Also I was facing heating issues. The mobile will heat up like a stove sometimes. You cannot even play Pubg even in low settings properly, performance is not a problem but heating is. Also if you play that game for 10 mins the brightness will be automatically down due to over heating even when the auto brightness is set to off. This will not be solved even if u manually increase the bri...\\nREAD MORE',\n",
       " 'Great iPhone very snappy experience as apple kind. Upgraded from iPhone 7.\\nPros\\n-Camera top class\\n- Battery top performed\\n-Chipset no need to say as apple kind\\n-Security as you expect from apple\\n- Display super bright industry leading colour\\naccuracy and super responsive\\n-Build quality as expect from apple sturdy\\npremium durable beautiful stylish.\\n-Os most stable os in smartphone industry\\n\\nCons\\n-No 5G\\n-Display is not based on OLED technology\\n-Charger headphones and 1 apple stic...\\nREAD MORE',\n",
       " 'Best Apple iPhone that i have bought at a very reasonable price, camera quality is next level just awesome n of superior quality android phones not even close(RIP) to that and also battery is really good but packaging by Flipkart of iPhone was very poor of such a expensive product, firstly im bit worried about the quality of product if i purchased it through online how was the product but i think now this was mine best decision to bought it through Flipkart online because i got genuine Apple...\\nREAD MORE',\n",
       " \"I can say I'm damn impressed with iPhone 11. As they says iPhone 11 have the toughest glass ever in the smartphone which you'll find on the front and back and it's totally smooth. The fit and finish is full apple quality - there's no sense that any cheaping out has happened in the construction. Without saying it's camera features this review won't complete. The iPhone 11 has a dual camera system, consisting of a wide angle len's that's pretty much same as found on the iPhone XR last year, but...\\nREAD MORE\"]"
      ]
     },
     "execution_count": 158,
     "metadata": {},
     "output_type": "execute_result"
    }
   ],
   "source": [
    "fullreview"
   ]
  },
  {
   "cell_type": "code",
   "execution_count": 159,
   "id": "35d4a1a2",
   "metadata": {},
   "outputs": [],
   "source": [
    "rating31_tags=driver.find_elements_by_xpath(\"//div[@class='_3LWZlK _1BLPMq']\")\n",
    "rating= [] #empty list\n",
    "for i in rating31_tags:\n",
    "    rating.append(i.text)"
   ]
  },
  {
   "cell_type": "code",
   "execution_count": 160,
   "id": "f8d91d53",
   "metadata": {},
   "outputs": [
    {
     "data": {
      "text/plain": [
       "['5', '5', '5', '5', '5', '5', '4', '4', '5', '5']"
      ]
     },
     "execution_count": 160,
     "metadata": {},
     "output_type": "execute_result"
    }
   ],
   "source": [
    "rating"
   ]
  },
  {
   "cell_type": "code",
   "execution_count": 161,
   "id": "9e1516ed",
   "metadata": {},
   "outputs": [],
   "source": [
    "review31_tags=driver.find_elements_by_xpath(\"//p[@class='_2-N8zT']\")\n",
    "review= [] #empty list\n",
    "for i in review31_tags:\n",
    "    review.append(i.text)"
   ]
  },
  {
   "cell_type": "code",
   "execution_count": 162,
   "id": "0a71595e",
   "metadata": {},
   "outputs": [
    {
     "data": {
      "text/plain": [
       "['Mind-blowing purchase',\n",
       " 'Mind-blowing purchase',\n",
       " 'Wonderful',\n",
       " 'Worth every penny',\n",
       " 'Wonderful',\n",
       " 'Great product',\n",
       " 'Good choice',\n",
       " 'Very Good',\n",
       " 'Perfect product!',\n",
       " 'Classy product']"
      ]
     },
     "execution_count": 162,
     "metadata": {},
     "output_type": "execute_result"
    }
   ],
   "source": [
    "review"
   ]
  },
  {
   "cell_type": "code",
   "execution_count": 163,
   "id": "40cc7a6f",
   "metadata": {},
   "outputs": [],
   "source": [
    "fullreview31_tags=driver.find_elements_by_xpath(\"//div[@class='t-ZTKy']\")\n",
    "fullreview= [] #empty list\n",
    "for i in fullreview31_tags:\n",
    "    fullreview.append(i.text)"
   ]
  },
  {
   "cell_type": "code",
   "execution_count": 164,
   "id": "eaf5a044",
   "metadata": {},
   "outputs": [
    {
     "data": {
      "text/plain": [
       "['Best Quality Product OF iPhone Series , Sound Quality & Camera quality is very awesome, Battery Life is very Sufficient for 24 hr Backup With Full Internet Access , I love this this Product too much , It is very fast & making me Very fast in all my daily Routine\\nHighlights;\\n1.Camera: 5 STAR\\n2.Video Recording: 5 star\\n3.Night mODE sHOOTING & Camera:4 star\\n4. Audio Quality: Awesome\\n5. Battery : 5 Star\\n6. Touch:5 Star\\n7. Processor: Very Fast\\nThe M...\\nREAD MORE',\n",
       " 'First thanks to Flipkart for this amazing deal and phone is outstanding. I upgraded from iPhone 7 and this is like very big upgrade. But the packaging was very basic I expected a good packaging as they only wrapped one layer of bubble wrap which I don’t think is enough to protect this expensive phone. And I recommend this phone and seller as well.\\n\\nAnd I’m posting this review after using it for 4 days.',\n",
       " 'Superfast delivery by Flipkart. Thanks.\\n\\n1. iPhone 11 is a pretty solid phone for the money you are paying.\\n2. All the bad reviews about the display is confusing. It’s not that bad.\\n3. I switched from a Oneplus 7t. I have no complaints about the display quality of iPhone. Yes, it’s not OLED, so, we are missing on the deep blacks. But that’s it. It is a very colour accurate display. Gets adequately bright and I could not find any pixelation.\\n4. Performance is one of the best, if not best, in ...\\nREAD MORE',\n",
       " 'Smooth like butter, camera like fantabulous, sound is crystal clear & its red color is damn attractive, i am just loving it. Must buy if you love photography.\\n\\nLucky to get it in sale, thank you Flipkart.',\n",
       " 'I just directly switch from iphone 6s to iphone 11 .The best premium smartphone I recommend to everyone. Excellent quality and colors the iphone have in 11 series.\\nCamera quality is just awesome and the major feel when we hold in our hands. The sound quality and volume is also higher then the previous models.\\nI will recommend to buy iphone 11 instead of pro models , there is nothing much difference as this model contains everything which fulfill our needs.\\n\\nOnly one thing that I dislike abo...\\nREAD MORE',\n",
       " \"Again back to apple iphone after a gap of 2-3 years. It's pleasure to use iOS and the quality product by Apple. Iphone 11 still works like a beast in 2021 also. It really capable of doing day to day usage as well as hard core gaming. Battery is awesome. I'm really too much satisfied with it. Apart fto the very gorgious IPS LCD (AMOLED will be better) everything is mind boggling. Iphone💕.\",\n",
       " 'Looking so good 👍 😍 super 👌 stylish 😎 phone\\nClean box 📦 good 👍 delivery 👌 fast delivery\\nOriginal box Original iphone 📱 👌 😍😍😍',\n",
       " 'impressive super phone and best in class camera ,sound and face unlock is super fast just see and phone is unlock and fast in daily apps use',\n",
       " 'Battery backup is extraordinary, camera is decent & performance offered by A13 bionic is awsome. The display is good in practical usage like the visibility of display is very good in direct sun light compare to pro models. Iam extremely satisfied for the money I spent.',\n",
       " 'Well while switching from android to iOS the first thing you need to be careful about is that you will loose all your whatsapp chat backups as both are different operating systems. Camera clarity is awesome and though being an lcd screen clarity and resolution is good. Battery backup is also good unlike previous gen iPhone. So far the experience is good will Padre after a few months of usage.\\n\\nP.S the black is more of a dark grey shade and not jet black']"
      ]
     },
     "execution_count": 164,
     "metadata": {},
     "output_type": "execute_result"
    }
   ],
   "source": [
    "fullreview"
   ]
  },
  {
   "cell_type": "code",
   "execution_count": 165,
   "id": "9ae44f4a",
   "metadata": {},
   "outputs": [],
   "source": [
    "rating41_tags=driver.find_elements_by_xpath(\"//div[@class='_3LWZlK _1BLPMq']\")\n",
    "rating= [] #empty list\n",
    "for i in rating41_tags:\n",
    "    rating.append(i.text)"
   ]
  },
  {
   "cell_type": "code",
   "execution_count": 166,
   "id": "00244a60",
   "metadata": {},
   "outputs": [
    {
     "data": {
      "text/plain": [
       "['5', '5', '5', '5', '5', '5', '5', '5', '5', '5']"
      ]
     },
     "execution_count": 166,
     "metadata": {},
     "output_type": "execute_result"
    }
   ],
   "source": [
    "rating"
   ]
  },
  {
   "cell_type": "code",
   "execution_count": 167,
   "id": "b3727c8a",
   "metadata": {},
   "outputs": [],
   "source": [
    "review41_tags=driver.find_elements_by_xpath(\"//p[@class='_2-N8zT']\")\n",
    "review= [] #empty list\n",
    "for i in review41_tags:\n",
    "    review.append(i.text)"
   ]
  },
  {
   "cell_type": "code",
   "execution_count": 168,
   "id": "6a2c94a8",
   "metadata": {},
   "outputs": [
    {
     "data": {
      "text/plain": [
       "['Perfect product!',\n",
       " 'Just wow!',\n",
       " 'Awesome',\n",
       " 'Terrific purchase',\n",
       " 'Brilliant',\n",
       " 'Perfect product!',\n",
       " 'Highly recommended',\n",
       " 'Perfect product!',\n",
       " 'Excellent',\n",
       " 'Fabulous!']"
      ]
     },
     "execution_count": 168,
     "metadata": {},
     "output_type": "execute_result"
    }
   ],
   "source": [
    "review"
   ]
  },
  {
   "cell_type": "code",
   "execution_count": 169,
   "id": "b31f46d3",
   "metadata": {},
   "outputs": [],
   "source": [
    "fullreview41_tags=driver.find_elements_by_xpath(\"//div[@class='t-ZTKy']\")\n",
    "fullreview= [] #empty list\n",
    "for i in fullreview41_tags:\n",
    "    fullreview.append(i.text)"
   ]
  },
  {
   "cell_type": "code",
   "execution_count": 170,
   "id": "ee66db3c",
   "metadata": {},
   "outputs": [
    {
     "data": {
      "text/plain": [
       "['In love with this iphone great performance,camera ,battery everything. Go for it have a uncompareble battery backup, no doubts in iPhone camera here You can see the picture which is shot on my iPhone In love with this iphone great performance,camera ,battery everything. Go for it have a uncompareble battery backup, no doubts in iPhone camera here You can see the picture which is shot on my iPhone In love with this iphone great performance,camera ,battery everything. Go for it have a uncompare...\\nREAD MORE',\n",
       " 'Best in class. Battery backup is good especially when you play games like Pubg COD. But it is sort of heavy when you hold in hands. Portrait mode is best to click pictures. Stage light effect is awesome. Try to click photos outside in nature because photos inside home or room will not give you the quality in any phone even in DSLR.',\n",
       " 'Very excited to have this phone. This phone has the real power unlike the android phones having SD 855 . The battery life is very good and the camera quality is excellent as comapred to redmi and other phones except google pixel. I M enjoying every single bit of it. Would recommed only if you have the budget.',\n",
       " 'Its Very awesome product working and good camera quality and all about best product and also flipkart is very great deal and offer nice price',\n",
       " 'Excellent camera and display touching very nice and smooth very improvement against iPhone XR and new processor is very fast',\n",
       " 'After 1 month use I found camera quality best compared to my previous Samsung note 10+.Display not good as note 10 also charging too slow.Apple should add fast charger like 11 plus and pro.Best phone for daily use',\n",
       " 'What a camera .....just awesome ..you can feel this iPhone just awesome . Good for gaming also ...try pubg in hd it’s just wow',\n",
       " 'Awesome purchase. Amazing phone with good battery backup. It’s a top notch device. White colour looks amazing. Phone has a few extra feature than iPhone XR. Overall, this is value for money',\n",
       " 'Amazing camera and feel super machine I am not describe my feeling but this is amazing Phone I am so lucky I have this',\n",
       " 'awesome phone to have. it has got many smart features apart from mind blowing looks, camera, display, battery and sound. have fallen in love with this phone. must buy phone if you have got enough money. thanks to flipkart and apple of course..']"
      ]
     },
     "execution_count": 170,
     "metadata": {},
     "output_type": "execute_result"
    }
   ],
   "source": [
    "fullreview"
   ]
  },
  {
   "cell_type": "code",
   "execution_count": 171,
   "id": "720bcf04",
   "metadata": {},
   "outputs": [],
   "source": [
    "rating51_tags=driver.find_elements_by_xpath(\"//div[@class='_3LWZlK _1BLPMq']\")\n",
    "rating= [] #empty list\n",
    "for i in rating51_tags:\n",
    "    rating.append(i.text)"
   ]
  },
  {
   "cell_type": "code",
   "execution_count": 172,
   "id": "01bd1c4b",
   "metadata": {},
   "outputs": [
    {
     "data": {
      "text/plain": [
       "['5', '5', '5', '5', '5', '5', '5', '5', '4', '5']"
      ]
     },
     "execution_count": 172,
     "metadata": {},
     "output_type": "execute_result"
    }
   ],
   "source": [
    "rating"
   ]
  },
  {
   "cell_type": "code",
   "execution_count": 175,
   "id": "6ed2e021",
   "metadata": {},
   "outputs": [],
   "source": [
    "review51_tags=driver.find_elements_by_xpath(\"//p[@class='_2-N8zT']\")\n",
    "review= [] #empty list\n",
    "for i in review51_tags:\n",
    "    review.append(i.text)"
   ]
  },
  {
   "cell_type": "code",
   "execution_count": 174,
   "id": "fc033a13",
   "metadata": {},
   "outputs": [
    {
     "data": {
      "text/plain": [
       "['Excellent',\n",
       " 'Must buy!',\n",
       " 'Simply awesome',\n",
       " 'Brilliant',\n",
       " 'Terrific purchase',\n",
       " 'Simply awesome',\n",
       " 'Perfect product!',\n",
       " 'Worth every penny',\n",
       " 'Value-for-money',\n",
       " 'Just wow!']"
      ]
     },
     "execution_count": 174,
     "metadata": {},
     "output_type": "execute_result"
    }
   ],
   "source": [
    "review"
   ]
  },
  {
   "cell_type": "code",
   "execution_count": 176,
   "id": "a20b4a43",
   "metadata": {},
   "outputs": [],
   "source": [
    "fullreview51_tags=driver.find_elements_by_xpath(\"//div[@class='t-ZTKy']\")\n",
    "fullreview= [] #empty list\n",
    "for i in fullreview51_tags:\n",
    "    fullreview.append(i.text)"
   ]
  },
  {
   "cell_type": "code",
   "execution_count": 177,
   "id": "0b11e941",
   "metadata": {},
   "outputs": [
    {
     "data": {
      "text/plain": [
       "['Its a fabulous mobile look awesome performance unbeaten camera like dslr battery good i think this is a beast of mobile',\n",
       " 'Dear friends... I want to share my experience with you about this amazing I phone 11....this is my first iPhone and special things about this mobile is it has great camera, battery backup and awesome display.... I mean everything is perfect.loved it 👍👍👍',\n",
       " \"It's very high performances devise i am like the service of flipkart delevary very fast and packing very nice perfect phone\",\n",
       " 'Amazing phone and on great deal I received with super fast delivery by Flipkart...',\n",
       " 'finally an iPhone with very nice battery backup. update from iPhone 7 and happy to have it. camera is not up to the mark in low light but overall a recommended phone if your budget allows 😀',\n",
       " 'Really satisfied with the Product I received... It’s totally genuine and the packaging was also really good so if ur planning to buy just go for it.',\n",
       " 'Worth the money’ starting first from its performance it beats out all phones , second the smoothness of camera is awesome, contrast ratio is much than expected. Price will not matter if u r a quality person, if not other phones are available with better discount',\n",
       " 'i11 is worthy to buy, too much happy with the product. Thank u flipkart I received the item on time..loved it..',\n",
       " \"I'm Really happy with the product\\nDelivery was fast as well\\n..it was a gift for my sister and she loved it so much.\",\n",
       " 'Great iphone.\\nI am writing this review after 2 months of usage.\\nCamera is excellent, especially the nightmode\\nDisplay perfect\\nBattery backup awesome\\nSound quality very good\\nOverall Apple gives you a perfect iphone in this range.\\nReally in love with iPhone 11']"
      ]
     },
     "execution_count": 177,
     "metadata": {},
     "output_type": "execute_result"
    }
   ],
   "source": [
    "fullreview"
   ]
  },
  {
   "cell_type": "code",
   "execution_count": 181,
   "id": "c46705cb",
   "metadata": {},
   "outputs": [],
   "source": [
    "rating61_tags=driver.find_elements_by_xpath(\"//div[@class='_3LWZlK _1BLPMq']\")\n",
    "rating= [] #empty list\n",
    "for i in rating61_tags:\n",
    "    rating.append(i.text)"
   ]
  },
  {
   "cell_type": "code",
   "execution_count": 182,
   "id": "75bd6182",
   "metadata": {},
   "outputs": [
    {
     "data": {
      "text/plain": [
       "['5', '5', '5', '5', '5', '5', '5', '4', '4', '5']"
      ]
     },
     "execution_count": 182,
     "metadata": {},
     "output_type": "execute_result"
    }
   ],
   "source": [
    "rating"
   ]
  },
  {
   "cell_type": "code",
   "execution_count": 183,
   "id": "ee0e9056",
   "metadata": {},
   "outputs": [],
   "source": [
    "review61_tags=driver.find_elements_by_xpath(\"//p[@class='_2-N8zT']\")\n",
    "review= [] #empty list\n",
    "for i in review61_tags:\n",
    "    review.append(i.text)"
   ]
  },
  {
   "cell_type": "code",
   "execution_count": 184,
   "id": "e9cc1b28",
   "metadata": {},
   "outputs": [
    {
     "data": {
      "text/plain": [
       "['Super!',\n",
       " 'Perfect product!',\n",
       " 'Must buy!',\n",
       " 'Perfect product!',\n",
       " 'Awesome',\n",
       " 'Mind-blowing purchase',\n",
       " 'Fabulous!',\n",
       " 'Value-for-money',\n",
       " 'Good quality product',\n",
       " 'Perfect product!']"
      ]
     },
     "execution_count": 184,
     "metadata": {},
     "output_type": "execute_result"
    }
   ],
   "source": [
    "review"
   ]
  },
  {
   "cell_type": "code",
   "execution_count": 185,
   "id": "5beffd69",
   "metadata": {},
   "outputs": [],
   "source": [
    "fullreview61_tags=driver.find_elements_by_xpath(\"//div[@class='t-ZTKy']\")\n",
    "fullreview= [] #empty list\n",
    "for i in fullreview61_tags:\n",
    "    fullreview.append(i.text)"
   ]
  },
  {
   "cell_type": "code",
   "execution_count": 186,
   "id": "4ce1be77",
   "metadata": {},
   "outputs": [
    {
     "data": {
      "text/plain": [
       "['Did an upgrade from 6s plus to iphone 11.\\nAo far the experience is well and good. Felt smoother than 6s plus. The camera quality is superb. Battery backup is descent. Not a heavy user, and gets power more than a day. Go for it if you need an alrounder iphone in a competitve price.',\n",
       " 'Value for money\\n5 star rating\\nExcellent camera\\nBattery backup full day in single charge.\\n\\nTougher and water resistant design, glossy back.\\nThe screen has excellent brightness and contrast.\\nApple A13 Bionic is the fastest smartphone chip on the planet.\\nExcellent battery life, fast charging support.\\nStereo speakers with great quality.',\n",
       " 'Damn this phone is a blast . Upgraded from android to ios and is a duperb experience. Battery backup is top notch and display also pretty good',\n",
       " 'Best and amazing product.....phone looks so premium.... battary is also good as expected .... Wide angle camera is so addictive ...if you are a IOS lover....then this phone will be the best choice for you all!!💯🔥',\n",
       " 'Always love the apple products, upgraded from old iPhone 6S plus to this after having my first baby. I just love to click baby’s photos with it. Overall I just love this phone. Battery back up is okay, sound quality is good. Haven’t tested yet waterproof yet. Only one thing I hate is apple could have given charger & headphones in box.',\n",
       " 'awesome Phone Smooth Touch Too good Sexyy looks one word Awesome',\n",
       " 'I purchased the iPhone 11 a month back. I must say Apple has impressed me yet again . I have been an Apple user for past 5 years . The phone is power packed with amazing features . What impressed me the most was the battery backup the phone offers . Battery can easily run upto 1.5 days in single charge with moderate to\\nHeavy usage . If you’re looking for a value for money device , I don’t see any other phone in the price range which can match the iPhone 11 .\\nOne thing I didn’t like was that ...\\nREAD MORE',\n",
       " \"Just got this iphone 11\\nAnd it is most powerful mobile phone I have used ever\\n\\nSo,go for it if you want a phone with best specification like camera,battery backup,display, A13 bionic chip\\n\\nThat's my review about this phone but yours can be differ from me....\",\n",
       " \"I'm switching this phone to oppo reno 10x zoom\\nIt's really impressive\\nRarely I'm missing smooth display touch response like oppo reno but\\nI really loved it.\\nCamera really impressive\",\n",
       " 'It is just awesome mobile for this price from Apple,\\n\\nAfter 10 days review\\n\\nBattery enough for 1 day even 24*7 Internet will be on and mostly internet usage\\n\\nCamera is just awesome cool , android 64 MP is equal to this just 12 MP\\n\\nA13 Bionic chip will give more high performance without hanging\\n\\nAudio stereo speakers will give Dolby atoms sound with crystal clear\\n\\nVideo recording is like cinematic shots of every sec can be a 4K 60fps. Just awesome this phone\\niPhone 11 loved one']"
      ]
     },
     "execution_count": 186,
     "metadata": {},
     "output_type": "execute_result"
    }
   ],
   "source": [
    "fullreview"
   ]
  },
  {
   "cell_type": "code",
   "execution_count": 187,
   "id": "421a2ef8",
   "metadata": {},
   "outputs": [],
   "source": [
    "rating71_tags=driver.find_elements_by_xpath(\"//div[@class='_3LWZlK _1BLPMq']\")\n",
    "rating= [] #empty list\n",
    "for i in rating71_tags:\n",
    "    rating.append(i.text)"
   ]
  },
  {
   "cell_type": "code",
   "execution_count": 188,
   "id": "d7a68a0b",
   "metadata": {},
   "outputs": [
    {
     "data": {
      "text/plain": [
       "['5', '5', '4', '5', '5', '3', '5', '5', '5', '5']"
      ]
     },
     "execution_count": 188,
     "metadata": {},
     "output_type": "execute_result"
    }
   ],
   "source": [
    "rating"
   ]
  },
  {
   "cell_type": "code",
   "execution_count": 189,
   "id": "997b30ce",
   "metadata": {},
   "outputs": [],
   "source": [
    "review71_tags=driver.find_elements_by_xpath(\"//p[@class='_2-N8zT']\")\n",
    "review= [] #empty list\n",
    "for i in review71_tags:\n",
    "    review.append(i.text)"
   ]
  },
  {
   "cell_type": "code",
   "execution_count": 190,
   "id": "13fef4da",
   "metadata": {},
   "outputs": [
    {
     "data": {
      "text/plain": [
       "['Excellent',\n",
       " 'Mind-blowing purchase',\n",
       " 'Good quality product',\n",
       " 'Terrific purchase',\n",
       " 'Awesome',\n",
       " 'Decent product',\n",
       " 'Must buy!',\n",
       " 'Super!',\n",
       " 'Just wow!',\n",
       " 'Excellent']"
      ]
     },
     "execution_count": 190,
     "metadata": {},
     "output_type": "execute_result"
    }
   ],
   "source": [
    "review"
   ]
  },
  {
   "cell_type": "code",
   "execution_count": 191,
   "id": "d8587c2c",
   "metadata": {},
   "outputs": [],
   "source": [
    "fullreview71_tags=driver.find_elements_by_xpath(\"//div[@class='t-ZTKy']\")\n",
    "fullreview= [] #empty list\n",
    "for i in fullreview71_tags:\n",
    "    fullreview.append(i.text)"
   ]
  },
  {
   "cell_type": "code",
   "execution_count": 192,
   "id": "fa61771c",
   "metadata": {},
   "outputs": [
    {
     "data": {
      "text/plain": [
       "[\"Just go for it.\\nThis phone is really amazing. I ordered it for my wife and we click photos on this thing which are better than dslr. I own OnePlus 6t but it's camera sucks. iPhone is really amazing when it comes to camera. It's worth spending 50k on this. Cons- only display is lcd. While using u don't feel it but if u compare with other phone then u can see difference quite easily.\\nChanging from Android to iphone is bit difficult coz most of things u don't know but I liked it. Some of the a...\\nREAD MORE\",\n",
       " 'Absolutely powerful gadget. Loved it’s look! Soo glassy and classy. I would definitely recommend this model of Apple. Only disappointed with the 5W charger, one should purchase an 18W adapter for fast charging. Though battery backup is great. Bought it in September 2020, reviewing after so long so I’m gonna put the genuine review here.✅',\n",
       " 'I was torn between the oneplus 8 pro and the iphone 11. I had to shell out extra money for this, but I say if you can afford it, this truely is the best package.\\nMind blowing camera, battery and overall performance. Face Id works like magic even in complete darkness without firing up the screen brightness. The phones with in display fingerprint scanners do this at night time and it really burns your eyes.\\nI wanted the oneplus for its display but tbh the OLEDs on oneplus is really bad. Flick...\\nREAD MORE',\n",
       " 'I use a Note10+ and have been using both iOS and Android devices.\\n\\nCamera has really good features and portraits are super good, better than Samsung flagship. Overall camera setup can still be enhanced and hopeful for better upgrades on software in next release\\n\\nOperating system is quite a breeze and user experience of daily usage is very high as compared to Android. I moved to iOS very swiftly in 2 days for all my office work from Note10+\\n\\nBattery holds up quite well with 4 hrs of call and ...\\nREAD MORE',\n",
       " 'The phone is completely good\\nAs far as camera Apple is king of it\\nAnd its a beast in performance\\nAnd the battery is pretty good too',\n",
       " 'Everything u ll like it when u use this iPhone. Simple changes only not many to lower models but it’s nice to use. Little heavy compared to previous models like 7,8',\n",
       " 'I rate this product 5* as it has got amazing user experience with the best performing A13 bionic processor. The screen responds and graphics rendering is top notch. With casual gaming and internet browsing, the battery lasts for approx. 1 day. Camera is very good. You will fall in love with the portrait mode. You can call me a loyal Apple customer or whatever but I won’t stop praising the products and overall experience. That user experience matters and is worth every penny you pay.\\n\\nBelow ar...\\nREAD MORE',\n",
       " \"It's a great phone. From camera to display everything is best for the price.\\nBest camera , best performance. I think everyone should buy it . This phone has best battery life so far in iphone series which I had used earlier. Happy to have it. Thanks Flipkart\",\n",
       " 'The ultimate performance\\nCamera is superb\\nThe battery backup also very good i never saw iphone gives this much of battery backup\\nIf any one wana buy iphone 11 definitely i will recommend this mobile\\nIt has the better battery and powerfull processer peak performance glorious camera and the display also 100% high quality lcd display if u had money for for 12 if u dont wana invest much money on that then go for iphone 11 it has maximum same specs only main difference between the 12 and 11 is...\\nREAD MORE',\n",
       " 'Seller - SuperComNet ( my trust in you has grown deeper. Thanks for the genuine product )\\nThe package came packed perfectly. The box was sealed which gave me a big relief.\\n\\nApple needs no introduction since its the dominant market player. I just love the way how IPhone 11 stands out so boldly. The moment I took it out from the box, I could feel the premium intensity. The body is remarkable and crafted for giving you a elite vibe.\\n\\nCamera is to die for. There is no other phone that can beat...\\nREAD MORE']"
      ]
     },
     "execution_count": 192,
     "metadata": {},
     "output_type": "execute_result"
    }
   ],
   "source": [
    "fullreview"
   ]
  },
  {
   "cell_type": "code",
   "execution_count": 193,
   "id": "22a07c6f",
   "metadata": {},
   "outputs": [],
   "source": [
    "rating81_tags=driver.find_elements_by_xpath(\"//div[@class='_3LWZlK _1BLPMq']\")\n",
    "rating= [] #empty list\n",
    "for i in rating81_tags:\n",
    "    rating.append(i.text)"
   ]
  },
  {
   "cell_type": "code",
   "execution_count": 194,
   "id": "b8f9df6c",
   "metadata": {},
   "outputs": [
    {
     "data": {
      "text/plain": [
       "['5', '5', '5', '5', '4', '4', '5', '3', '5']"
      ]
     },
     "execution_count": 194,
     "metadata": {},
     "output_type": "execute_result"
    }
   ],
   "source": [
    "rating"
   ]
  },
  {
   "cell_type": "code",
   "execution_count": 195,
   "id": "1cdbce69",
   "metadata": {},
   "outputs": [],
   "source": [
    "review81_tags=driver.find_elements_by_xpath(\"//p[@class='_2-N8zT']\")\n",
    "review= [] #empty list\n",
    "for i in review81_tags:\n",
    "    review.append(i.text)"
   ]
  },
  {
   "cell_type": "code",
   "execution_count": 196,
   "id": "3533437c",
   "metadata": {},
   "outputs": [
    {
     "data": {
      "text/plain": [
       "['Awesome',\n",
       " 'Classy product',\n",
       " 'Excellent',\n",
       " 'Terrific',\n",
       " 'Wonderful',\n",
       " 'Good quality product',\n",
       " 'Classy product',\n",
       " 'Not recommended at all',\n",
       " 'Does the job',\n",
       " 'Excellent']"
      ]
     },
     "execution_count": 196,
     "metadata": {},
     "output_type": "execute_result"
    }
   ],
   "source": [
    "review"
   ]
  },
  {
   "cell_type": "code",
   "execution_count": 197,
   "id": "bc3e359f",
   "metadata": {},
   "outputs": [],
   "source": [
    "fullreview81_tags=driver.find_elements_by_xpath(\"//div[@class='t-ZTKy']\")\n",
    "fullreview= [] #empty list\n",
    "for i in fullreview81_tags:\n",
    "    fullreview.append(i.text)"
   ]
  },
  {
   "cell_type": "code",
   "execution_count": 198,
   "id": "4c675258",
   "metadata": {},
   "outputs": [
    {
     "data": {
      "text/plain": [
       "['Can’t beat the software and hardware integration of apple.\\nPerforms like a beast. Great quality camera\\n6-7 hours screen on time which is good. Nothing much to complaint about the screen. Good connectivity speeds.\\nGreat buy and Flipkart’s delivery top notch as usual',\n",
       " 'We are on apple ecosystem for almost eight years now with couple of iPads and iPhones, including Xr.\\n\\nBought iPhone 11 as a gift to my daughter who loves it. We chose for a purple coloured one. Believe me it is gorgeous and towards the lighter shade. Dazzling and brilliant!\\n\\nThe phone is great and does excellent RAM management like any other Apple device.\\n\\nThe screen, though a LCD and lesser ppi as compared to other flagship phones of competitor brands, is a delight to watch with perfect re...\\nREAD MORE',\n",
       " 'Value for money product. This iphone 11 is really amazing. Again nice release by apple. Great camera, battery backup is excellent. I just love this phone',\n",
       " 'Awesome phone in budget... If you are going for an Android phone for say above 40 k then add more 5 to 7k and go for IPHONE 11 you will get awesome phone with CLASS.\\n\\nMy first IPhone and it is great to have iPhone 11\\n\\nThanks to Flipkart for one day delivery, got the phone delivered in 24hrs.....\\n\\nBattery 10\\nLooks 10\\nPerformance 10\\nCamera 10\\nBattery 9',\n",
       " \"I genuinely liked it. One of the best mobile phones I have used. It's sho smooth and it's security is very astonishing. Plus it has a very good camera quality. so overall it's a win win.\",\n",
       " 'Awesome camera, smooth and fast UI, display is great (though not LED) but the black area at the top could have been reduced. Battery remains a day even if used heavily. Charger in the box is ok, but 12 or 18W could have been nothing like anything. Overall an excellent product and comfortable to use. I have got it almost a month back and so far so good.',\n",
       " \"I write this review after using a week this iPhone 11.\\nI'm 6 Years Old Android User and this is my first iPhone. Basically I searched for a phone with a Great Camera and Video Quality for Making YouTube Videos My Budget was around 40-50k then I search a lot on the Internet. Then I finally decide to buy this phone. I've been using this phone for about a week and I purchased this phone at 45K and I'm really happy with that. Its Software Integration with Processor is Just Awesome! This phone can...\\nREAD MORE\",\n",
       " 'They are selling cheep quality items. There is a black line on the edge of the display. Waiting for the replacement..\\n\\nUpdate:today I got the replacement from flipkart.. The second one is nice and the display and camera quality is much better than the previous one.. Thanks for the support',\n",
       " \"phone is good but in display is 720p lcd in this price range we can get full hd OLED displays with higher refresh rate processor is very good camera is nice but looks kind of oldish in front of todays phone also there's no charging in box had to buy it seperately\",\n",
       " 'A perfect phone and a good battery super camera and the sound is dynamic overall the phone is perfect for upgrading from lower iPhone model to iPhone 11']"
      ]
     },
     "execution_count": 198,
     "metadata": {},
     "output_type": "execute_result"
    }
   ],
   "source": [
    "fullreview"
   ]
  },
  {
   "cell_type": "code",
   "execution_count": 199,
   "id": "0c85aab8",
   "metadata": {},
   "outputs": [],
   "source": [
    "rating91_tags=driver.find_elements_by_xpath(\"//div[@class='_3LWZlK _1BLPMq']\")\n",
    "rating= [] #empty list\n",
    "for i in rating91_tags:\n",
    "    rating.append(i.text)"
   ]
  },
  {
   "cell_type": "code",
   "execution_count": 200,
   "id": "f8f35c7e",
   "metadata": {},
   "outputs": [
    {
     "data": {
      "text/plain": [
       "['5', '5', '5', '5', '5', '5', '5', '5', '5', '5']"
      ]
     },
     "execution_count": 200,
     "metadata": {},
     "output_type": "execute_result"
    }
   ],
   "source": [
    "rating"
   ]
  },
  {
   "cell_type": "code",
   "execution_count": 201,
   "id": "c07f951b",
   "metadata": {},
   "outputs": [],
   "source": [
    "review91_tags=driver.find_elements_by_xpath(\"//p[@class='_2-N8zT']\")\n",
    "review= [] #empty list\n",
    "for i in review91_tags:\n",
    "    review.append(i.text)"
   ]
  },
  {
   "cell_type": "code",
   "execution_count": 202,
   "id": "333f7bcb",
   "metadata": {},
   "outputs": [
    {
     "data": {
      "text/plain": [
       "['Fabulous!',\n",
       " 'Mind-blowing purchase',\n",
       " 'Super!',\n",
       " 'Brilliant',\n",
       " 'Most Price worthy Iphone',\n",
       " 'Best in the market!',\n",
       " 'Terrific',\n",
       " 'Terrific purchase',\n",
       " 'Wonderful',\n",
       " 'Fabulous!']"
      ]
     },
     "execution_count": 202,
     "metadata": {},
     "output_type": "execute_result"
    }
   ],
   "source": [
    "review"
   ]
  },
  {
   "cell_type": "code",
   "execution_count": 203,
   "id": "63d1452f",
   "metadata": {},
   "outputs": [],
   "source": [
    "fullreview91_tags=driver.find_elements_by_xpath(\"//div[@class='t-ZTKy']\")\n",
    "fullreview= [] #empty list\n",
    "for i in fullreview91_tags:\n",
    "    fullreview.append(i.text)"
   ]
  },
  {
   "cell_type": "code",
   "execution_count": 204,
   "id": "6dc3b18d",
   "metadata": {},
   "outputs": [
    {
     "data": {
      "text/plain": [
       "['Everything is perfect pictures come out so clearly and at first I wasn’t sure when I got it then when I started to use it and get the hang of it it was amazing!! I can’t wait to see what the next future phones will be like. The screen display on this bad boy are unbelievable they are so clear and never fail me. The performance is super cool there is a lot of cool features as well I like this phone because I feel that it is easy to use and one of my favorite things about this phone is the Face...\\nREAD MORE',\n",
       " \"i was confused between 11 and 11 pro. i was going towards 11 pro, but the screen size was not enough for me.\\nAnd i saw 11 in the showroom. i didn't find much difference in screen quality.And cameras seems to be ok with me. And i saw offer's in flipkart and made the purchase.\\nthe device is fabulous. The hardware and software quality is excellent. The new iOS is something you need to experience yourself. The drawback i found was absence of fast charger, but the pricing can compensate that. Am...\\nREAD MORE\",\n",
       " 'This is my first ever iPhone.\\nAnd I truly don’t regret switching to IOS from my Android.\\n\\nIt is easily an alternative to a DSLR camera.\\nIf you’re obsessed with photos and videos, just don’t think twice or don’t compare to other androids(Samsung S10 lite or OnePlus 8/8T), as it’s far better from them in every field.\\nComparing will only make you confused.\\n\\nI am getting an average Screen on Time of around 10 hours with 30 percent left. I haven’t let my device discharged below 30 % as it aff...\\nREAD MORE',\n",
       " 'Wow wow and wow, in 48k you will not get anything better than this, processor is awsome, camera is a beast, display is superb, this is my first iphone, and I am already in love with these',\n",
       " 'Reviewing within 1st Month\\n\\n\\n1st Month Review\\nThis is my first Iphone. So been new to the Ios Environment i faced some basic issues. Whatever issues i am facing is because of change in environment.\\nVideo Output is amazing.\\nBattery - Typical One Day Battery. 20 W fast charger is amazing which charges the iphone within 40-60 Mins ( purchased separately)\\nCamera - Good and Natural Colours. ( I have Samsung S21+ and not at par with its camera) but the output is same all the time which is good.\\n...\\nREAD MORE',\n",
       " \"The best all rounder iphone. Flipkart is doing a great job. They're delivery services are blazing fast. I got delivery on the same day. Genuine Apple Product. Working great. Talking about review There's no need of review for iphones. They're simply the best.\",\n",
       " \"I upgraded (downgraded?) from my iPhone X since the phone fell down and I didn't want to repair the screen. The box that the phone came in was super slim and I was worried that there'd be no 5W charger with it and my fears were confirmed. However, thankfully I had the 18W USB-C PD charger from Apple which I bought for my iPhone X and it worked perfectly. The charging time is as lethargic as ever though and it takes about 1:30 mins or even 2 hours depending on charge remaining. I'll list some ...\\nREAD MORE\",\n",
       " 'Well , as we all know if its not an Iphone , its not an iphone . The iphones are always beast . The camera game has been level up . The A13 Bionic is just fabulous . The update this year are certainly the camera which is damn good with d addition of wide angle lens as well as ultra wide . If anyones purchasing an iphone for the first time , do opt for the black color . Its just feels more than premium . Battery life is damn good with lasting fully a day . Overall a nice package . Well managed...\\nREAD MORE',\n",
       " 'Nice value for money good and best price I phone mind blowing camera processor very fast other android mobile I am happy India top selling phone 2020',\n",
       " \"Just an awesome phone...upgraded from 6s to 11 and trust me guys it's super cool with amazing features..loved it ♥️ and a big thank you to Flipkart for delivering it in just 2 days ?\"]"
      ]
     },
     "execution_count": 204,
     "metadata": {},
     "output_type": "execute_result"
    }
   ],
   "source": [
    "fullreview"
   ]
  },
  {
   "cell_type": "markdown",
   "id": "7eaa7569",
   "metadata": {},
   "source": [
    "# Q8: Scrape data for first 100 sneakers you find when you visit flipkart.com and search for “sneakers” in the search field."
   ]
  },
  {
   "cell_type": "code",
   "execution_count": 205,
   "id": "e345cc02",
   "metadata": {},
   "outputs": [],
   "source": [
    "import pandas as pd\n",
    "import selenium\n",
    "from selenium import webdriver\n"
   ]
  },
  {
   "cell_type": "code",
   "execution_count": 206,
   "id": "8604f0a1",
   "metadata": {},
   "outputs": [],
   "source": [
    "driver=webdriver.Chrome('chromedriver.exe')"
   ]
  },
  {
   "cell_type": "code",
   "execution_count": 207,
   "id": "fd6bf07c",
   "metadata": {},
   "outputs": [],
   "source": [
    "url='https://www.flipkart.com/'"
   ]
  },
  {
   "cell_type": "code",
   "execution_count": 208,
   "id": "e3500694",
   "metadata": {},
   "outputs": [],
   "source": [
    "driver.get(url)"
   ]
  },
  {
   "cell_type": "code",
   "execution_count": 209,
   "id": "6ebe13ce",
   "metadata": {},
   "outputs": [
    {
     "data": {
      "text/plain": [
       "<selenium.webdriver.remote.webelement.WebElement (session=\"49cb0f07a81e1f94dea83005b7006be0\", element=\"34860770-2020-4f73-8e88-dba785d8a124\")>"
      ]
     },
     "execution_count": 209,
     "metadata": {},
     "output_type": "execute_result"
    }
   ],
   "source": [
    "search_product=driver.find_element_by_name(\"q\")\n",
    "search_product\n"
   ]
  },
  {
   "cell_type": "code",
   "execution_count": 210,
   "id": "d3f4772d",
   "metadata": {},
   "outputs": [],
   "source": [
    "search_product.send_keys(\"sneakers\")"
   ]
  },
  {
   "cell_type": "code",
   "execution_count": 211,
   "id": "4b5d1ddd",
   "metadata": {},
   "outputs": [],
   "source": [
    "search_btn=driver.find_element_by_xpath(\"//button[@class='L0Z3Pu']\")\n",
    "search_btn.click()\n"
   ]
  },
  {
   "cell_type": "code",
   "execution_count": 212,
   "id": "5579dd0f",
   "metadata": {},
   "outputs": [],
   "source": [
    "brand_tags=driver.find_elements_by_xpath(\"//div[@class='_2WkVRV']\")\n",
    "brand_name= [] #empty list\n",
    "for i in brand_tags:\n",
    "    brand_name.append(i.text)\n"
   ]
  },
  {
   "cell_type": "code",
   "execution_count": 213,
   "id": "7afd9828",
   "metadata": {},
   "outputs": [
    {
     "data": {
      "text/plain": [
       "['PUMA',\n",
       " 'SPARX',\n",
       " 'SPARX',\n",
       " 'SPARX',\n",
       " 'Robbie jones',\n",
       " 'HOTSTYLE',\n",
       " 'SPARX',\n",
       " 'SPARX',\n",
       " 'SPARX',\n",
       " 'ORICUM',\n",
       " 'Robbie jones',\n",
       " 'SPARX',\n",
       " 'PUMA',\n",
       " 'SPARX',\n",
       " 'Numenzo',\n",
       " 'VIPSJAZZY',\n",
       " 'SPARX',\n",
       " 'SPARX',\n",
       " 'PUMA',\n",
       " 'Shoes Bank',\n",
       " 'Stefano Rads',\n",
       " 'PUMA',\n",
       " 'PUMA',\n",
       " 'NIKE',\n",
       " 'Echor',\n",
       " 'Robbie jones',\n",
       " 'SPARX',\n",
       " 'PUMA',\n",
       " 'PUMA',\n",
       " 'BRUTON',\n",
       " 'aadi',\n",
       " 'SPARX',\n",
       " 'PUMA',\n",
       " 'PUMA',\n",
       " 'bluemaker',\n",
       " '\"trend\"',\n",
       " 'PUMA',\n",
       " 'SPARX',\n",
       " 'PUMA',\n",
       " 'Echor']"
      ]
     },
     "execution_count": 213,
     "metadata": {},
     "output_type": "execute_result"
    }
   ],
   "source": [
    "brand_name"
   ]
  },
  {
   "cell_type": "code",
   "execution_count": 214,
   "id": "37d2bf3c",
   "metadata": {},
   "outputs": [
    {
     "data": {
      "text/plain": [
       "40"
      ]
     },
     "execution_count": 214,
     "metadata": {},
     "output_type": "execute_result"
    }
   ],
   "source": [
    "len(brand_name)"
   ]
  },
  {
   "cell_type": "code",
   "execution_count": 224,
   "id": "6a95dfee",
   "metadata": {},
   "outputs": [],
   "source": [
    "description_tags=driver.find_elements_by_xpath(\"//a[@class='IRpwTa']\")\n",
    "product_description= [] #empty list\n",
    "for i in description_tags:\n",
    "    product_description.append(i.text)\n"
   ]
  },
  {
   "cell_type": "code",
   "execution_count": 233,
   "id": "ec4b6473",
   "metadata": {},
   "outputs": [
    {
     "data": {
      "text/plain": [
       "['SD-323 Sneakers For Men',\n",
       " 'SM-439 Sneakers For Men',\n",
       " 'SM-439 Sneakers For Men',\n",
       " 'Casual Sneakers Shoes For Men Sneakers For Men',\n",
       " 'Sneakers Sneakers For Men',\n",
       " 'SM-322 Sneakers For Men',\n",
       " 'SM-162 Sneakers For Men',\n",
       " 'SM-322 Sneakers For Men',\n",
       " 'Combo pack of 2 casual sneaker shoes for men Sneakers F...',\n",
       " 'Sneakers For Men',\n",
       " 'Puma Rebound LayUp SL Sneakers For Men',\n",
       " 'SM-322 Sneakers For Men',\n",
       " 'Sneakers For Men',\n",
       " 'Men White Sneakers Sneakers For Men',\n",
       " 'Men White Sneakers Sneakers For Men',\n",
       " 'BMW M Motorsport RS-2K Sneakers For Men',\n",
       " \"White Sneaker For Men's/Boy's Sneakers For Men\",\n",
       " 'Corode IDP Sneakers For Men',\n",
       " 'Acrux IDP Sneakers For Men',\n",
       " 'SB Delta Force Vulcanized Skate Shoe Sneakers For Men',\n",
       " 'Casual Sneakers Black Shoes For Men Sneakers For Men',\n",
       " 'Puma Flex Renew Sneakers For Men',\n",
       " 'Anzarun Cage Sneakers For Men',\n",
       " 'Combo Pack Of 4 Canvas Sneakers For Men',\n",
       " 'Sneakers For Men',\n",
       " 'SM-162 Sneakers For Men',\n",
       " 'Bari Sneakers For Men',\n",
       " 'Foxster XT IDP Sneakers For Men',\n",
       " 'casual for men (blue 06) Sneakers For Men',\n",
       " 'Fashionable casual sneakers shoes for men Sneakers For ...',\n",
       " 'Smash v2 Sneakers For Men',\n",
       " 'sm323 Sneakers For Men',\n",
       " 'Axis Sneakers For Men']"
      ]
     },
     "execution_count": 233,
     "metadata": {},
     "output_type": "execute_result"
    }
   ],
   "source": [
    "product_description"
   ]
  },
  {
   "cell_type": "code",
   "execution_count": 226,
   "id": "b1c67b0f",
   "metadata": {},
   "outputs": [
    {
     "data": {
      "text/plain": [
       "33"
      ]
     },
     "execution_count": 226,
     "metadata": {},
     "output_type": "execute_result"
    }
   ],
   "source": [
    "len(product_description)"
   ]
  },
  {
   "cell_type": "code",
   "execution_count": 227,
   "id": "8de2b3f3",
   "metadata": {},
   "outputs": [],
   "source": [
    "price_tags=driver.find_elements_by_xpath(\"//div[@class='_30jeq3']\")\n",
    "price= [] #empty list\n",
    "for i in price_tags:\n",
    "    price.append(i.text)\n"
   ]
  },
  {
   "cell_type": "code",
   "execution_count": 228,
   "id": "5bc23242",
   "metadata": {},
   "outputs": [
    {
     "data": {
      "text/plain": [
       "['₹632',\n",
       " '₹699',\n",
       " '₹699',\n",
       " '₹379',\n",
       " '₹283',\n",
       " '₹769',\n",
       " '₹730',\n",
       " '₹769',\n",
       " '₹377',\n",
       " '₹474',\n",
       " '₹699',\n",
       " '₹2,899',\n",
       " '₹769',\n",
       " '₹399',\n",
       " '₹419',\n",
       " '₹629',\n",
       " '₹636',\n",
       " '₹5,631',\n",
       " '₹349',\n",
       " '₹229',\n",
       " '₹1,479',\n",
       " '₹1,847',\n",
       " '₹2,966',\n",
       " '₹569',\n",
       " '₹428',\n",
       " '₹649',\n",
       " '₹1,839',\n",
       " '₹2,285',\n",
       " '₹499',\n",
       " '₹298',\n",
       " '₹730',\n",
       " '₹1,278',\n",
       " '₹1,294',\n",
       " '₹474',\n",
       " '₹426',\n",
       " '₹1,839',\n",
       " '₹636',\n",
       " '₹1,359',\n",
       " '₹569']"
      ]
     },
     "execution_count": 228,
     "metadata": {},
     "output_type": "execute_result"
    }
   ],
   "source": [
    "price"
   ]
  },
  {
   "cell_type": "code",
   "execution_count": 229,
   "id": "4925289f",
   "metadata": {},
   "outputs": [
    {
     "data": {
      "text/plain": [
       "39"
      ]
     },
     "execution_count": 229,
     "metadata": {},
     "output_type": "execute_result"
    }
   ],
   "source": [
    "len(price)"
   ]
  },
  {
   "cell_type": "code",
   "execution_count": 230,
   "id": "ca18fcb9",
   "metadata": {},
   "outputs": [],
   "source": [
    "discount_tags=driver.find_elements_by_xpath(\"//div[@class='_3Ay6Sb']\")\n",
    "discount= [] #empty list\n",
    "for i in discount_tags:\n",
    "    discount.append(i.text)\n"
   ]
  },
  {
   "cell_type": "code",
   "execution_count": 231,
   "id": "dfe0fbeb",
   "metadata": {},
   "outputs": [
    {
     "data": {
      "text/plain": [
       "['15% off',\n",
       " '62% off',\n",
       " '43% off',\n",
       " '23% off',\n",
       " '23% off',\n",
       " '23% off',\n",
       " '62% off',\n",
       " '52% off',\n",
       " '42% off',\n",
       " '23% off',\n",
       " '60% off',\n",
       " '58% off',\n",
       " '16% off',\n",
       " '15% off',\n",
       " '43% off',\n",
       " '65% off',\n",
       " '67% off',\n",
       " '63% off',\n",
       " '44% off',\n",
       " '34% off',\n",
       " '43% off',\n",
       " '57% off',\n",
       " '54% off',\n",
       " '67% off',\n",
       " '85% off',\n",
       " '70% off',\n",
       " '23% off',\n",
       " '57% off',\n",
       " '63% off',\n",
       " '52% off',\n",
       " '78% off',\n",
       " '54% off',\n",
       " '15% off',\n",
       " '66% off',\n",
       " '43% off']"
      ]
     },
     "execution_count": 231,
     "metadata": {},
     "output_type": "execute_result"
    }
   ],
   "source": [
    "discount"
   ]
  },
  {
   "cell_type": "code",
   "execution_count": 232,
   "id": "32f72023",
   "metadata": {},
   "outputs": [
    {
     "data": {
      "text/plain": [
       "35"
      ]
     },
     "execution_count": 232,
     "metadata": {},
     "output_type": "execute_result"
    }
   ],
   "source": [
    "len(discount)"
   ]
  },
  {
   "cell_type": "code",
   "execution_count": 234,
   "id": "24acca30",
   "metadata": {},
   "outputs": [],
   "source": [
    "brand_tags=driver.find_elements_by_xpath(\"//div[@class='_2WkVRV']\")\n",
    "brand_name= [] #empty list\n",
    "for i in brand_tags:\n",
    "    brand_name.append(i.text)\n"
   ]
  },
  {
   "cell_type": "code",
   "execution_count": 235,
   "id": "dd56f9a5",
   "metadata": {},
   "outputs": [
    {
     "data": {
      "text/plain": [
       "['Echor',\n",
       " 'SPARX',\n",
       " 'SPARX',\n",
       " 'SPARX',\n",
       " '3SIX5',\n",
       " 'SWIGGY',\n",
       " 'DUCATI',\n",
       " \"LEVI'S\",\n",
       " 'PUMA',\n",
       " 'Kraasa',\n",
       " 'SCATCHITE',\n",
       " 'ADIDAS',\n",
       " 'SPARX',\n",
       " 'SPARX',\n",
       " 'HOTSTYLE',\n",
       " 'World Wear Footwear',\n",
       " 'PUMA',\n",
       " 'PUMA',\n",
       " 'RED TAPE',\n",
       " 'T-ROCK',\n",
       " 'Svpanther',\n",
       " 'PUMA',\n",
       " 'SPARX',\n",
       " 'SPARX',\n",
       " 'Robbie jones',\n",
       " 'VORII',\n",
       " 'PUMA',\n",
       " 'PUMA',\n",
       " 'RED TAPE',\n",
       " 'Zsyto',\n",
       " 'believe',\n",
       " 'DUCATI',\n",
       " 'PUMA',\n",
       " 'RED TAPE',\n",
       " 'SPARX',\n",
       " 'Robbie jones',\n",
       " 'PUMA',\n",
       " 'NIKE',\n",
       " 'PUMA',\n",
       " 'Numenzo']"
      ]
     },
     "execution_count": 235,
     "metadata": {},
     "output_type": "execute_result"
    }
   ],
   "source": [
    "brand_name"
   ]
  },
  {
   "cell_type": "code",
   "execution_count": 236,
   "id": "8aa3a8b7",
   "metadata": {},
   "outputs": [
    {
     "data": {
      "text/plain": [
       "40"
      ]
     },
     "execution_count": 236,
     "metadata": {},
     "output_type": "execute_result"
    }
   ],
   "source": [
    "len(brand_name)"
   ]
  },
  {
   "cell_type": "code",
   "execution_count": 237,
   "id": "e83f421e",
   "metadata": {},
   "outputs": [],
   "source": [
    "description_tags=driver.find_elements_by_xpath(\"//a[@class='IRpwTa']\")\n",
    "product_description= [] #empty list\n",
    "for i in description_tags:\n",
    "    product_description.append(i.text)\n"
   ]
  },
  {
   "cell_type": "code",
   "execution_count": 238,
   "id": "3a25fcc7",
   "metadata": {},
   "outputs": [
    {
     "data": {
      "text/plain": [
       "['Canvas Casual Partywear Outdoor Sneakers Shoes For Mens...',\n",
       " 'SD-323 Sneakers For Men',\n",
       " 'Men 192 Sneakers For Men',\n",
       " 'ORIFWSH(OR)-1077 Sneakers For Men',\n",
       " 'Casual Loafers, Sneakers Shoes for Men Pack of 5 Combo(...',\n",
       " 'Sneakers For Men',\n",
       " 'INDI WISH Sneaker For Men',\n",
       " 'Ontario IDP Sneakers For Men',\n",
       " 'Series 7 Sneakers For Men',\n",
       " 'Sneakers Sneakers For Men',\n",
       " 'Easy Vulc 2.0 Sneakers For Men',\n",
       " 'Men SM-486 Tan Beige Sneakers For Men',\n",
       " 'Men 192 Sneakers For Men',\n",
       " 'Sneakers Sneakers For Men',\n",
       " 'Combo Pack of 4 Latest Collection Stylish Casual Loafer...',\n",
       " 'Wired SlipOn Sneakers For Men',\n",
       " 'Puma Smash v2 L Sneakers For Men',\n",
       " 'Sneakers For Men',\n",
       " 'Synthetic Leather Casual Partywear Wedding Sneakers Sho...',\n",
       " 'Puma Smash Vulc Sneakers For Men',\n",
       " 'Men SM-486 Tan Beige Sneakers For Men',\n",
       " 'Casual Sneakers Shoes For Men Sneakers For Men',\n",
       " 'Latest Stylish Casual sneakers for men | Lace up lightw...',\n",
       " 'BMW MMS Future Kart Cat Sneakers For Men',\n",
       " 'Firm IDP Sneakers For Men',\n",
       " 'Sneakers For Men',\n",
       " 'Sneakers for men(black_6) Sneakers For Men',\n",
       " 'Sneakers For Men',\n",
       " 'Cape IDP Sneakers For Men',\n",
       " 'Sneakers For Men',\n",
       " 'SM-482 Sneakers For Men',\n",
       " 'Sneakers For Men',\n",
       " 'Rebound BBX Perf IDP Sneakers For Men',\n",
       " 'Court Royale AC Sneakers For Men',\n",
       " 'Lazy Knit Slip On IDP Sneakers For Men',\n",
       " 'Casual Sneaker Sneakers For Men']"
      ]
     },
     "execution_count": 238,
     "metadata": {},
     "output_type": "execute_result"
    }
   ],
   "source": [
    "product_description"
   ]
  },
  {
   "cell_type": "code",
   "execution_count": 239,
   "id": "69b6ac9e",
   "metadata": {},
   "outputs": [
    {
     "data": {
      "text/plain": [
       "36"
      ]
     },
     "execution_count": 239,
     "metadata": {},
     "output_type": "execute_result"
    }
   ],
   "source": [
    "len(product_description)"
   ]
  },
  {
   "cell_type": "code",
   "execution_count": 240,
   "id": "bd0d8d13",
   "metadata": {},
   "outputs": [],
   "source": [
    "price_tags=driver.find_elements_by_xpath(\"//div[@class='_30jeq3']\")\n",
    "price= [] #empty list\n",
    "for i in price_tags:\n",
    "    price.append(i.text)\n"
   ]
  },
  {
   "cell_type": "code",
   "execution_count": 241,
   "id": "059d9fca",
   "metadata": {},
   "outputs": [
    {
     "data": {
      "text/plain": [
       "['₹569',\n",
       " '₹669',\n",
       " '₹669',\n",
       " '₹659',\n",
       " '₹214',\n",
       " '₹719',\n",
       " '₹1,715',\n",
       " '₹1,919',\n",
       " '₹1,047',\n",
       " '₹416',\n",
       " '₹398',\n",
       " '₹1,747',\n",
       " '₹1,049',\n",
       " '₹760',\n",
       " '₹299',\n",
       " '₹499',\n",
       " '₹1,664',\n",
       " '₹1,644',\n",
       " '₹1,258',\n",
       " '₹378',\n",
       " '₹515',\n",
       " '₹2,203',\n",
       " '₹999',\n",
       " '₹1,024',\n",
       " '₹474',\n",
       " '₹379',\n",
       " '₹3,919',\n",
       " '₹1,047',\n",
       " '₹1,258',\n",
       " '₹328',\n",
       " '₹446',\n",
       " '₹1,730',\n",
       " '₹1,784',\n",
       " '₹1,708',\n",
       " '₹965',\n",
       " '₹428',\n",
       " '₹1,849',\n",
       " '₹2,337',\n",
       " '₹1,529',\n",
       " '₹539']"
      ]
     },
     "execution_count": 241,
     "metadata": {},
     "output_type": "execute_result"
    }
   ],
   "source": [
    "price"
   ]
  },
  {
   "cell_type": "code",
   "execution_count": 242,
   "id": "0614e2f7",
   "metadata": {},
   "outputs": [
    {
     "data": {
      "text/plain": [
       "40"
      ]
     },
     "execution_count": 242,
     "metadata": {},
     "output_type": "execute_result"
    }
   ],
   "source": [
    "len(price)"
   ]
  },
  {
   "cell_type": "code",
   "execution_count": 243,
   "id": "17d895ef",
   "metadata": {},
   "outputs": [],
   "source": [
    "discount_tags=driver.find_elements_by_xpath(\"//div[@class='_3Ay6Sb']\")\n",
    "discount= [] #empty list\n",
    "for i in discount_tags:\n",
    "    discount.append(i.text)\n"
   ]
  },
  {
   "cell_type": "code",
   "execution_count": 244,
   "id": "2c9e2a62",
   "metadata": {},
   "outputs": [
    {
     "data": {
      "text/plain": [
       "['43% off',\n",
       " '10% off',\n",
       " '10% off',\n",
       " '34% off',\n",
       " '57% off',\n",
       " '71% off',\n",
       " '52% off',\n",
       " '52% off',\n",
       " '65% off',\n",
       " '58% off',\n",
       " '60% off',\n",
       " '54% off',\n",
       " '25% off',\n",
       " '23% off',\n",
       " '40% off',\n",
       " '81% off',\n",
       " '44% off',\n",
       " '53% off',\n",
       " '70% off',\n",
       " '62% off',\n",
       " '48% off',\n",
       " '42% off',\n",
       " '23% off',\n",
       " '26% off',\n",
       " '52% off',\n",
       " '62% off',\n",
       " '44% off',\n",
       " '70% off',\n",
       " '70% off',\n",
       " '74% off',\n",
       " '55% off',\n",
       " '51% off',\n",
       " '49% off',\n",
       " '70% off',\n",
       " '28% off',\n",
       " '57% off',\n",
       " '63% off',\n",
       " '48% off',\n",
       " '49% off',\n",
       " '46% off']"
      ]
     },
     "execution_count": 244,
     "metadata": {},
     "output_type": "execute_result"
    }
   ],
   "source": [
    "discount"
   ]
  },
  {
   "cell_type": "code",
   "execution_count": 245,
   "id": "a7d11db7",
   "metadata": {},
   "outputs": [
    {
     "data": {
      "text/plain": [
       "40"
      ]
     },
     "execution_count": 245,
     "metadata": {},
     "output_type": "execute_result"
    }
   ],
   "source": [
    "len(discount)"
   ]
  },
  {
   "cell_type": "markdown",
   "id": "f227351d",
   "metadata": {},
   "source": [
    "# Q10: Go to webpage https://www.amazon.in/"
   ]
  },
  {
   "cell_type": "code",
   "execution_count": 246,
   "id": "de1b7150",
   "metadata": {},
   "outputs": [],
   "source": [
    "import pandas as pd\n",
    "import selenium\n",
    "from selenium import webdriver\n"
   ]
  },
  {
   "cell_type": "code",
   "execution_count": 247,
   "id": "fb658586",
   "metadata": {},
   "outputs": [],
   "source": [
    "\n",
    "driver=webdriver.Chrome('chromedriver.exe')\n"
   ]
  },
  {
   "cell_type": "code",
   "execution_count": 248,
   "id": "211b57c2",
   "metadata": {},
   "outputs": [],
   "source": [
    "\n",
    "url='https://www.amazon.in/'\n"
   ]
  },
  {
   "cell_type": "code",
   "execution_count": 249,
   "id": "7056071c",
   "metadata": {},
   "outputs": [],
   "source": [
    "\n",
    "driver.get(url)\n"
   ]
  },
  {
   "cell_type": "code",
   "execution_count": 250,
   "id": "1c81b657",
   "metadata": {},
   "outputs": [
    {
     "data": {
      "text/plain": [
       "<selenium.webdriver.remote.webelement.WebElement (session=\"6748ed6fac914a486a8889f489f6fdd8\", element=\"7fa56be3-49b9-41ea-8677-f83a886be322\")>"
      ]
     },
     "execution_count": 250,
     "metadata": {},
     "output_type": "execute_result"
    }
   ],
   "source": [
    "search_product=driver.find_element_by_id(\"twotabsearchtextbox\")\n",
    "search_product\n"
   ]
  },
  {
   "cell_type": "code",
   "execution_count": 251,
   "id": "cd8d2f7d",
   "metadata": {},
   "outputs": [],
   "source": [
    "search_product.send_keys(\"Laptop\")"
   ]
  },
  {
   "cell_type": "code",
   "execution_count": 253,
   "id": "fae05f9f",
   "metadata": {},
   "outputs": [],
   "source": [
    "\n",
    "search_btn=driver.find_element_by_id(\"nav-search-submit-button\")\n",
    "search_btn.click()\n"
   ]
  },
  {
   "cell_type": "code",
   "execution_count": 255,
   "id": "9baf6968",
   "metadata": {},
   "outputs": [],
   "source": [
    "title_tags=driver.find_elements_by_xpath(\"//span[@class='a-size-medium a-color-base a-text-normal']\")\n",
    "title= [] #empty list\n",
    "for i in title_tags:\n",
    "    title.append(i.text)\n"
   ]
  },
  {
   "cell_type": "code",
   "execution_count": 256,
   "id": "e03efbdc",
   "metadata": {},
   "outputs": [
    {
     "data": {
      "text/plain": [
       "['ASUS ZenBook Pro Duo Intel Core i9-10980HK 10th Gen 15.6\" 4K UHD OLED Touchscreen Laptop (32GB RAM/1TB NVMe SSD/Windows 10/6GB NVIDIA GeForce RTX 2060 Graphics/Celestial Blue/2.5 Kg), UX581LV-H2035T',\n",
       " 'Dell XPS 9570 15.6\" (39.62cms) UHD Laptop (8th Gen i9-8950HK/32GB/1TB SSD/Win 10 + MS Office/Integrated Graphics), Silver',\n",
       " 'Lenovo Legion 7 10th Gen Intel Core i9 15.6 inch Full HD Gaming Laptop (16GB/1TB SSD/Windows 10/MS Office 2019/144 Hz/NVIDIA RTX 2080 8GB GDDR6 Graphics/Slate Grey/2.25Kg), 81YU006HIN',\n",
       " 'ASUS ROG Zephyrus Duo 15, 15.6\" FHD 300Hz/3ms, Intel Core i9-10980HK 10th Gen, RTX 2080 SUPER Max-Q 8GB Graphic, Gaming Laptop (32GB/2TB RAID 0 SSD/Office 2019/Windows 10/Gray/2.4 Kg) GX550LXS-HF168TS',\n",
       " 'ASUS ROG Strix Scar 17 (2020), 17.3\" FHD 300Hz/3ms, Intel Core i9-10980HK 10th Gen, RTX 2080 Super GDDR6 8GB Graphics, Gaming Laptop (32GB/2TB RAID 0 SSD/Windows 10/Black/2.99 Kg), G732LXS-HG059T',\n",
       " 'ASUS ROG Strix Scar 15 (2020), 15.6\" FHD 300Hz/3ms, Intel Core i9-10980HK 10th Gen, RTX 2070 Super 8GB Graphics, Gaming Laptop (32GB RAM/1TB NVMe SSD/Windows 10/Black/2.35 Kg), G532LWS-HF079T',\n",
       " '(Renewed) Dell XPS 9570 Laptop|i9-8950HK|32GB DDR4|1TB SSD|15.6\" 4K Touch|NVIDIA GTX 1050Ti 4GB|Win 10 HSL|Backlit',\n",
       " 'Dell G7 7500 15.6inch FHD 300 Hz Display Gaming Laptop (10th Gen i9-10885H / 16 GB / 1TB SSD / NVIDIA RTX 2070 8GB Graphics / 1Yr Premium Warranty / Win 10 + MS Office H&S 2019) D560233WIN9B, Black',\n",
       " 'Apple MacBook Pro (16-inch, 16GB RAM, 1TB Storage, 2.3GHz 9th Gen Intel Core i9) - Silver',\n",
       " 'HP Z4 Workstation, Intel Core i9-7900X, RAM 32GB (4x8GB), 2TB Hard Disk, GFX NVIDIA Quadro P2000 5GB (4) DP, Windows 10 Pro, DVDRW, 3 Yrs Onsite Warranty by HP']"
      ]
     },
     "execution_count": 256,
     "metadata": {},
     "output_type": "execute_result"
    }
   ],
   "source": [
    "title"
   ]
  },
  {
   "cell_type": "code",
   "execution_count": 257,
   "id": "46bb95a7",
   "metadata": {},
   "outputs": [
    {
     "data": {
      "text/plain": [
       "10"
      ]
     },
     "execution_count": 257,
     "metadata": {},
     "output_type": "execute_result"
    }
   ],
   "source": [
    "len(title)"
   ]
  },
  {
   "cell_type": "code",
   "execution_count": 258,
   "id": "84c47cd9",
   "metadata": {},
   "outputs": [],
   "source": [
    "price_tags=driver.find_elements_by_xpath(\"//span[@class='a-price-whole']\")\n",
    "price= [] #empty list\n",
    "for i in price_tags:\n",
    "    price.append(i.text)\n"
   ]
  },
  {
   "cell_type": "code",
   "execution_count": 259,
   "id": "97352b90",
   "metadata": {},
   "outputs": [
    {
     "data": {
      "text/plain": [
       "['3,04,999',\n",
       " '2,48,790',\n",
       " '2,62,990',\n",
       " '2,66,990',\n",
       " '2,77,490',\n",
       " '2,15,990',\n",
       " '2,00,690',\n",
       " '2,24,990',\n",
       " '2,69,900']"
      ]
     },
     "execution_count": 259,
     "metadata": {},
     "output_type": "execute_result"
    }
   ],
   "source": [
    "price"
   ]
  },
  {
   "cell_type": "code",
   "execution_count": 260,
   "id": "ee695c50",
   "metadata": {},
   "outputs": [
    {
     "data": {
      "text/plain": [
       "9"
      ]
     },
     "execution_count": 260,
     "metadata": {},
     "output_type": "execute_result"
    }
   ],
   "source": [
    "len(price)"
   ]
  },
  {
   "cell_type": "code",
   "execution_count": 263,
   "id": "4f3a07db",
   "metadata": {},
   "outputs": [],
   "source": [
    "rating_tags=driver.find_elements_by_xpath(\"//div[@class='a-row a-size-small']\")\n",
    "rating= [] #empty list\n",
    "for i in rating_tags:\n",
    "    rating.append(i.text)\n"
   ]
  },
  {
   "cell_type": "code",
   "execution_count": 264,
   "id": "aa013b50",
   "metadata": {},
   "outputs": [
    {
     "data": {
      "text/plain": [
       "['4', '25', '3', '7', '6', '3', '122', '2']"
      ]
     },
     "execution_count": 264,
     "metadata": {},
     "output_type": "execute_result"
    }
   ],
   "source": [
    "rating"
   ]
  },
  {
   "cell_type": "code",
   "execution_count": 265,
   "id": "a5e37a8f",
   "metadata": {},
   "outputs": [
    {
     "data": {
      "text/plain": [
       "8"
      ]
     },
     "execution_count": 265,
     "metadata": {},
     "output_type": "execute_result"
    }
   ],
   "source": [
    "len(rating)"
   ]
  },
  {
   "cell_type": "code",
   "execution_count": null,
   "id": "68cfd733",
   "metadata": {},
   "outputs": [],
   "source": []
  }
 ],
 "metadata": {
  "kernelspec": {
   "display_name": "Python 3",
   "language": "python",
   "name": "python3"
  },
  "language_info": {
   "codemirror_mode": {
    "name": "ipython",
    "version": 3
   },
   "file_extension": ".py",
   "mimetype": "text/x-python",
   "name": "python",
   "nbconvert_exporter": "python",
   "pygments_lexer": "ipython3",
   "version": "3.8.8"
  }
 },
 "nbformat": 4,
 "nbformat_minor": 5
}
